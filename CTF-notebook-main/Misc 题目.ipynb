{
 "cells": [
  {
   "cell_type": "markdown",
   "id": "89173386",
   "metadata": {},
   "source": [
    "# 图片类"
   ]
  },
  {
   "cell_type": "markdown",
   "id": "4d7be5e4",
   "metadata": {},
   "source": [
    "## 大白\n",
    "\n",
    "点开之后发现是一张图片\n",
    "\n",
    "根据题目提示，可能是图片宽高被修改了，使用 `010 editor` 打开，出现 `CRC` 匹配错误\n",
    "\n",
    "修改高度和宽度相同即可\n",
    "\n",
    "\n",
    "### 扩展知识：PNG 文件头部信息\n",
    "\n",
    "前八位 `89 50 4E 47 0D 0A 1A 0A` 表示这是一个PNG图片\n",
    "\n",
    "接着 `00 00 00 0D` 描述 IHDR 头部的大小\n",
    "\n",
    "接着 `49 48 44 52` 是Chunk Type Code, 这里Chunk Type Code=IHDR\n",
    "\n",
    "接着就是宽和高 分别占 4 bite"
   ]
  }
 ],
 "metadata": {
  "kernelspec": {
   "display_name": "Python 3 (ipykernel)",
   "language": "python",
   "name": "python3"
  },
  "language_info": {
   "codemirror_mode": {
    "name": "ipython",
    "version": 3
   },
   "file_extension": ".py",
   "mimetype": "text/x-python",
   "name": "python",
   "nbconvert_exporter": "python",
   "pygments_lexer": "ipython3",
   "version": "3.8.10"
  },
  "latex_envs": {
   "LaTeX_envs_menu_present": true,
   "autoclose": false,
   "autocomplete": true,
   "bibliofile": "biblio.bib",
   "cite_by": "apalike",
   "current_citInitial": 1,
   "eqLabelWithNumbers": true,
   "eqNumInitial": 1,
   "hotkeys": {
    "equation": "Ctrl-E",
    "itemize": "Ctrl-I"
   },
   "labels_anchors": false,
   "latex_user_defs": false,
   "report_style_numbering": false,
   "user_envs_cfg": false
  },
  "toc": {
   "base_numbering": 1,
   "nav_menu": {},
   "number_sections": true,
   "sideBar": true,
   "skip_h1_title": false,
   "title_cell": "Table of Contents",
   "title_sidebar": "Contents",
   "toc_cell": false,
   "toc_position": {},
   "toc_section_display": true,
   "toc_window_display": false
  }
 },
 "nbformat": 4,
 "nbformat_minor": 5
}
